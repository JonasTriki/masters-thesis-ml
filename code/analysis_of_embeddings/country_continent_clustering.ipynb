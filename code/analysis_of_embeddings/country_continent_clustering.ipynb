{
 "cells": [
  {
   "cell_type": "code",
   "execution_count": null,
   "metadata": {},
   "outputs": [],
   "source": [
    "# Imports\n",
    "from os import makedirs\n",
    "from os.path import join\n",
    "import re\n",
    "import pickle\n",
    "import numpy as np\n",
    "import pandas as pd\n",
    "rng_seed = 399\n",
    "np.random.seed(rng_seed)\n",
    "from scipy.spatial.distance import pdist, cdist, squareform\n",
    "from matplotlib import pyplot as plt\n",
    "import seaborn as sns\n",
    "sns.set_theme()\n",
    "from tqdm.auto import tqdm\n",
    "import sys\n",
    "sys.path.append(\"..\")\n",
    "\n",
    "import plotly.express as px\n",
    "import plotly.offline as pyo\n",
    "pyo.init_notebook_mode()\n",
    "\n",
    "from umap import UMAP\n",
    "from sklearn.decomposition import PCA\n",
    "\n",
    "from sklearn.model_selection import ParameterGrid\n",
    "from sklearn.cluster import KMeans\n",
    "from sklearn.metrics import silhouette_score\n",
    "from sklearn.metrics.pairwise import pairwise_distances\n",
    "\n",
    "import gudhi as gd\n",
    "\n",
    "from utils import get_model_checkpoint_filepaths, pairwise_cosine_distances\n",
    "from analysis_utils import words_in_clusters, plot_silhouette_scores\n",
    "from text_preprocessing_utils import preprocess_text"
   ]
  },
  {
   "cell_type": "markdown",
   "metadata": {},
   "source": [
    "## Prepare data"
   ]
  },
  {
   "cell_type": "code",
   "execution_count": null,
   "metadata": {},
   "outputs": [],
   "source": [
    "# Get last word embeddings from training\n",
    "checkpoint_filepaths_dict = get_model_checkpoint_filepaths(\n",
    "    output_dir=\"../output/word2vec_training/03-Nov-2020_11-01-00\",\n",
    "    model_name=\"word2vec\",\n",
    "    dataset_name=\"enwiki\",\n",
    ")\n",
    "last_embedding_weights_filepath = checkpoint_filepaths_dict[\"intermediate_embedding_weight_filepaths\"][-1]\n",
    "last_embedding_weights = np.load(last_embedding_weights_filepath, mmap_mode=\"r\").astype(np.float64)"
   ]
  },
  {
   "cell_type": "code",
   "execution_count": null,
   "metadata": {},
   "outputs": [],
   "source": [
    "# Load words and create word to int lookup dict\n",
    "with open(checkpoint_filepaths_dict[\"train_words_filepath\"], \"r\") as file:\n",
    "    words = np.array(file.read().split(\"\\n\"))\n",
    "word_to_int = {word: i for i, word in enumerate(words)}"
   ]
  },
  {
   "cell_type": "code",
   "execution_count": null,
   "metadata": {},
   "outputs": [],
   "source": [
    "# Load country-capital data\n",
    "country_capital_df = pd.read_csv(\"data/country-info.csv\")"
   ]
  },
  {
   "cell_type": "code",
   "execution_count": null,
   "metadata": {},
   "outputs": [],
   "source": [
    "country_capital_pairs_in_vocab = country_capital_df[[\"country\", \"capital\"]].isin(words).apply(all, axis=1)\n",
    "country_capital_in_vocab_df = country_capital_df[country_capital_pairs_in_vocab]\n",
    "print(f\"Total {len(country_capital_df)} country/capital pairs, of them {len(country_capital_in_vocab_df)} in vocabulary.\")"
   ]
  },
  {
   "cell_type": "code",
   "execution_count": null,
   "metadata": {},
   "outputs": [],
   "source": [
    "country_capital_in_vocab_df"
   ]
  },
  {
   "cell_type": "markdown",
   "metadata": {},
   "source": [
    "## Visualize countries with continent as label"
   ]
  },
  {
   "cell_type": "code",
   "execution_count": null,
   "metadata": {},
   "outputs": [],
   "source": [
    "fig = px.scatter(\n",
    "    country_capital_in_vocab_df,\n",
    "    x=\"longitude\",\n",
    "    y=\"latitude\",\n",
    "    title=\"Capitals of countries of the world in lat/lng coordinates\",\n",
    "    labels={\"longitude\": \"Longitude\", \"latitude\": \"Latitude\"},\n",
    "    color=\"region\",\n",
    "    hover_data=[\"country\", \"capital\"]\n",
    ")\n",
    "fig.show()"
   ]
  },
  {
   "cell_type": "markdown",
   "metadata": {},
   "source": [
    "## Compute cluster labels using country words and capital words"
   ]
  },
  {
   "cell_type": "code",
   "execution_count": null,
   "metadata": {},
   "outputs": [],
   "source": [
    "def cluster_country_capital_words(words: np.ndarray, embedding_weights: np.ndarray, word_to_int: dict, cluster_sizes: list, embedders: list):\n",
    "    \"\"\"\n",
    "    TODO: Docs\n",
    "    \"\"\"\n",
    "    # Create array with word vectors\n",
    "    word_vecs = np.zeros((len(words), embedding_weights.shape[1]))\n",
    "    for i, word in enumerate(words):\n",
    "        word_vecs[i] = embedding_weights[word_to_int[word]]\n",
    "    \n",
    "    # Compute cluster labels\n",
    "    cluster_labels = {}\n",
    "    for k in cluster_sizes:\n",
    "        cluster_labels[k] = KMeans(n_clusters=k).fit_predict(word_vecs)\n",
    "\n",
    "    # Create embeddings\n",
    "    embeddings = {}\n",
    "    for embedding_name, embedders in embedders:\n",
    "        embeddings[embedding_name] = embedders.fit_transform(word_vecs)\n",
    "    \n",
    "    return word_vecs, cluster_labels, embeddings"
   ]
  },
  {
   "cell_type": "code",
   "execution_count": null,
   "metadata": {},
   "outputs": [],
   "source": [
    "# Get word vectors of country capitals\n",
    "countries = country_capital_in_vocab_df[\"country\"].values\n",
    "country_capitals = country_capital_in_vocab_df[\"capital\"].values\n",
    "\n",
    "# Constants\n",
    "country_capital_cluster_sizes = [5] # [5, 6, 7]\n",
    "country_capital_embedders = [\n",
    "    (\"PCA\", PCA(\n",
    "        n_components=2,\n",
    "        random_state=rng_seed\n",
    "    )),\n",
    "    (\"UMAP\", UMAP(\n",
    "        n_components=2,\n",
    "        #n_neighbors=20,\n",
    "        #min_dist=0.15,\n",
    "        metric=\"cosine\",\n",
    "        random_state=rng_seed\n",
    "    )),\n",
    "]\n",
    "\n",
    "# -- Do clustering --\n",
    "# - Country words\n",
    "country_word_vecs, country_cluster_labels, country_embeddings = cluster_country_capital_words(\n",
    "    words=countries,\n",
    "    embedding_weights=last_embedding_weights,\n",
    "    word_to_int=word_to_int,\n",
    "    cluster_sizes=country_capital_cluster_sizes,\n",
    "    embedders=country_capital_embedders\n",
    ")\n",
    "\n",
    "# - Capital words\n",
    "country_capital_word_vecs, country_capital_cluster_labels, country_capital_embeddings = cluster_country_capital_words(\n",
    "    words=country_capitals,\n",
    "    embedding_weights=last_embedding_weights,\n",
    "    word_to_int=word_to_int,\n",
    "    cluster_sizes=country_capital_cluster_sizes,\n",
    "    embedders=country_capital_embedders\n",
    ")"
   ]
  },
  {
   "cell_type": "code",
   "execution_count": null,
   "metadata": {},
   "outputs": [],
   "source": [
    "def visualize_country_capital_embedding(\n",
    "    cluster_labels: dict,\n",
    "    word_vector_embeddings: np.ndarray,\n",
    "    coordinate_system: str,\n",
    "    countries: np.ndarray,\n",
    "    capitals: np.ndarray,\n",
    "    print_countries_in_clusters: bool = False\n",
    "):\n",
    "    \"\"\"\n",
    "    TODO: Docs\n",
    "    \"\"\"\n",
    "    # Visualize embedding\n",
    "    for cluster_size, cluster_labels in cluster_labels.items():\n",
    "\n",
    "        # Plot\n",
    "        fig = px.scatter(\n",
    "            x=word_vector_embeddings[:, 0],\n",
    "            y=word_vector_embeddings[:, 1],\n",
    "            title=f\"Capitals of countries of the world in {coordinate_system} coordinates with {cluster_size} clusters\",\n",
    "            labels={\"x\": \"x1\", \"y\": \"x2\"},\n",
    "            color=cluster_labels,\n",
    "            hover_data={\"country\": countries, \"capital\": country_capitals}\n",
    "        )\n",
    "        fig.show()\n",
    "\n",
    "        if print_countries_in_clusters:\n",
    "            cluster_words, _ = words_in_clusters(cluster_labels, countries)\n",
    "            print(\"-- Countries (and regions) in clusters --\")\n",
    "            for word_cluster in cluster_words:\n",
    "                print(\"Countries\", word_cluster)\n",
    "\n",
    "                regions = country_capital_in_vocab_df[country_capital_in_vocab_df[\"country\"].isin(word_cluster)][\"region\"].values\n",
    "                print(\"Regions\", regions)\n",
    "                print()"
   ]
  },
  {
   "cell_type": "code",
   "execution_count": null,
   "metadata": {
    "scrolled": false
   },
   "outputs": [],
   "source": [
    "# Lat/lng visualization - using countries for clustering\n",
    "visualize_country_capital_embedding(\n",
    "    cluster_labels=country_cluster_labels,\n",
    "    word_vector_embeddings=country_capital_in_vocab_df[[\"longitude\", \"latitude\"]].values,\n",
    "    coordinate_system=\"lat/lng\",\n",
    "    countries=countries,\n",
    "    capitals=country_capitals,\n",
    "    print_countries_in_clusters=False\n",
    ")"
   ]
  },
  {
   "cell_type": "code",
   "execution_count": null,
   "metadata": {
    "scrolled": false
   },
   "outputs": [],
   "source": [
    "# Lat/lng visualization - using capital of countries for clustering\n",
    "visualize_country_capital_embedding(\n",
    "    cluster_labels=country_capital_cluster_labels,\n",
    "    word_vector_embeddings=country_capital_in_vocab_df[[\"longitude\", \"latitude\"]].values,\n",
    "    coordinate_system=\"lat/lng\",\n",
    "    countries=countries,\n",
    "    capitals=country_capitals,\n",
    "    print_countries_in_clusters=False\n",
    ")"
   ]
  },
  {
   "cell_type": "code",
   "execution_count": null,
   "metadata": {
    "scrolled": false
   },
   "outputs": [],
   "source": [
    "# UMAP visualization - using countries for clustering\n",
    "visualize_country_capital_embedding(\n",
    "    cluster_labels=country_cluster_labels,\n",
    "    word_vector_embeddings=country_embeddings[\"UMAP\"],\n",
    "    coordinate_system=\"UMAP\",\n",
    "    countries=countries,\n",
    "    capitals=country_capitals,\n",
    "    print_countries_in_clusters=False\n",
    ")"
   ]
  },
  {
   "cell_type": "code",
   "execution_count": null,
   "metadata": {
    "scrolled": false
   },
   "outputs": [],
   "source": [
    "# UMAP visualization - using capital of countries for clustering\n",
    "visualize_country_capital_embedding(\n",
    "    cluster_labels=country_capital_cluster_labels,\n",
    "    word_vector_embeddings=country_embeddings[\"UMAP\"],\n",
    "    coordinate_system=\"UMAP\",\n",
    "    countries=countries,\n",
    "    capitals=country_capitals,\n",
    "    print_countries_in_clusters=False\n",
    ")"
   ]
  },
  {
   "cell_type": "code",
   "execution_count": null,
   "metadata": {
    "scrolled": false
   },
   "outputs": [],
   "source": [
    "# PCA visualization - using countries for clustering\n",
    "visualize_country_capital_embedding(\n",
    "    cluster_labels=country_cluster_labels,\n",
    "    word_vector_embeddings=country_embeddings[\"PCA\"],\n",
    "    coordinate_system=\"PCA\",\n",
    "    countries=countries,\n",
    "    capitals=country_capitals,\n",
    "    print_countries_in_clusters=False\n",
    ")"
   ]
  },
  {
   "cell_type": "code",
   "execution_count": null,
   "metadata": {
    "scrolled": false
   },
   "outputs": [],
   "source": [
    "# PCA visualization - using capital of countries for clustering\n",
    "visualize_country_capital_embedding(\n",
    "    cluster_labels=country_capital_cluster_labels,\n",
    "    word_vector_embeddings=country_embeddings[\"PCA\"],\n",
    "    coordinate_system=\"PCA\",\n",
    "    countries=countries,\n",
    "    capitals=country_capitals,\n",
    "    print_countries_in_clusters=False\n",
    ")"
   ]
  },
  {
   "cell_type": "markdown",
   "metadata": {},
   "source": [
    "## VR-complex and persitence diagrams of countries and capitals"
   ]
  },
  {
   "cell_type": "code",
   "execution_count": null,
   "metadata": {},
   "outputs": [],
   "source": [
    "# Precompute cosine distance matrix\n",
    "word_embeddings_distances_country = pairwise_cosine_distances(country_word_vecs)\n",
    "word_embeddings_distances_country_capital = pairwise_cosine_distances(country_capital_word_vecs)\n",
    "precomputed_distances_matrices = [\n",
    "    (\"Country\", word_embeddings_distances_country),\n",
    "    (\"Country capital\", word_embeddings_distances_country_capital)\n",
    "]"
   ]
  },
  {
   "cell_type": "code",
   "execution_count": null,
   "metadata": {},
   "outputs": [],
   "source": [
    "for name, distance_matrix in precomputed_distances_matrices:\n",
    "    print(f\"-- {name} --\")\n",
    "    \n",
    "    # Building Vietoris-Rips complex \n",
    "    skeleton_word2vec = gd.RipsComplex(\n",
    "        distance_matrix=distance_matrix,\n",
    "        # max_edge_length=0.8\n",
    "    )\n",
    "    \n",
    "    simplex_tree = skeleton_word2vec.create_simplex_tree(max_dimension=2)\n",
    "    barcodes = simplex_tree.persistence()\n",
    "    gd.plot_persistence_diagram(barcodes)\n",
    "    plt.show()"
   ]
  }
 ],
 "metadata": {
  "kernelspec": {
   "display_name": "Python 3",
   "language": "python",
   "name": "python3"
  },
  "language_info": {
   "codemirror_mode": {
    "name": "ipython",
    "version": 3
   },
   "file_extension": ".py",
   "mimetype": "text/x-python",
   "name": "python",
   "nbconvert_exporter": "python",
   "pygments_lexer": "ipython3",
   "version": "3.6.11"
  }
 },
 "nbformat": 4,
 "nbformat_minor": 4
}
