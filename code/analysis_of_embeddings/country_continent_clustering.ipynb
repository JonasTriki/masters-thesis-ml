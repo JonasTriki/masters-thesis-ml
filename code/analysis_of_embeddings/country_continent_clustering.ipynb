{
 "cells": [
  {
   "cell_type": "code",
   "execution_count": null,
   "metadata": {},
   "outputs": [],
   "source": [
    "# Imports\n",
    "from os import makedirs\n",
    "from os.path import join\n",
    "import pickle\n",
    "import numpy as np\n",
    "import pandas as pd\n",
    "rng_seed = 399\n",
    "np.random.seed(rng_seed)\n",
    "from scipy.spatial.distance import pdist, cdist, squareform\n",
    "from matplotlib import pyplot as plt\n",
    "import seaborn as sns\n",
    "sns.set_theme()\n",
    "from tqdm.auto import tqdm\n",
    "import sys\n",
    "sys.path.append(\"..\")\n",
    "\n",
    "import plotly.express as px\n",
    "import plotly.offline as pyo\n",
    "pyo.init_notebook_mode()\n",
    "\n",
    "from umap import UMAP\n",
    "from sklearn.decomposition import PCA\n",
    "\n",
    "from sklearn.model_selection import ParameterGrid\n",
    "from sklearn.cluster import KMeans\n",
    "from sklearn.metrics import silhouette_score\n",
    "from sklearn.metrics.pairwise import pairwise_distances\n",
    "\n",
    "from utils import get_model_checkpoint_filepaths\n",
    "from analysis_utils import words_in_clusters, plot_silhouette_scores"
   ]
  },
  {
   "cell_type": "code",
   "execution_count": null,
   "metadata": {},
   "outputs": [],
   "source": [
    "# Get last word embeddings from training\n",
    "checkpoint_filepaths_dict = get_model_checkpoint_filepaths(\n",
    "    output_dir=\"../output/word2vec_training/17-Oct-2020_01-00-56\",\n",
    "    model_name=\"word2vec\",\n",
    "    dataset_name=\"enwiki\",\n",
    ")\n",
    "last_embedding_weights_filepath = checkpoint_filepaths_dict[\"intermediate_embedding_weight_filepaths\"][-1]\n",
    "last_embedding_weights = np.load(last_embedding_weights_filepath, mmap_mode=\"r\").astype(np.float64)"
   ]
  },
  {
   "cell_type": "code",
   "execution_count": null,
   "metadata": {},
   "outputs": [],
   "source": [
    "# Load words and create word to int lookup dict\n",
    "with open(checkpoint_filepaths_dict[\"train_words_filepath\"], \"r\") as file:\n",
    "    words = np.array(file.read().split(\"\\n\"))\n",
    "word_to_int = {word: i for i, word in enumerate(words)}"
   ]
  },
  {
   "cell_type": "code",
   "execution_count": null,
   "metadata": {},
   "outputs": [],
   "source": [
    "# Load country-capital data\n",
    "country_capital_df = pd.read_csv(\"data/country_capitals.csv\")\n",
    "country_capital_pairs_in_vocab = country_capital_df[[\"country\", \"city\"]].isin(words).apply(all, axis=1)\n",
    "country_capital_in_vocab_df = country_capital_df[country_capital_pairs_in_vocab]\n",
    "print(f\"Total {len(country_capital_df)} country/capital pairs, of them {len(country_capital_in_vocab_df)} in vocabulary.\")"
   ]
  },
  {
   "cell_type": "code",
   "execution_count": null,
   "metadata": {},
   "outputs": [],
   "source": [
    "fig = px.scatter(\n",
    "    country_capital_df,\n",
    "    x=\"lng\",\n",
    "    y=\"lat\",\n",
    "    title=\"Capitals of countries of the world in lat/lng coordinates\",\n",
    "    labels={\"lng\": \"Longitude\", \"lat\": \"Latitude\"},\n",
    "    hover_data=[\"country\", \"city\"]\n",
    ")\n",
    "fig.show()"
   ]
  },
  {
   "cell_type": "code",
   "execution_count": null,
   "metadata": {},
   "outputs": [],
   "source": [
    "# Get word vectors of country capitals\n",
    "countries = country_capital_in_vocab_df[\"country\"].values\n",
    "country_capitals = country_capital_in_vocab_df[\"city\"].values\n",
    "city_word_vecs = np.zeros((len(country_capitals), last_embedding_weights.shape[1]))\n",
    "for i, city in enumerate(cities):\n",
    "    city_word_vecs[i] = last_embedding_weights[word_to_int[city]]"
   ]
  },
  {
   "cell_type": "code",
   "execution_count": null,
   "metadata": {},
   "outputs": [],
   "source": [
    "# Compute cluster labels\n",
    "country_capital_cluster_sizes = [5, 6, 7]\n",
    "country_capital_cluster_labels = []\n",
    "for k in country_capital_cluster_sizes:\n",
    "    cluster_labels = KMeans(n_clusters=k).fit_predict(city_word_vecs)\n",
    "    country_capital_cluster_labels.append(cluster_labels)"
   ]
  },
  {
   "cell_type": "code",
   "execution_count": null,
   "metadata": {},
   "outputs": [],
   "source": [
    "# Compute 2D UMAP embedding\n",
    "city_word_vecs_umap_2d = UMAP(\n",
    "    n_components=2,\n",
    "    n_neighbors=20,\n",
    "    min_dist=0.15,\n",
    "    metric=\"cosine\",\n",
    ").fit_transform(city_word_vecs)"
   ]
  },
  {
   "cell_type": "code",
   "execution_count": null,
   "metadata": {},
   "outputs": [],
   "source": [
    "# Visualize embedding\n",
    "for cluster_size, cluster_labels in zip(country_capital_cluster_sizes, country_capital_cluster_labels):\n",
    "    fig = px.scatter(\n",
    "        x=city_word_vecs_umap_2d[:, 0],\n",
    "        y=city_word_vecs_umap_2d[:, 1],\n",
    "        title=f\"Capitals of countries of the world in UMAP coordinates with {cluster_size} clusters\",\n",
    "        labels={\"x\": \"UMAP 1\", \"y\": \"UMAP 2\"},\n",
    "        color=cluster_labels,\n",
    "        hover_data={\"country\": countries, \"capital\": country_capitals}\n",
    "    )\n",
    "    fig.show()"
   ]
  }
 ],
 "metadata": {
  "kernelspec": {
   "display_name": "Python 3",
   "language": "python",
   "name": "python3"
  },
  "language_info": {
   "codemirror_mode": {
    "name": "ipython",
    "version": 3
   },
   "file_extension": ".py",
   "mimetype": "text/x-python",
   "name": "python",
   "nbconvert_exporter": "python",
   "pygments_lexer": "ipython3",
   "version": "3.6.9"
  }
 },
 "nbformat": 4,
 "nbformat_minor": 4
}
