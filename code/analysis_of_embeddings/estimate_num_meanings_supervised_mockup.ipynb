{
 "cells": [
  {
   "cell_type": "code",
   "execution_count": 1,
   "id": "falling-water",
   "metadata": {},
   "outputs": [
    {
     "data": {
      "application/javascript": [
       "\n",
       "            setTimeout(function() {\n",
       "                var nbb_cell_id = 1;\n",
       "                var nbb_unformatted_code = \"%load_ext nb_black\";\n",
       "                var nbb_formatted_code = \"%load_ext nb_black\";\n",
       "                var nbb_cells = Jupyter.notebook.get_cells();\n",
       "                for (var i = 0; i < nbb_cells.length; ++i) {\n",
       "                    if (nbb_cells[i].input_prompt_number == nbb_cell_id) {\n",
       "                        if (nbb_cells[i].get_text() == nbb_unformatted_code) {\n",
       "                             nbb_cells[i].set_text(nbb_formatted_code);\n",
       "                        }\n",
       "                        break;\n",
       "                    }\n",
       "                }\n",
       "            }, 500);\n",
       "            "
      ],
      "text/plain": [
       "<IPython.core.display.Javascript object>"
      ]
     },
     "metadata": {},
     "output_type": "display_data"
    }
   ],
   "source": [
    "%load_ext nb_black"
   ]
  },
  {
   "cell_type": "code",
   "execution_count": 2,
   "id": "broad-paris",
   "metadata": {},
   "outputs": [
    {
     "data": {
      "application/javascript": [
       "\n",
       "            setTimeout(function() {\n",
       "                var nbb_cell_id = 2;\n",
       "                var nbb_unformatted_code = \"from os.path import join\\nimport numpy as np\\nfrom tqdm.auto import tqdm\\nimport pandas as pd\\nfrom scipy.stats import pearsonr\\n\\nrng_seed = 399\\nnp.random.seed(rng_seed)\\nimport persim\\nimport joblib\\n\\nfrom matplotlib import pyplot as plt\\nfrom sklearn.model_selection import train_test_split, GridSearchCV\\nfrom sklearn.ensemble import RandomForestRegressor\\nfrom sklearn.metrics import mean_squared_error\\nfrom sklearn.linear_model import Lasso, LassoCV\\nfrom sklearn.preprocessing import minmax_scale\\n\\nimport tensorflow as tf\\n\\ntry:\\n    # Disable all GPUS\\n    tf.config.set_visible_devices([], \\\"GPU\\\")\\n    visible_devices = tf.config.get_visible_devices()\\n    for device in visible_devices:\\n        assert device.device_type != \\\"GPU\\\"\\nexcept:\\n    # Invalid device or cannot modify virtual devices once initialized.\\n    pass\\n\\nfrom tensorflow.keras.activations import relu\\nfrom tensorflow.keras.layers import Dense, Input\\nfrom tensorflow.keras.losses import MSE\\nfrom tensorflow.keras.models import Model\\nfrom tensorflow.keras.optimizers import SGD, Adam\\nfrom tensorflow.keras.regularizers import l1\\nfrom tensorflow.keras.wrappers.scikit_learn import KerasRegressor\\n\\n# Directory constants\\nroot_code_dir = \\\"..\\\"\\noutput_dir = join(root_code_dir, \\\"output\\\")\\nword2vec_training_dir = join(output_dir, \\\"word2vec_training\\\")\\nword2vec_ann_indices_dir = join(output_dir, \\\"word2vec_ann_indices\\\")\\nword2vec_cluster_analysis_dir = join(output_dir, \\\"word2vec_cluster_analysis\\\")\\n\\n# Extend sys path for importing custom Python files\\nimport sys\\n\\nsys.path.append(root_code_dir)\\n\\nfrom topological_data_analysis.topological_polysemy import tps\\nfrom word_embeddings.word2vec import load_model_training_output\";\n",
       "                var nbb_formatted_code = \"from os.path import join\\nimport numpy as np\\nfrom tqdm.auto import tqdm\\nimport pandas as pd\\nfrom scipy.stats import pearsonr\\n\\nrng_seed = 399\\nnp.random.seed(rng_seed)\\nimport persim\\nimport joblib\\n\\nfrom matplotlib import pyplot as plt\\nfrom sklearn.model_selection import train_test_split, GridSearchCV\\nfrom sklearn.ensemble import RandomForestRegressor\\nfrom sklearn.metrics import mean_squared_error\\nfrom sklearn.linear_model import Lasso, LassoCV\\nfrom sklearn.preprocessing import minmax_scale\\n\\nimport tensorflow as tf\\n\\ntry:\\n    # Disable all GPUS\\n    tf.config.set_visible_devices([], \\\"GPU\\\")\\n    visible_devices = tf.config.get_visible_devices()\\n    for device in visible_devices:\\n        assert device.device_type != \\\"GPU\\\"\\nexcept:\\n    # Invalid device or cannot modify virtual devices once initialized.\\n    pass\\n\\nfrom tensorflow.keras.activations import relu\\nfrom tensorflow.keras.layers import Dense, Input\\nfrom tensorflow.keras.losses import MSE\\nfrom tensorflow.keras.models import Model\\nfrom tensorflow.keras.optimizers import SGD, Adam\\nfrom tensorflow.keras.regularizers import l1\\nfrom tensorflow.keras.wrappers.scikit_learn import KerasRegressor\\n\\n# Directory constants\\nroot_code_dir = \\\"..\\\"\\noutput_dir = join(root_code_dir, \\\"output\\\")\\nword2vec_training_dir = join(output_dir, \\\"word2vec_training\\\")\\nword2vec_ann_indices_dir = join(output_dir, \\\"word2vec_ann_indices\\\")\\nword2vec_cluster_analysis_dir = join(output_dir, \\\"word2vec_cluster_analysis\\\")\\n\\n# Extend sys path for importing custom Python files\\nimport sys\\n\\nsys.path.append(root_code_dir)\\n\\nfrom topological_data_analysis.topological_polysemy import tps\\nfrom word_embeddings.word2vec import load_model_training_output\";\n",
       "                var nbb_cells = Jupyter.notebook.get_cells();\n",
       "                for (var i = 0; i < nbb_cells.length; ++i) {\n",
       "                    if (nbb_cells[i].input_prompt_number == nbb_cell_id) {\n",
       "                        if (nbb_cells[i].get_text() == nbb_unformatted_code) {\n",
       "                             nbb_cells[i].set_text(nbb_formatted_code);\n",
       "                        }\n",
       "                        break;\n",
       "                    }\n",
       "                }\n",
       "            }, 500);\n",
       "            "
      ],
      "text/plain": [
       "<IPython.core.display.Javascript object>"
      ]
     },
     "metadata": {},
     "output_type": "display_data"
    }
   ],
   "source": [
    "from os.path import join\n",
    "import numpy as np\n",
    "from tqdm.auto import tqdm\n",
    "import pandas as pd\n",
    "from scipy.stats import pearsonr\n",
    "\n",
    "rng_seed = 399\n",
    "np.random.seed(rng_seed)\n",
    "import persim\n",
    "import joblib\n",
    "\n",
    "from matplotlib import pyplot as plt\n",
    "from sklearn.model_selection import train_test_split, GridSearchCV\n",
    "from sklearn.ensemble import RandomForestRegressor\n",
    "from sklearn.metrics import mean_squared_error\n",
    "from sklearn.linear_model import Lasso, LassoCV\n",
    "from sklearn.preprocessing import minmax_scale\n",
    "\n",
    "import tensorflow as tf\n",
    "\n",
    "try:\n",
    "    # Disable all GPUS\n",
    "    tf.config.set_visible_devices([], \"GPU\")\n",
    "    visible_devices = tf.config.get_visible_devices()\n",
    "    for device in visible_devices:\n",
    "        assert device.device_type != \"GPU\"\n",
    "except:\n",
    "    # Invalid device or cannot modify virtual devices once initialized.\n",
    "    pass\n",
    "\n",
    "from tensorflow.keras.activations import relu\n",
    "from tensorflow.keras.layers import Dense, Input\n",
    "from tensorflow.keras.losses import MSE\n",
    "from tensorflow.keras.models import Model\n",
    "from tensorflow.keras.optimizers import SGD, Adam\n",
    "from tensorflow.keras.regularizers import l1\n",
    "from tensorflow.keras.wrappers.scikit_learn import KerasRegressor\n",
    "\n",
    "# Directory constants\n",
    "root_code_dir = \"..\"\n",
    "output_dir = join(root_code_dir, \"output\")\n",
    "word2vec_training_dir = join(output_dir, \"word2vec_training\")\n",
    "word2vec_ann_indices_dir = join(output_dir, \"word2vec_ann_indices\")\n",
    "word2vec_cluster_analysis_dir = join(output_dir, \"word2vec_cluster_analysis\")\n",
    "\n",
    "# Extend sys path for importing custom Python files\n",
    "import sys\n",
    "\n",
    "sys.path.append(root_code_dir)\n",
    "\n",
    "from topological_data_analysis.topological_polysemy import tps\n",
    "from word_embeddings.word2vec import load_model_training_output"
   ]
  },
  {
   "cell_type": "markdown",
   "id": "right-outside",
   "metadata": {},
   "source": [
    "## Prepare data"
   ]
  },
  {
   "cell_type": "code",
   "execution_count": 3,
   "id": "adopted-specialist",
   "metadata": {},
   "outputs": [
    {
     "data": {
      "application/javascript": [
       "\n",
       "            setTimeout(function() {\n",
       "                var nbb_cell_id = 3;\n",
       "                var nbb_unformatted_code = \"word_meaning_train_data = pd.read_csv(\\\"data/word_meaning_train_data.csv\\\")\\nword_meaning_test_data = pd.read_csv(\\\"data/word_meaning_test_data.csv\\\")\";\n",
       "                var nbb_formatted_code = \"word_meaning_train_data = pd.read_csv(\\\"data/word_meaning_train_data.csv\\\")\\nword_meaning_test_data = pd.read_csv(\\\"data/word_meaning_test_data.csv\\\")\";\n",
       "                var nbb_cells = Jupyter.notebook.get_cells();\n",
       "                for (var i = 0; i < nbb_cells.length; ++i) {\n",
       "                    if (nbb_cells[i].input_prompt_number == nbb_cell_id) {\n",
       "                        if (nbb_cells[i].get_text() == nbb_unformatted_code) {\n",
       "                             nbb_cells[i].set_text(nbb_formatted_code);\n",
       "                        }\n",
       "                        break;\n",
       "                    }\n",
       "                }\n",
       "            }, 500);\n",
       "            "
      ],
      "text/plain": [
       "<IPython.core.display.Javascript object>"
      ]
     },
     "metadata": {},
     "output_type": "display_data"
    }
   ],
   "source": [
    "word_meaning_train_data = pd.read_csv(\"data/word_meaning_train_data.csv\")\n",
    "word_meaning_test_data = pd.read_csv(\"data/word_meaning_test_data.csv\")"
   ]
  },
  {
   "cell_type": "code",
   "execution_count": 4,
   "id": "protecting-nevada",
   "metadata": {},
   "outputs": [
    {
     "name": "stdout",
     "output_type": "stream",
     "text": [
      "Train\n"
     ]
    },
    {
     "data": {
      "text/html": [
       "<div>\n",
       "<style scoped>\n",
       "    .dataframe tbody tr th:only-of-type {\n",
       "        vertical-align: middle;\n",
       "    }\n",
       "\n",
       "    .dataframe tbody tr th {\n",
       "        vertical-align: top;\n",
       "    }\n",
       "\n",
       "    .dataframe thead th {\n",
       "        text-align: right;\n",
       "    }\n",
       "</style>\n",
       "<table border=\"1\" class=\"dataframe\">\n",
       "  <thead>\n",
       "    <tr style=\"text-align: right;\">\n",
       "      <th></th>\n",
       "      <th>word</th>\n",
       "      <th>word_int</th>\n",
       "      <th>estimated_id</th>\n",
       "      <th>y</th>\n",
       "      <th>tps_10</th>\n",
       "      <th>tps_10_bottle</th>\n",
       "      <th>tps_20</th>\n",
       "      <th>tps_20_bottle</th>\n",
       "      <th>tps_30</th>\n",
       "      <th>tps_30_bottle</th>\n",
       "      <th>...</th>\n",
       "      <th>tps_60</th>\n",
       "      <th>tps_60_bottle</th>\n",
       "      <th>tps_70</th>\n",
       "      <th>tps_70_bottle</th>\n",
       "      <th>tps_80</th>\n",
       "      <th>tps_80_bottle</th>\n",
       "      <th>tps_90</th>\n",
       "      <th>tps_90_bottle</th>\n",
       "      <th>tps_100</th>\n",
       "      <th>tps_100_bottle</th>\n",
       "    </tr>\n",
       "  </thead>\n",
       "  <tbody>\n",
       "    <tr>\n",
       "      <th>0</th>\n",
       "      <td>in</td>\n",
       "      <td>3</td>\n",
       "      <td>30</td>\n",
       "      <td>7</td>\n",
       "      <td>3.538264</td>\n",
       "      <td>0.910392</td>\n",
       "      <td>7.118446</td>\n",
       "      <td>0.836348</td>\n",
       "      <td>10.411342</td>\n",
       "      <td>0.836348</td>\n",
       "      <td>...</td>\n",
       "      <td>20.233566</td>\n",
       "      <td>0.829150</td>\n",
       "      <td>23.213781</td>\n",
       "      <td>0.829150</td>\n",
       "      <td>26.250456</td>\n",
       "      <td>0.828962</td>\n",
       "      <td>29.300718</td>\n",
       "      <td>0.828962</td>\n",
       "      <td>32.571709</td>\n",
       "      <td>0.892880</td>\n",
       "    </tr>\n",
       "    <tr>\n",
       "      <th>1</th>\n",
       "      <td>a</td>\n",
       "      <td>4</td>\n",
       "      <td>40</td>\n",
       "      <td>7</td>\n",
       "      <td>3.240516</td>\n",
       "      <td>0.794993</td>\n",
       "      <td>6.349379</td>\n",
       "      <td>0.741577</td>\n",
       "      <td>9.509350</td>\n",
       "      <td>0.741577</td>\n",
       "      <td>...</td>\n",
       "      <td>19.039648</td>\n",
       "      <td>0.748535</td>\n",
       "      <td>21.908609</td>\n",
       "      <td>0.748535</td>\n",
       "      <td>24.882024</td>\n",
       "      <td>0.748535</td>\n",
       "      <td>28.090622</td>\n",
       "      <td>0.748535</td>\n",
       "      <td>30.722141</td>\n",
       "      <td>0.748535</td>\n",
       "    </tr>\n",
       "    <tr>\n",
       "      <th>2</th>\n",
       "      <td>thousand</td>\n",
       "      <td>6</td>\n",
       "      <td>9</td>\n",
       "      <td>2</td>\n",
       "      <td>2.328322</td>\n",
       "      <td>0.895395</td>\n",
       "      <td>4.495739</td>\n",
       "      <td>0.909876</td>\n",
       "      <td>6.545708</td>\n",
       "      <td>0.930200</td>\n",
       "      <td>...</td>\n",
       "      <td>12.041248</td>\n",
       "      <td>0.909876</td>\n",
       "      <td>14.502377</td>\n",
       "      <td>0.916496</td>\n",
       "      <td>16.472474</td>\n",
       "      <td>0.909876</td>\n",
       "      <td>19.864854</td>\n",
       "      <td>0.926936</td>\n",
       "      <td>22.508104</td>\n",
       "      <td>0.926936</td>\n",
       "    </tr>\n",
       "    <tr>\n",
       "      <th>3</th>\n",
       "      <td>one</td>\n",
       "      <td>7</td>\n",
       "      <td>9</td>\n",
       "      <td>9</td>\n",
       "      <td>2.874538</td>\n",
       "      <td>1.010257</td>\n",
       "      <td>5.418319</td>\n",
       "      <td>1.139486</td>\n",
       "      <td>7.590800</td>\n",
       "      <td>1.036464</td>\n",
       "      <td>...</td>\n",
       "      <td>14.062356</td>\n",
       "      <td>0.981839</td>\n",
       "      <td>16.058390</td>\n",
       "      <td>0.981839</td>\n",
       "      <td>18.045389</td>\n",
       "      <td>0.981839</td>\n",
       "      <td>20.042337</td>\n",
       "      <td>0.981839</td>\n",
       "      <td>22.556619</td>\n",
       "      <td>1.000176</td>\n",
       "    </tr>\n",
       "    <tr>\n",
       "      <th>4</th>\n",
       "      <td>hundred</td>\n",
       "      <td>8</td>\n",
       "      <td>9</td>\n",
       "      <td>2</td>\n",
       "      <td>2.945184</td>\n",
       "      <td>1.090118</td>\n",
       "      <td>5.530278</td>\n",
       "      <td>1.090118</td>\n",
       "      <td>8.082310</td>\n",
       "      <td>1.090118</td>\n",
       "      <td>...</td>\n",
       "      <td>15.027358</td>\n",
       "      <td>1.089354</td>\n",
       "      <td>17.357825</td>\n",
       "      <td>0.998310</td>\n",
       "      <td>19.214110</td>\n",
       "      <td>0.998310</td>\n",
       "      <td>21.583252</td>\n",
       "      <td>1.086649</td>\n",
       "      <td>24.174077</td>\n",
       "      <td>1.042956</td>\n",
       "    </tr>\n",
       "  </tbody>\n",
       "</table>\n",
       "<p>5 rows × 24 columns</p>\n",
       "</div>"
      ],
      "text/plain": [
       "       word  word_int  estimated_id  y    tps_10  tps_10_bottle    tps_20  \\\n",
       "0        in         3            30  7  3.538264       0.910392  7.118446   \n",
       "1         a         4            40  7  3.240516       0.794993  6.349379   \n",
       "2  thousand         6             9  2  2.328322       0.895395  4.495739   \n",
       "3       one         7             9  9  2.874538       1.010257  5.418319   \n",
       "4   hundred         8             9  2  2.945184       1.090118  5.530278   \n",
       "\n",
       "   tps_20_bottle     tps_30  tps_30_bottle  ...     tps_60  tps_60_bottle  \\\n",
       "0       0.836348  10.411342       0.836348  ...  20.233566       0.829150   \n",
       "1       0.741577   9.509350       0.741577  ...  19.039648       0.748535   \n",
       "2       0.909876   6.545708       0.930200  ...  12.041248       0.909876   \n",
       "3       1.139486   7.590800       1.036464  ...  14.062356       0.981839   \n",
       "4       1.090118   8.082310       1.090118  ...  15.027358       1.089354   \n",
       "\n",
       "      tps_70  tps_70_bottle     tps_80  tps_80_bottle     tps_90  \\\n",
       "0  23.213781       0.829150  26.250456       0.828962  29.300718   \n",
       "1  21.908609       0.748535  24.882024       0.748535  28.090622   \n",
       "2  14.502377       0.916496  16.472474       0.909876  19.864854   \n",
       "3  16.058390       0.981839  18.045389       0.981839  20.042337   \n",
       "4  17.357825       0.998310  19.214110       0.998310  21.583252   \n",
       "\n",
       "   tps_90_bottle    tps_100  tps_100_bottle  \n",
       "0       0.828962  32.571709        0.892880  \n",
       "1       0.748535  30.722141        0.748535  \n",
       "2       0.926936  22.508104        0.926936  \n",
       "3       0.981839  22.556619        1.000176  \n",
       "4       1.086649  24.174077        1.042956  \n",
       "\n",
       "[5 rows x 24 columns]"
      ]
     },
     "execution_count": 4,
     "metadata": {},
     "output_type": "execute_result"
    },
    {
     "data": {
      "application/javascript": [
       "\n",
       "            setTimeout(function() {\n",
       "                var nbb_cell_id = 4;\n",
       "                var nbb_unformatted_code = \"print(\\\"Train\\\")\\nword_meaning_train_data.head()\";\n",
       "                var nbb_formatted_code = \"print(\\\"Train\\\")\\nword_meaning_train_data.head()\";\n",
       "                var nbb_cells = Jupyter.notebook.get_cells();\n",
       "                for (var i = 0; i < nbb_cells.length; ++i) {\n",
       "                    if (nbb_cells[i].input_prompt_number == nbb_cell_id) {\n",
       "                        if (nbb_cells[i].get_text() == nbb_unformatted_code) {\n",
       "                             nbb_cells[i].set_text(nbb_formatted_code);\n",
       "                        }\n",
       "                        break;\n",
       "                    }\n",
       "                }\n",
       "            }, 500);\n",
       "            "
      ],
      "text/plain": [
       "<IPython.core.display.Javascript object>"
      ]
     },
     "metadata": {},
     "output_type": "display_data"
    }
   ],
   "source": [
    "print(\"Train\")\n",
    "word_meaning_train_data.head()"
   ]
  },
  {
   "cell_type": "code",
   "execution_count": 5,
   "id": "instructional-thumbnail",
   "metadata": {},
   "outputs": [
    {
     "name": "stdout",
     "output_type": "stream",
     "text": [
      "Test\n"
     ]
    },
    {
     "data": {
      "text/html": [
       "<div>\n",
       "<style scoped>\n",
       "    .dataframe tbody tr th:only-of-type {\n",
       "        vertical-align: middle;\n",
       "    }\n",
       "\n",
       "    .dataframe tbody tr th {\n",
       "        vertical-align: top;\n",
       "    }\n",
       "\n",
       "    .dataframe thead th {\n",
       "        text-align: right;\n",
       "    }\n",
       "</style>\n",
       "<table border=\"1\" class=\"dataframe\">\n",
       "  <thead>\n",
       "    <tr style=\"text-align: right;\">\n",
       "      <th></th>\n",
       "      <th>word</th>\n",
       "      <th>word_int</th>\n",
       "      <th>estimated_id</th>\n",
       "      <th>y</th>\n",
       "      <th>tps_10</th>\n",
       "      <th>tps_10_bottle</th>\n",
       "      <th>tps_20</th>\n",
       "      <th>tps_20_bottle</th>\n",
       "      <th>tps_30</th>\n",
       "      <th>tps_30_bottle</th>\n",
       "      <th>...</th>\n",
       "      <th>tps_60</th>\n",
       "      <th>tps_60_bottle</th>\n",
       "      <th>tps_70</th>\n",
       "      <th>tps_70_bottle</th>\n",
       "      <th>tps_80</th>\n",
       "      <th>tps_80_bottle</th>\n",
       "      <th>tps_90</th>\n",
       "      <th>tps_90_bottle</th>\n",
       "      <th>tps_100</th>\n",
       "      <th>tps_100_bottle</th>\n",
       "    </tr>\n",
       "  </thead>\n",
       "  <tbody>\n",
       "    <tr>\n",
       "      <th>0</th>\n",
       "      <td>accommodate</td>\n",
       "      <td>3914</td>\n",
       "      <td>42</td>\n",
       "      <td>3</td>\n",
       "      <td>4.035708</td>\n",
       "      <td>1.023217</td>\n",
       "      <td>7.740475</td>\n",
       "      <td>1.023217</td>\n",
       "      <td>11.202968</td>\n",
       "      <td>1.023217</td>\n",
       "      <td>...</td>\n",
       "      <td>20.385794</td>\n",
       "      <td>1.023217</td>\n",
       "      <td>23.494360</td>\n",
       "      <td>1.023217</td>\n",
       "      <td>26.317608</td>\n",
       "      <td>0.992057</td>\n",
       "      <td>29.705785</td>\n",
       "      <td>0.992057</td>\n",
       "      <td>32.633389</td>\n",
       "      <td>0.992057</td>\n",
       "    </tr>\n",
       "    <tr>\n",
       "      <th>1</th>\n",
       "      <td>sniff</td>\n",
       "      <td>99793</td>\n",
       "      <td>65</td>\n",
       "      <td>3</td>\n",
       "      <td>3.405967</td>\n",
       "      <td>0.931166</td>\n",
       "      <td>6.723629</td>\n",
       "      <td>0.931166</td>\n",
       "      <td>10.095064</td>\n",
       "      <td>0.931166</td>\n",
       "      <td>...</td>\n",
       "      <td>19.197818</td>\n",
       "      <td>0.929210</td>\n",
       "      <td>22.484812</td>\n",
       "      <td>0.929210</td>\n",
       "      <td>25.552450</td>\n",
       "      <td>0.929210</td>\n",
       "      <td>28.744275</td>\n",
       "      <td>0.926920</td>\n",
       "      <td>32.031722</td>\n",
       "      <td>0.926920</td>\n",
       "    </tr>\n",
       "    <tr>\n",
       "      <th>2</th>\n",
       "      <td>cheat</td>\n",
       "      <td>24171</td>\n",
       "      <td>57</td>\n",
       "      <td>2</td>\n",
       "      <td>3.676250</td>\n",
       "      <td>0.947702</td>\n",
       "      <td>6.997543</td>\n",
       "      <td>0.947702</td>\n",
       "      <td>10.291193</td>\n",
       "      <td>0.923748</td>\n",
       "      <td>...</td>\n",
       "      <td>19.920743</td>\n",
       "      <td>0.947702</td>\n",
       "      <td>23.013784</td>\n",
       "      <td>0.947702</td>\n",
       "      <td>26.195503</td>\n",
       "      <td>0.947702</td>\n",
       "      <td>29.450131</td>\n",
       "      <td>0.948374</td>\n",
       "      <td>32.113078</td>\n",
       "      <td>0.948374</td>\n",
       "    </tr>\n",
       "    <tr>\n",
       "      <th>3</th>\n",
       "      <td>presume</td>\n",
       "      <td>65752</td>\n",
       "      <td>46</td>\n",
       "      <td>2</td>\n",
       "      <td>3.688890</td>\n",
       "      <td>1.025537</td>\n",
       "      <td>6.825574</td>\n",
       "      <td>1.024462</td>\n",
       "      <td>10.381461</td>\n",
       "      <td>1.024462</td>\n",
       "      <td>...</td>\n",
       "      <td>19.691251</td>\n",
       "      <td>0.976114</td>\n",
       "      <td>22.740199</td>\n",
       "      <td>0.976114</td>\n",
       "      <td>25.833765</td>\n",
       "      <td>0.976114</td>\n",
       "      <td>28.837945</td>\n",
       "      <td>0.976114</td>\n",
       "      <td>32.173285</td>\n",
       "      <td>0.976114</td>\n",
       "    </tr>\n",
       "    <tr>\n",
       "      <th>4</th>\n",
       "      <td>reap</td>\n",
       "      <td>47664</td>\n",
       "      <td>42</td>\n",
       "      <td>2</td>\n",
       "      <td>3.845511</td>\n",
       "      <td>1.023825</td>\n",
       "      <td>7.219486</td>\n",
       "      <td>0.991373</td>\n",
       "      <td>10.392227</td>\n",
       "      <td>0.991373</td>\n",
       "      <td>...</td>\n",
       "      <td>20.101104</td>\n",
       "      <td>0.991373</td>\n",
       "      <td>23.113647</td>\n",
       "      <td>0.991373</td>\n",
       "      <td>26.371538</td>\n",
       "      <td>0.991373</td>\n",
       "      <td>29.593756</td>\n",
       "      <td>0.991373</td>\n",
       "      <td>32.859861</td>\n",
       "      <td>0.956738</td>\n",
       "    </tr>\n",
       "  </tbody>\n",
       "</table>\n",
       "<p>5 rows × 24 columns</p>\n",
       "</div>"
      ],
      "text/plain": [
       "          word  word_int  estimated_id  y    tps_10  tps_10_bottle    tps_20  \\\n",
       "0  accommodate      3914            42  3  4.035708       1.023217  7.740475   \n",
       "1        sniff     99793            65  3  3.405967       0.931166  6.723629   \n",
       "2        cheat     24171            57  2  3.676250       0.947702  6.997543   \n",
       "3      presume     65752            46  2  3.688890       1.025537  6.825574   \n",
       "4         reap     47664            42  2  3.845511       1.023825  7.219486   \n",
       "\n",
       "   tps_20_bottle     tps_30  tps_30_bottle  ...     tps_60  tps_60_bottle  \\\n",
       "0       1.023217  11.202968       1.023217  ...  20.385794       1.023217   \n",
       "1       0.931166  10.095064       0.931166  ...  19.197818       0.929210   \n",
       "2       0.947702  10.291193       0.923748  ...  19.920743       0.947702   \n",
       "3       1.024462  10.381461       1.024462  ...  19.691251       0.976114   \n",
       "4       0.991373  10.392227       0.991373  ...  20.101104       0.991373   \n",
       "\n",
       "      tps_70  tps_70_bottle     tps_80  tps_80_bottle     tps_90  \\\n",
       "0  23.494360       1.023217  26.317608       0.992057  29.705785   \n",
       "1  22.484812       0.929210  25.552450       0.929210  28.744275   \n",
       "2  23.013784       0.947702  26.195503       0.947702  29.450131   \n",
       "3  22.740199       0.976114  25.833765       0.976114  28.837945   \n",
       "4  23.113647       0.991373  26.371538       0.991373  29.593756   \n",
       "\n",
       "   tps_90_bottle    tps_100  tps_100_bottle  \n",
       "0       0.992057  32.633389        0.992057  \n",
       "1       0.926920  32.031722        0.926920  \n",
       "2       0.948374  32.113078        0.948374  \n",
       "3       0.976114  32.173285        0.976114  \n",
       "4       0.991373  32.859861        0.956738  \n",
       "\n",
       "[5 rows x 24 columns]"
      ]
     },
     "execution_count": 5,
     "metadata": {},
     "output_type": "execute_result"
    },
    {
     "data": {
      "application/javascript": [
       "\n",
       "            setTimeout(function() {\n",
       "                var nbb_cell_id = 5;\n",
       "                var nbb_unformatted_code = \"print(\\\"Test\\\")\\nword_meaning_test_data.head()\";\n",
       "                var nbb_formatted_code = \"print(\\\"Test\\\")\\nword_meaning_test_data.head()\";\n",
       "                var nbb_cells = Jupyter.notebook.get_cells();\n",
       "                for (var i = 0; i < nbb_cells.length; ++i) {\n",
       "                    if (nbb_cells[i].input_prompt_number == nbb_cell_id) {\n",
       "                        if (nbb_cells[i].get_text() == nbb_unformatted_code) {\n",
       "                             nbb_cells[i].set_text(nbb_formatted_code);\n",
       "                        }\n",
       "                        break;\n",
       "                    }\n",
       "                }\n",
       "            }, 500);\n",
       "            "
      ],
      "text/plain": [
       "<IPython.core.display.Javascript object>"
      ]
     },
     "metadata": {},
     "output_type": "display_data"
    }
   ],
   "source": [
    "print(\"Test\")\n",
    "word_meaning_test_data.head()"
   ]
  },
  {
   "cell_type": "code",
   "execution_count": 6,
   "id": "existing-colombia",
   "metadata": {},
   "outputs": [
    {
     "data": {
      "application/javascript": [
       "\n",
       "            setTimeout(function() {\n",
       "                var nbb_cell_id = 6;\n",
       "                var nbb_unformatted_code = \"# Split into X and y\\ntps_neighbourhood_sizes = np.linspace(start=10, stop=100, num=10, dtype=int)\\nfeature_cols = np.array(\\n    [\\n        \\\"estimated_id\\\",\\n        *[f\\\"tps_{n_size}\\\" for n_size in tps_neighbourhood_sizes],\\n        *[f\\\"tps_{n_size}_bottle\\\" for n_size in tps_neighbourhood_sizes],\\n    ]\\n)\\nX_train = minmax_scale(word_meaning_train_data[feature_cols].values)\\nX_test = minmax_scale(word_meaning_test_data[feature_cols].values)\\ny_train = word_meaning_train_data[\\\"y\\\"].values\\ny_test = word_meaning_test_data[\\\"y\\\"].values\";\n",
       "                var nbb_formatted_code = \"# Split into X and y\\ntps_neighbourhood_sizes = np.linspace(start=10, stop=100, num=10, dtype=int)\\nfeature_cols = np.array(\\n    [\\n        \\\"estimated_id\\\",\\n        *[f\\\"tps_{n_size}\\\" for n_size in tps_neighbourhood_sizes],\\n        *[f\\\"tps_{n_size}_bottle\\\" for n_size in tps_neighbourhood_sizes],\\n    ]\\n)\\nX_train = minmax_scale(word_meaning_train_data[feature_cols].values)\\nX_test = minmax_scale(word_meaning_test_data[feature_cols].values)\\ny_train = word_meaning_train_data[\\\"y\\\"].values\\ny_test = word_meaning_test_data[\\\"y\\\"].values\";\n",
       "                var nbb_cells = Jupyter.notebook.get_cells();\n",
       "                for (var i = 0; i < nbb_cells.length; ++i) {\n",
       "                    if (nbb_cells[i].input_prompt_number == nbb_cell_id) {\n",
       "                        if (nbb_cells[i].get_text() == nbb_unformatted_code) {\n",
       "                             nbb_cells[i].set_text(nbb_formatted_code);\n",
       "                        }\n",
       "                        break;\n",
       "                    }\n",
       "                }\n",
       "            }, 500);\n",
       "            "
      ],
      "text/plain": [
       "<IPython.core.display.Javascript object>"
      ]
     },
     "metadata": {},
     "output_type": "display_data"
    }
   ],
   "source": [
    "# Split into X and y\n",
    "tps_neighbourhood_sizes = np.linspace(start=10, stop=100, num=10, dtype=int)\n",
    "feature_cols = np.array(\n",
    "    [\n",
    "        \"estimated_id\",\n",
    "        *[f\"tps_{n_size}\" for n_size in tps_neighbourhood_sizes],\n",
    "        *[f\"tps_{n_size}_bottle\" for n_size in tps_neighbourhood_sizes],\n",
    "    ]\n",
    ")\n",
    "X_train = minmax_scale(word_meaning_train_data[feature_cols].values)\n",
    "X_test = minmax_scale(word_meaning_test_data[feature_cols].values)\n",
    "y_train = word_meaning_train_data[\"y\"].values\n",
    "y_test = word_meaning_test_data[\"y\"].values"
   ]
  },
  {
   "cell_type": "code",
   "execution_count": 7,
   "id": "international-christopher",
   "metadata": {},
   "outputs": [
    {
     "data": {
      "application/javascript": [
       "\n",
       "            setTimeout(function() {\n",
       "                var nbb_cell_id = 7;\n",
       "                var nbb_unformatted_code = \"# Load output from training word2vec\\nw2v_training_output = load_model_training_output(\\n    model_training_output_dir=join(\\n        word2vec_training_dir, \\\"word2vec_enwiki_jan_2021_word2phrase\\\"\\n    ),\\n    model_name=\\\"word2vec\\\",\\n    dataset_name=\\\"enwiki\\\",\\n    return_normalized_embeddings=True,\\n)\\nlast_embedding_weights_normalized = w2v_training_output[\\n    \\\"last_embedding_weights_normalized\\\"\\n]\\nwords = w2v_training_output[\\\"words\\\"]\\nword_to_int = w2v_training_output[\\\"word_to_int\\\"]\\nword_counts = w2v_training_output[\\\"word_counts\\\"]\";\n",
       "                var nbb_formatted_code = \"# Load output from training word2vec\\nw2v_training_output = load_model_training_output(\\n    model_training_output_dir=join(\\n        word2vec_training_dir, \\\"word2vec_enwiki_jan_2021_word2phrase\\\"\\n    ),\\n    model_name=\\\"word2vec\\\",\\n    dataset_name=\\\"enwiki\\\",\\n    return_normalized_embeddings=True,\\n)\\nlast_embedding_weights_normalized = w2v_training_output[\\n    \\\"last_embedding_weights_normalized\\\"\\n]\\nwords = w2v_training_output[\\\"words\\\"]\\nword_to_int = w2v_training_output[\\\"word_to_int\\\"]\\nword_counts = w2v_training_output[\\\"word_counts\\\"]\";\n",
       "                var nbb_cells = Jupyter.notebook.get_cells();\n",
       "                for (var i = 0; i < nbb_cells.length; ++i) {\n",
       "                    if (nbb_cells[i].input_prompt_number == nbb_cell_id) {\n",
       "                        if (nbb_cells[i].get_text() == nbb_unformatted_code) {\n",
       "                             nbb_cells[i].set_text(nbb_formatted_code);\n",
       "                        }\n",
       "                        break;\n",
       "                    }\n",
       "                }\n",
       "            }, 500);\n",
       "            "
      ],
      "text/plain": [
       "<IPython.core.display.Javascript object>"
      ]
     },
     "metadata": {},
     "output_type": "display_data"
    }
   ],
   "source": [
    "# Load output from training word2vec\n",
    "w2v_training_output = load_model_training_output(\n",
    "    model_training_output_dir=join(\n",
    "        word2vec_training_dir, \"word2vec_enwiki_jan_2021_word2phrase\"\n",
    "    ),\n",
    "    model_name=\"word2vec\",\n",
    "    dataset_name=\"enwiki\",\n",
    "    return_normalized_embeddings=True,\n",
    ")\n",
    "last_embedding_weights_normalized = w2v_training_output[\n",
    "    \"last_embedding_weights_normalized\"\n",
    "]\n",
    "words = w2v_training_output[\"words\"]\n",
    "word_to_int = w2v_training_output[\"word_to_int\"]\n",
    "word_counts = w2v_training_output[\"word_counts\"]"
   ]
  },
  {
   "cell_type": "code",
   "execution_count": 8,
   "id": "bronze-wisconsin",
   "metadata": {},
   "outputs": [
    {
     "data": {
      "application/javascript": [
       "\n",
       "            setTimeout(function() {\n",
       "                var nbb_cell_id = 8;\n",
       "                var nbb_unformatted_code = \"# Load SemEval-2010 task 14 words\\nsemeval_2010_14_word_senses = joblib.load(\\n    join(\\n        \\\"..\\\", \\\"topological_data_analysis\\\", \\\"data\\\", \\\"semeval_2010_14_word_senses.joblib\\\"\\n    )\\n)\\nsemeval_target_words = np.array(list(semeval_2010_14_word_senses[\\\"all\\\"].keys()))\\nsemeval_target_words_in_vocab_filter = [\\n    i for i, word in enumerate(semeval_target_words) if word in word_to_int\\n]\\nsemeval_target_words_in_vocab = semeval_target_words[\\n    semeval_target_words_in_vocab_filter\\n]\\nsemeval_gs_clusters = np.array(list(semeval_2010_14_word_senses[\\\"all\\\"].values()))\\nsemeval_gs_clusters_in_vocab = semeval_gs_clusters[semeval_target_words_in_vocab_filter]\\n\\nnum_semeval_words = len(semeval_target_words_in_vocab)\";\n",
       "                var nbb_formatted_code = \"# Load SemEval-2010 task 14 words\\nsemeval_2010_14_word_senses = joblib.load(\\n    join(\\n        \\\"..\\\", \\\"topological_data_analysis\\\", \\\"data\\\", \\\"semeval_2010_14_word_senses.joblib\\\"\\n    )\\n)\\nsemeval_target_words = np.array(list(semeval_2010_14_word_senses[\\\"all\\\"].keys()))\\nsemeval_target_words_in_vocab_filter = [\\n    i for i, word in enumerate(semeval_target_words) if word in word_to_int\\n]\\nsemeval_target_words_in_vocab = semeval_target_words[\\n    semeval_target_words_in_vocab_filter\\n]\\nsemeval_gs_clusters = np.array(list(semeval_2010_14_word_senses[\\\"all\\\"].values()))\\nsemeval_gs_clusters_in_vocab = semeval_gs_clusters[semeval_target_words_in_vocab_filter]\\n\\nnum_semeval_words = len(semeval_target_words_in_vocab)\";\n",
       "                var nbb_cells = Jupyter.notebook.get_cells();\n",
       "                for (var i = 0; i < nbb_cells.length; ++i) {\n",
       "                    if (nbb_cells[i].input_prompt_number == nbb_cell_id) {\n",
       "                        if (nbb_cells[i].get_text() == nbb_unformatted_code) {\n",
       "                             nbb_cells[i].set_text(nbb_formatted_code);\n",
       "                        }\n",
       "                        break;\n",
       "                    }\n",
       "                }\n",
       "            }, 500);\n",
       "            "
      ],
      "text/plain": [
       "<IPython.core.display.Javascript object>"
      ]
     },
     "metadata": {},
     "output_type": "display_data"
    }
   ],
   "source": [
    "# Load SemEval-2010 task 14 words\n",
    "semeval_2010_14_word_senses = joblib.load(\n",
    "    join(\n",
    "        \"..\", \"topological_data_analysis\", \"data\", \"semeval_2010_14_word_senses.joblib\"\n",
    "    )\n",
    ")\n",
    "semeval_target_words = np.array(list(semeval_2010_14_word_senses[\"all\"].keys()))\n",
    "semeval_target_words_in_vocab_filter = [\n",
    "    i for i, word in enumerate(semeval_target_words) if word in word_to_int\n",
    "]\n",
    "semeval_target_words_in_vocab = semeval_target_words[\n",
    "    semeval_target_words_in_vocab_filter\n",
    "]\n",
    "semeval_gs_clusters = np.array(list(semeval_2010_14_word_senses[\"all\"].values()))\n",
    "semeval_gs_clusters_in_vocab = semeval_gs_clusters[semeval_target_words_in_vocab_filter]\n",
    "\n",
    "num_semeval_words = len(semeval_target_words_in_vocab)"
   ]
  },
  {
   "cell_type": "markdown",
   "id": "pleasant-papua",
   "metadata": {},
   "source": [
    "## Do modeling"
   ]
  },
  {
   "cell_type": "code",
   "execution_count": 9,
   "id": "affecting-algorithm",
   "metadata": {},
   "outputs": [
    {
     "data": {
      "application/javascript": [
       "\n",
       "            setTimeout(function() {\n",
       "                var nbb_cell_id = 9;\n",
       "                var nbb_unformatted_code = \"def plot_pred_vs_true_labels(\\n    pred_labels: np.ndarray, true_labels: np.ndarray, xlabel: str, ylabel: str\\n) -> None:\\n    \\\"\\\"\\\"\\n    TODO: Docs\\n    \\\"\\\"\\\"\\n    pred_true_corr, _ = pearsonr(pred_labels, true_labels)\\n    pred_true_mse = mean_squared_error(true_labels, pred_labels)\\n\\n    plt.figure(figsize=(10, 7))\\n    plt.scatter(pred_labels, true_labels)\\n    plt.xlabel(xlabel)\\n    plt.ylabel(ylabel)\\n    plt.title(f\\\"Pred/True: correlation: {pred_true_corr:.3f}, MSE: {pred_true_mse:.3f}\\\")\\n    plt.show()\";\n",
       "                var nbb_formatted_code = \"def plot_pred_vs_true_labels(\\n    pred_labels: np.ndarray, true_labels: np.ndarray, xlabel: str, ylabel: str\\n) -> None:\\n    \\\"\\\"\\\"\\n    TODO: Docs\\n    \\\"\\\"\\\"\\n    pred_true_corr, _ = pearsonr(pred_labels, true_labels)\\n    pred_true_mse = mean_squared_error(true_labels, pred_labels)\\n\\n    plt.figure(figsize=(10, 7))\\n    plt.scatter(pred_labels, true_labels)\\n    plt.xlabel(xlabel)\\n    plt.ylabel(ylabel)\\n    plt.title(f\\\"Pred/True: correlation: {pred_true_corr:.3f}, MSE: {pred_true_mse:.3f}\\\")\\n    plt.show()\";\n",
       "                var nbb_cells = Jupyter.notebook.get_cells();\n",
       "                for (var i = 0; i < nbb_cells.length; ++i) {\n",
       "                    if (nbb_cells[i].input_prompt_number == nbb_cell_id) {\n",
       "                        if (nbb_cells[i].get_text() == nbb_unformatted_code) {\n",
       "                             nbb_cells[i].set_text(nbb_formatted_code);\n",
       "                        }\n",
       "                        break;\n",
       "                    }\n",
       "                }\n",
       "            }, 500);\n",
       "            "
      ],
      "text/plain": [
       "<IPython.core.display.Javascript object>"
      ]
     },
     "metadata": {},
     "output_type": "display_data"
    }
   ],
   "source": [
    "def plot_pred_vs_true_labels(\n",
    "    pred_labels: np.ndarray, true_labels: np.ndarray, xlabel: str, ylabel: str\n",
    ") -> None:\n",
    "    \"\"\"\n",
    "    TODO: Docs\n",
    "    \"\"\"\n",
    "    pred_true_corr, _ = pearsonr(pred_labels, true_labels)\n",
    "    pred_true_mse = mean_squared_error(true_labels, pred_labels)\n",
    "\n",
    "    plt.figure(figsize=(10, 7))\n",
    "    plt.scatter(pred_labels, true_labels)\n",
    "    plt.xlabel(xlabel)\n",
    "    plt.ylabel(ylabel)\n",
    "    plt.title(f\"Pred/True: correlation: {pred_true_corr:.3f}, MSE: {pred_true_mse:.3f}\")\n",
    "    plt.show()"
   ]
  },
  {
   "cell_type": "markdown",
   "id": "announced-trouble",
   "metadata": {},
   "source": [
    "### Hyperparameter search using grid search CV"
   ]
  },
  {
   "cell_type": "code",
   "execution_count": 10,
   "id": "humanitarian-eligibility",
   "metadata": {},
   "outputs": [
    {
     "data": {
      "application/javascript": [
       "\n",
       "            setTimeout(function() {\n",
       "                var nbb_cell_id = 10;\n",
       "                var nbb_unformatted_code = \"# Parameters\\ncv = 5\\nmax_iter = 100000\\nlasso_alphas = np.linspace(0.0001, 0.9999, 1000)\";\n",
       "                var nbb_formatted_code = \"# Parameters\\ncv = 5\\nmax_iter = 100000\\nlasso_alphas = np.linspace(0.0001, 0.9999, 1000)\";\n",
       "                var nbb_cells = Jupyter.notebook.get_cells();\n",
       "                for (var i = 0; i < nbb_cells.length; ++i) {\n",
       "                    if (nbb_cells[i].input_prompt_number == nbb_cell_id) {\n",
       "                        if (nbb_cells[i].get_text() == nbb_unformatted_code) {\n",
       "                             nbb_cells[i].set_text(nbb_formatted_code);\n",
       "                        }\n",
       "                        break;\n",
       "                    }\n",
       "                }\n",
       "            }, 500);\n",
       "            "
      ],
      "text/plain": [
       "<IPython.core.display.Javascript object>"
      ]
     },
     "metadata": {},
     "output_type": "display_data"
    }
   ],
   "source": [
    "# Parameters\n",
    "cv = 5\n",
    "max_iter = 100000\n",
    "lasso_alphas = np.linspace(0.0001, 0.9999, 1000)"
   ]
  },
  {
   "cell_type": "code",
   "execution_count": 11,
   "id": "known-phase",
   "metadata": {},
   "outputs": [
    {
     "name": "stdout",
     "output_type": "stream",
     "text": [
      "Selected alpha: 0.008106406406406407\n"
     ]
    },
    {
     "data": {
      "application/javascript": [
       "\n",
       "            setTimeout(function() {\n",
       "                var nbb_cell_id = 11;\n",
       "                var nbb_unformatted_code = \"# Lasso regression\\nlasso_cv = LassoCV(\\n    alphas=lasso_alphas, random_state=rng_seed, max_iter=max_iter, n_jobs=-1, cv=cv\\n)\\nlasso_cv.fit(X_train, y_train)\\nprint(f\\\"Selected alpha: {lasso_cv.alpha_}\\\")\";\n",
       "                var nbb_formatted_code = \"# Lasso regression\\nlasso_cv = LassoCV(\\n    alphas=lasso_alphas, random_state=rng_seed, max_iter=max_iter, n_jobs=-1, cv=cv\\n)\\nlasso_cv.fit(X_train, y_train)\\nprint(f\\\"Selected alpha: {lasso_cv.alpha_}\\\")\";\n",
       "                var nbb_cells = Jupyter.notebook.get_cells();\n",
       "                for (var i = 0; i < nbb_cells.length; ++i) {\n",
       "                    if (nbb_cells[i].input_prompt_number == nbb_cell_id) {\n",
       "                        if (nbb_cells[i].get_text() == nbb_unformatted_code) {\n",
       "                             nbb_cells[i].set_text(nbb_formatted_code);\n",
       "                        }\n",
       "                        break;\n",
       "                    }\n",
       "                }\n",
       "            }, 500);\n",
       "            "
      ],
      "text/plain": [
       "<IPython.core.display.Javascript object>"
      ]
     },
     "metadata": {},
     "output_type": "display_data"
    }
   ],
   "source": [
    "# Lasso regression\n",
    "lasso_cv = LassoCV(\n",
    "    alphas=lasso_alphas, random_state=rng_seed, max_iter=max_iter, n_jobs=-1, cv=cv\n",
    ")\n",
    "lasso_cv.fit(X_train, y_train)\n",
    "print(f\"Selected alpha: {lasso_cv.alpha_}\")"
   ]
  },
  {
   "cell_type": "code",
   "execution_count": 13,
   "id": "accredited-thanksgiving",
   "metadata": {
    "scrolled": false
   },
   "outputs": [
    {
     "data": {
      "text/plain": [
       "[('tps_80', -2.848236107270015),\n",
       " ('tps_10_bottle', 2.12294326857422),\n",
       " ('tps_100', -1.3997893532169825),\n",
       " ('tps_20_bottle', 0.6506737296706553),\n",
       " ('tps_30_bottle', 0.4495881710907645),\n",
       " ('tps_70', -0.4262835203247928),\n",
       " ('tps_90', -0.4232403022446821),\n",
       " ('estimated_id', 0.2445347313253176),\n",
       " ('tps_70_bottle', 0.024767784491406226),\n",
       " ('tps_40_bottle', 0.0),\n",
       " ('tps_50_bottle', 0.0),\n",
       " ('tps_90_bottle', 0.0),\n",
       " ('tps_60_bottle', 0.0),\n",
       " ('tps_80_bottle', 0.0),\n",
       " ('tps_60', -0.0),\n",
       " ('tps_50', -0.0),\n",
       " ('tps_40', -0.0),\n",
       " ('tps_30', -0.0),\n",
       " ('tps_20', -0.0),\n",
       " ('tps_10', 0.0),\n",
       " ('tps_100_bottle', 0.0)]"
      ]
     },
     "execution_count": 13,
     "metadata": {},
     "output_type": "execute_result"
    },
    {
     "data": {
      "application/javascript": [
       "\n",
       "            setTimeout(function() {\n",
       "                var nbb_cell_id = 13;\n",
       "                var nbb_unformatted_code = \"sorted_feature_weights_indices = np.argsort(np.abs(lasso_cv.coef_))[::-1]\\nlist(\\n    zip(\\n        feature_cols[sorted_feature_weights_indices],\\n        lasso_cv.coef_[sorted_feature_weights_indices],\\n    )\\n)\";\n",
       "                var nbb_formatted_code = \"sorted_feature_weights_indices = np.argsort(np.abs(lasso_cv.coef_))[::-1]\\nlist(\\n    zip(\\n        feature_cols[sorted_feature_weights_indices],\\n        lasso_cv.coef_[sorted_feature_weights_indices],\\n    )\\n)\";\n",
       "                var nbb_cells = Jupyter.notebook.get_cells();\n",
       "                for (var i = 0; i < nbb_cells.length; ++i) {\n",
       "                    if (nbb_cells[i].input_prompt_number == nbb_cell_id) {\n",
       "                        if (nbb_cells[i].get_text() == nbb_unformatted_code) {\n",
       "                             nbb_cells[i].set_text(nbb_formatted_code);\n",
       "                        }\n",
       "                        break;\n",
       "                    }\n",
       "                }\n",
       "            }, 500);\n",
       "            "
      ],
      "text/plain": [
       "<IPython.core.display.Javascript object>"
      ]
     },
     "metadata": {},
     "output_type": "display_data"
    }
   ],
   "source": [
    "sorted_feature_weights_indices = np.argsort(np.abs(lasso_cv.coef_))[::-1]\n",
    "list(\n",
    "    zip(\n",
    "        feature_cols[sorted_feature_weights_indices],\n",
    "        lasso_cv.coef_[sorted_feature_weights_indices],\n",
    "    )\n",
    ")"
   ]
  },
  {
   "cell_type": "code",
   "execution_count": 12,
   "id": "later-jefferson",
   "metadata": {},
   "outputs": [
    {
     "name": "stdout",
     "output_type": "stream",
     "text": [
      "MSE on train: 5.824054523575819\n"
     ]
    },
    {
     "data": {
      "application/javascript": [
       "\n",
       "            setTimeout(function() {\n",
       "                var nbb_cell_id = 12;\n",
       "                var nbb_unformatted_code = \"y_pred = lasso_cv.predict(X_train)\\ntrain_mse = mean_squared_error(y_train, y_pred)\\nprint(f\\\"MSE on train: {train_mse}\\\")\";\n",
       "                var nbb_formatted_code = \"y_pred = lasso_cv.predict(X_train)\\ntrain_mse = mean_squared_error(y_train, y_pred)\\nprint(f\\\"MSE on train: {train_mse}\\\")\";\n",
       "                var nbb_cells = Jupyter.notebook.get_cells();\n",
       "                for (var i = 0; i < nbb_cells.length; ++i) {\n",
       "                    if (nbb_cells[i].input_prompt_number == nbb_cell_id) {\n",
       "                        if (nbb_cells[i].get_text() == nbb_unformatted_code) {\n",
       "                             nbb_cells[i].set_text(nbb_formatted_code);\n",
       "                        }\n",
       "                        break;\n",
       "                    }\n",
       "                }\n",
       "            }, 500);\n",
       "            "
      ],
      "text/plain": [
       "<IPython.core.display.Javascript object>"
      ]
     },
     "metadata": {},
     "output_type": "display_data"
    }
   ],
   "source": [
    "y_pred = lasso_cv.predict(X_train)\n",
    "train_mse = mean_squared_error(y_train, y_pred)\n",
    "print(f\"MSE on train: {train_mse}\")"
   ]
  },
  {
   "cell_type": "code",
   "execution_count": 14,
   "id": "ultimate-sampling",
   "metadata": {},
   "outputs": [
    {
     "data": {
      "image/png": "[encoded data removed]",
      "text/plain": [
       "<Figure size 720x504 with 1 Axes>"
      ]
     },
     "metadata": {
      "needs_background": "light"
     },
     "output_type": "display_data"
    },
    {
     "data": {
      "application/javascript": [
       "\n",
       "            setTimeout(function() {\n",
       "                var nbb_cell_id = 14;\n",
       "                var nbb_unformatted_code = \"plot_pred_vs_true_labels(\\n    y_pred, y_train, xlabel=\\\"Pred number of synsets\\\", ylabel=\\\"Synsets in Wordnet\\\"\\n)\";\n",
       "                var nbb_formatted_code = \"plot_pred_vs_true_labels(\\n    y_pred, y_train, xlabel=\\\"Pred number of synsets\\\", ylabel=\\\"Synsets in Wordnet\\\"\\n)\";\n",
       "                var nbb_cells = Jupyter.notebook.get_cells();\n",
       "                for (var i = 0; i < nbb_cells.length; ++i) {\n",
       "                    if (nbb_cells[i].input_prompt_number == nbb_cell_id) {\n",
       "                        if (nbb_cells[i].get_text() == nbb_unformatted_code) {\n",
       "                             nbb_cells[i].set_text(nbb_formatted_code);\n",
       "                        }\n",
       "                        break;\n",
       "                    }\n",
       "                }\n",
       "            }, 500);\n",
       "            "
      ],
      "text/plain": [
       "<IPython.core.display.Javascript object>"
      ]
     },
     "metadata": {},
     "output_type": "display_data"
    }
   ],
   "source": [
    "plot_pred_vs_true_labels(\n",
    "    y_pred, y_train, xlabel=\"Pred number of synsets\", ylabel=\"Synsets in Wordnet\"\n",
    ")"
   ]
  },
  {
   "cell_type": "code",
   "execution_count": 15,
   "id": "historic-budget",
   "metadata": {},
   "outputs": [
    {
     "name": "stdout",
     "output_type": "stream",
     "text": [
      "MSE on test: 14.23958833485504\n"
     ]
    },
    {
     "data": {
      "application/javascript": [
       "\n",
       "            setTimeout(function() {\n",
       "                var nbb_cell_id = 15;\n",
       "                var nbb_unformatted_code = \"y_pred_test = lasso_cv.predict(X_test)\\ntest_mse = mean_squared_error(y_test, y_pred_test)\\nprint(f\\\"MSE on test: {test_mse}\\\")\";\n",
       "                var nbb_formatted_code = \"y_pred_test = lasso_cv.predict(X_test)\\ntest_mse = mean_squared_error(y_test, y_pred_test)\\nprint(f\\\"MSE on test: {test_mse}\\\")\";\n",
       "                var nbb_cells = Jupyter.notebook.get_cells();\n",
       "                for (var i = 0; i < nbb_cells.length; ++i) {\n",
       "                    if (nbb_cells[i].input_prompt_number == nbb_cell_id) {\n",
       "                        if (nbb_cells[i].get_text() == nbb_unformatted_code) {\n",
       "                             nbb_cells[i].set_text(nbb_formatted_code);\n",
       "                        }\n",
       "                        break;\n",
       "                    }\n",
       "                }\n",
       "            }, 500);\n",
       "            "
      ],
      "text/plain": [
       "<IPython.core.display.Javascript object>"
      ]
     },
     "metadata": {},
     "output_type": "display_data"
    }
   ],
   "source": [
    "y_pred_test = lasso_cv.predict(X_test)\n",
    "test_mse = mean_squared_error(y_test, y_pred_test)\n",
    "print(f\"MSE on test: {test_mse}\")"
   ]
  },
  {
   "cell_type": "code",
   "execution_count": 16,
   "id": "interested-arthritis",
   "metadata": {},
   "outputs": [
    {
     "data": {
      "image/png": "[encoded data removed]",
      "text/plain": [
       "<Figure size 720x504 with 1 Axes>"
      ]
     },
     "metadata": {
      "needs_background": "light"
     },
     "output_type": "display_data"
    },
    {
     "data": {
      "application/javascript": [
       "\n",
       "            setTimeout(function() {\n",
       "                var nbb_cell_id = 16;\n",
       "                var nbb_unformatted_code = \"plot_pred_vs_true_labels(\\n    y_pred_test, y_test, xlabel=\\\"Pred number of meanings\\\", ylabel=\\\"Clusters in GS\\\"\\n)\";\n",
       "                var nbb_formatted_code = \"plot_pred_vs_true_labels(\\n    y_pred_test, y_test, xlabel=\\\"Pred number of meanings\\\", ylabel=\\\"Clusters in GS\\\"\\n)\";\n",
       "                var nbb_cells = Jupyter.notebook.get_cells();\n",
       "                for (var i = 0; i < nbb_cells.length; ++i) {\n",
       "                    if (nbb_cells[i].input_prompt_number == nbb_cell_id) {\n",
       "                        if (nbb_cells[i].get_text() == nbb_unformatted_code) {\n",
       "                             nbb_cells[i].set_text(nbb_formatted_code);\n",
       "                        }\n",
       "                        break;\n",
       "                    }\n",
       "                }\n",
       "            }, 500);\n",
       "            "
      ],
      "text/plain": [
       "<IPython.core.display.Javascript object>"
      ]
     },
     "metadata": {},
     "output_type": "display_data"
    }
   ],
   "source": [
    "plot_pred_vs_true_labels(\n",
    "    y_pred_test, y_test, xlabel=\"Pred number of meanings\", ylabel=\"Clusters in GS\"\n",
    ")"
   ]
  }
 ],
 "metadata": {
  "kernelspec": {
   "display_name": "Python 3",
   "language": "python",
   "name": "python3"
  },
  "language_info": {
   "codemirror_mode": {
    "name": "ipython",
    "version": 3
   },
   "file_extension": ".py",
   "mimetype": "text/x-python",
   "name": "python",
   "nbconvert_exporter": "python",
   "pygments_lexer": "ipython3",
   "version": "3.6.9"
  }
 },
 "nbformat": 4,
 "nbformat_minor": 5
}
