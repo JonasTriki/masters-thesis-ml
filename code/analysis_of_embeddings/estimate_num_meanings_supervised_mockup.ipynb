{
 "cells": [
  {
   "cell_type": "code",
   "execution_count": 1,
   "id": "falling-water",
   "metadata": {},
   "outputs": [
    {
     "data": {
      "application/javascript": [
       "\n",
       "            setTimeout(function() {\n",
       "                var nbb_cell_id = 1;\n",
       "                var nbb_unformatted_code = \"%load_ext nb_black\";\n",
       "                var nbb_formatted_code = \"%load_ext nb_black\";\n",
       "                var nbb_cells = Jupyter.notebook.get_cells();\n",
       "                for (var i = 0; i < nbb_cells.length; ++i) {\n",
       "                    if (nbb_cells[i].input_prompt_number == nbb_cell_id) {\n",
       "                        if (nbb_cells[i].get_text() == nbb_unformatted_code) {\n",
       "                             nbb_cells[i].set_text(nbb_formatted_code);\n",
       "                        }\n",
       "                        break;\n",
       "                    }\n",
       "                }\n",
       "            }, 500);\n",
       "            "
      ],
      "text/plain": [
       "<IPython.core.display.Javascript object>"
      ]
     },
     "metadata": {},
     "output_type": "display_data"
    }
   ],
   "source": [
    "%load_ext nb_black"
   ]
  },
  {
   "cell_type": "code",
   "execution_count": 64,
   "id": "broad-paris",
   "metadata": {},
   "outputs": [
    {
     "data": {
      "application/javascript": [
       "\n",
       "            setTimeout(function() {\n",
       "                var nbb_cell_id = 64;\n",
       "                var nbb_unformatted_code = \"from os.path import join\\nimport numpy as np\\nfrom tqdm.auto import tqdm\\nfrom scipy.stats import pearsonr\\n\\nrng_seed = 399\\nnp.random.seed(rng_seed)\\nimport persim\\nimport joblib\\n\\nfrom matplotlib import pyplot as plt\\nfrom sklearn.model_selection import train_test_split\\nfrom sklearn.ensemble import RandomForestRegressor\\nfrom sklearn.metrics import mean_squared_error\\nfrom sklearn.linear_model import Lasso\\nimport tensorflow as tf\\nfrom tensorflow.keras.activations import relu\\nfrom tensorflow.keras.layers import Dense, Input\\nfrom tensorflow.keras.losses import MSE\\nfrom tensorflow.keras.models import Model\\nfrom tensorflow.keras.optimizers import SGD\\nfrom tensorflow.keras.regularizers import l1\\n\\n# Directory constants\\nroot_code_dir = \\\"..\\\"\\noutput_dir = join(root_code_dir, \\\"output\\\")\\nword2vec_training_dir = join(output_dir, \\\"word2vec_training\\\")\\nword2vec_ann_indices_dir = join(output_dir, \\\"word2vec_ann_indices\\\")\\nword2vec_cluster_analysis_dir = join(output_dir, \\\"word2vec_cluster_analysis\\\")\\n\\n# Extend sys path for importing custom Python files\\nimport sys\\n\\nsys.path.append(root_code_dir)\\n\\nfrom topological_data_analysis.topological_polysemy import tps\\nfrom word_embeddings.word2vec import load_model_training_output\";\n",
       "                var nbb_formatted_code = \"from os.path import join\\nimport numpy as np\\nfrom tqdm.auto import tqdm\\nfrom scipy.stats import pearsonr\\n\\nrng_seed = 399\\nnp.random.seed(rng_seed)\\nimport persim\\nimport joblib\\n\\nfrom matplotlib import pyplot as plt\\nfrom sklearn.model_selection import train_test_split\\nfrom sklearn.ensemble import RandomForestRegressor\\nfrom sklearn.metrics import mean_squared_error\\nfrom sklearn.linear_model import Lasso\\nimport tensorflow as tf\\nfrom tensorflow.keras.activations import relu\\nfrom tensorflow.keras.layers import Dense, Input\\nfrom tensorflow.keras.losses import MSE\\nfrom tensorflow.keras.models import Model\\nfrom tensorflow.keras.optimizers import SGD\\nfrom tensorflow.keras.regularizers import l1\\n\\n# Directory constants\\nroot_code_dir = \\\"..\\\"\\noutput_dir = join(root_code_dir, \\\"output\\\")\\nword2vec_training_dir = join(output_dir, \\\"word2vec_training\\\")\\nword2vec_ann_indices_dir = join(output_dir, \\\"word2vec_ann_indices\\\")\\nword2vec_cluster_analysis_dir = join(output_dir, \\\"word2vec_cluster_analysis\\\")\\n\\n# Extend sys path for importing custom Python files\\nimport sys\\n\\nsys.path.append(root_code_dir)\\n\\nfrom topological_data_analysis.topological_polysemy import tps\\nfrom word_embeddings.word2vec import load_model_training_output\";\n",
       "                var nbb_cells = Jupyter.notebook.get_cells();\n",
       "                for (var i = 0; i < nbb_cells.length; ++i) {\n",
       "                    if (nbb_cells[i].input_prompt_number == nbb_cell_id) {\n",
       "                        if (nbb_cells[i].get_text() == nbb_unformatted_code) {\n",
       "                             nbb_cells[i].set_text(nbb_formatted_code);\n",
       "                        }\n",
       "                        break;\n",
       "                    }\n",
       "                }\n",
       "            }, 500);\n",
       "            "
      ],
      "text/plain": [
       "<IPython.core.display.Javascript object>"
      ]
     },
     "metadata": {},
     "output_type": "display_data"
    }
   ],
   "source": [
    "from os.path import join\n",
    "import numpy as np\n",
    "from tqdm.auto import tqdm\n",
    "from scipy.stats import pearsonr\n",
    "\n",
    "rng_seed = 399\n",
    "np.random.seed(rng_seed)\n",
    "import persim\n",
    "import joblib\n",
    "\n",
    "from matplotlib import pyplot as plt\n",
    "from sklearn.model_selection import train_test_split\n",
    "from sklearn.ensemble import RandomForestRegressor\n",
    "from sklearn.metrics import mean_squared_error\n",
    "from sklearn.linear_model import Lasso\n",
    "import tensorflow as tf\n",
    "from tensorflow.keras.activations import relu\n",
    "from tensorflow.keras.layers import Dense, Input\n",
    "from tensorflow.keras.losses import MSE\n",
    "from tensorflow.keras.models import Model\n",
    "from tensorflow.keras.optimizers import SGD\n",
    "from tensorflow.keras.regularizers import l1\n",
    "\n",
    "# Directory constants\n",
    "root_code_dir = \"..\"\n",
    "output_dir = join(root_code_dir, \"output\")\n",
    "word2vec_training_dir = join(output_dir, \"word2vec_training\")\n",
    "word2vec_ann_indices_dir = join(output_dir, \"word2vec_ann_indices\")\n",
    "word2vec_cluster_analysis_dir = join(output_dir, \"word2vec_cluster_analysis\")\n",
    "\n",
    "# Extend sys path for importing custom Python files\n",
    "import sys\n",
    "\n",
    "sys.path.append(root_code_dir)\n",
    "\n",
    "from topological_data_analysis.topological_polysemy import tps\n",
    "from word_embeddings.word2vec import load_model_training_output"
   ]
  },
  {
   "cell_type": "markdown",
   "id": "right-outside",
   "metadata": {},
   "source": [
    "## Prepare data"
   ]
  },
  {
   "cell_type": "code",
   "execution_count": 81,
   "id": "technical-bargain",
   "metadata": {},
   "outputs": [
    {
     "data": {
      "application/javascript": [
       "\n",
       "            setTimeout(function() {\n",
       "                var nbb_cell_id = 81;\n",
       "                var nbb_unformatted_code = \"# Load word meaning features and labels\\nword_meaning_features = np.load(\\\"data/word_meaning_features.npy\\\")[:, 300:]\\nwords_to_num_synsets = joblib.load(\\\"data/words_to_num_synsets.joblib\\\")\\nword_meaning_labels = np.array(list(words_to_num_synsets.values()))\\ndata_n, data_d = word_meaning_features.shape\";\n",
       "                var nbb_formatted_code = \"# Load word meaning features and labels\\nword_meaning_features = np.load(\\\"data/word_meaning_features.npy\\\")[:, 300:]\\nwords_to_num_synsets = joblib.load(\\\"data/words_to_num_synsets.joblib\\\")\\nword_meaning_labels = np.array(list(words_to_num_synsets.values()))\\ndata_n, data_d = word_meaning_features.shape\";\n",
       "                var nbb_cells = Jupyter.notebook.get_cells();\n",
       "                for (var i = 0; i < nbb_cells.length; ++i) {\n",
       "                    if (nbb_cells[i].input_prompt_number == nbb_cell_id) {\n",
       "                        if (nbb_cells[i].get_text() == nbb_unformatted_code) {\n",
       "                             nbb_cells[i].set_text(nbb_formatted_code);\n",
       "                        }\n",
       "                        break;\n",
       "                    }\n",
       "                }\n",
       "            }, 500);\n",
       "            "
      ],
      "text/plain": [
       "<IPython.core.display.Javascript object>"
      ]
     },
     "metadata": {},
     "output_type": "display_data"
    }
   ],
   "source": [
    "# Load word meaning features and labels\n",
    "word_meaning_features = np.load(\"data/word_meaning_features.npy\")[:, 300:]\n",
    "words_to_num_synsets = joblib.load(\"data/words_to_num_synsets.joblib\")\n",
    "word_meaning_labels = np.array(list(words_to_num_synsets.values()))\n",
    "data_n, data_d = word_meaning_features.shape"
   ]
  },
  {
   "cell_type": "code",
   "execution_count": 13,
   "id": "international-christopher",
   "metadata": {},
   "outputs": [
    {
     "data": {
      "application/javascript": [
       "\n",
       "            setTimeout(function() {\n",
       "                var nbb_cell_id = 13;\n",
       "                var nbb_unformatted_code = \"# Load output from training word2vec\\nw2v_training_output = load_model_training_output(\\n    model_training_output_dir=join(\\n        word2vec_training_dir, \\\"word2vec_enwiki_jan_2021_word2phrase\\\"\\n    ),\\n    model_name=\\\"word2vec\\\",\\n    dataset_name=\\\"enwiki\\\",\\n    return_normalized_embeddings=True,\\n)\\nlast_embedding_weights_normalized = w2v_training_output[\\n    \\\"last_embedding_weights_normalized\\\"\\n]\\nwords = w2v_training_output[\\\"words\\\"]\\nword_to_int = w2v_training_output[\\\"word_to_int\\\"]\\nword_counts = w2v_training_output[\\\"word_counts\\\"]\";\n",
       "                var nbb_formatted_code = \"# Load output from training word2vec\\nw2v_training_output = load_model_training_output(\\n    model_training_output_dir=join(\\n        word2vec_training_dir, \\\"word2vec_enwiki_jan_2021_word2phrase\\\"\\n    ),\\n    model_name=\\\"word2vec\\\",\\n    dataset_name=\\\"enwiki\\\",\\n    return_normalized_embeddings=True,\\n)\\nlast_embedding_weights_normalized = w2v_training_output[\\n    \\\"last_embedding_weights_normalized\\\"\\n]\\nwords = w2v_training_output[\\\"words\\\"]\\nword_to_int = w2v_training_output[\\\"word_to_int\\\"]\\nword_counts = w2v_training_output[\\\"word_counts\\\"]\";\n",
       "                var nbb_cells = Jupyter.notebook.get_cells();\n",
       "                for (var i = 0; i < nbb_cells.length; ++i) {\n",
       "                    if (nbb_cells[i].input_prompt_number == nbb_cell_id) {\n",
       "                        if (nbb_cells[i].get_text() == nbb_unformatted_code) {\n",
       "                             nbb_cells[i].set_text(nbb_formatted_code);\n",
       "                        }\n",
       "                        break;\n",
       "                    }\n",
       "                }\n",
       "            }, 500);\n",
       "            "
      ],
      "text/plain": [
       "<IPython.core.display.Javascript object>"
      ]
     },
     "metadata": {},
     "output_type": "display_data"
    }
   ],
   "source": [
    "# Load output from training word2vec\n",
    "w2v_training_output = load_model_training_output(\n",
    "    model_training_output_dir=join(\n",
    "        word2vec_training_dir, \"word2vec_enwiki_jan_2021_word2phrase\"\n",
    "    ),\n",
    "    model_name=\"word2vec\",\n",
    "    dataset_name=\"enwiki\",\n",
    "    return_normalized_embeddings=True,\n",
    ")\n",
    "last_embedding_weights_normalized = w2v_training_output[\n",
    "    \"last_embedding_weights_normalized\"\n",
    "]\n",
    "words = w2v_training_output[\"words\"]\n",
    "word_to_int = w2v_training_output[\"word_to_int\"]\n",
    "word_counts = w2v_training_output[\"word_counts\"]"
   ]
  },
  {
   "cell_type": "markdown",
   "id": "pleasant-papua",
   "metadata": {},
   "source": [
    "## Do modeling"
   ]
  },
  {
   "cell_type": "code",
   "execution_count": 83,
   "id": "active-issue",
   "metadata": {},
   "outputs": [
    {
     "data": {
      "application/javascript": [
       "\n",
       "            setTimeout(function() {\n",
       "                var nbb_cell_id = 83;\n",
       "                var nbb_unformatted_code = \"def create_model(\\n    input_dim: int,\\n    lasso_alpha: float,\\n    optimizer: tf.keras.optimizers.Optimizer,\\n    loss: str,\\n) -> Model:\\n    \\\"\\\"\\\"\\n    TODO: Docs\\n    \\\"\\\"\\\"\\n    # Input layer\\n    input_layer = Input(shape=(input_dim,), name=\\\"input\\\")\\n\\n    # Output layer\\n    output_layer = Dense(1, kernel_regularizer=l1(lasso_alpha), name=\\\"output\\\")(\\n        input_layer\\n    )\\n\\n    # Create model and compile\\n    model = Model(inputs=input_layer, outputs=output_layer)\\n    model.compile(optimizer=optimizer, loss=loss)\\n\\n    return model\";\n",
       "                var nbb_formatted_code = \"def create_model(\\n    input_dim: int,\\n    lasso_alpha: float,\\n    optimizer: tf.keras.optimizers.Optimizer,\\n    loss: str,\\n) -> Model:\\n    \\\"\\\"\\\"\\n    TODO: Docs\\n    \\\"\\\"\\\"\\n    # Input layer\\n    input_layer = Input(shape=(input_dim,), name=\\\"input\\\")\\n\\n    # Output layer\\n    output_layer = Dense(1, kernel_regularizer=l1(lasso_alpha), name=\\\"output\\\")(\\n        input_layer\\n    )\\n\\n    # Create model and compile\\n    model = Model(inputs=input_layer, outputs=output_layer)\\n    model.compile(optimizer=optimizer, loss=loss)\\n\\n    return model\";\n",
       "                var nbb_cells = Jupyter.notebook.get_cells();\n",
       "                for (var i = 0; i < nbb_cells.length; ++i) {\n",
       "                    if (nbb_cells[i].input_prompt_number == nbb_cell_id) {\n",
       "                        if (nbb_cells[i].get_text() == nbb_unformatted_code) {\n",
       "                             nbb_cells[i].set_text(nbb_formatted_code);\n",
       "                        }\n",
       "                        break;\n",
       "                    }\n",
       "                }\n",
       "            }, 500);\n",
       "            "
      ],
      "text/plain": [
       "<IPython.core.display.Javascript object>"
      ]
     },
     "metadata": {},
     "output_type": "display_data"
    }
   ],
   "source": [
    "def create_model(\n",
    "    input_dim: int,\n",
    "    lasso_alpha: float,\n",
    "    optimizer: tf.keras.optimizers.Optimizer,\n",
    "    loss: str,\n",
    ") -> Model:\n",
    "    \"\"\"\n",
    "    TODO: Docs\n",
    "    \"\"\"\n",
    "    # Input layer\n",
    "    input_layer = Input(shape=(input_dim,), name=\"input\")\n",
    "\n",
    "    # Output layer\n",
    "    output_layer = Dense(1, kernel_regularizer=l1(lasso_alpha), name=\"output\")(\n",
    "        input_layer\n",
    "    )\n",
    "\n",
    "    # Create model and compile\n",
    "    model = Model(inputs=input_layer, outputs=output_layer)\n",
    "    model.compile(optimizer=optimizer, loss=loss)\n",
    "\n",
    "    return model"
   ]
  },
  {
   "cell_type": "code",
   "execution_count": 115,
   "id": "complete-enough",
   "metadata": {
    "scrolled": true
   },
   "outputs": [
    {
     "name": "stdout",
     "output_type": "stream",
     "text": [
      "Model: \"model_9\"\n",
      "_________________________________________________________________\n",
      "Layer (type)                 Output Shape              Param #   \n",
      "=================================================================\n",
      "input (InputLayer)           [(None, 22)]              0         \n",
      "_________________________________________________________________\n",
      "output (Dense)               (None, 1)                 23        \n",
      "=================================================================\n",
      "Total params: 23\n",
      "Trainable params: 23\n",
      "Non-trainable params: 0\n",
      "_________________________________________________________________\n"
     ]
    },
    {
     "data": {
      "application/javascript": [
       "\n",
       "            setTimeout(function() {\n",
       "                var nbb_cell_id = 115;\n",
       "                var nbb_unformatted_code = \"wm_model = create_model(\\n    input_dim=data_d,\\n    lasso_alpha=0.5,\\n    optimizer=SGD(learning_rate=0.0001),\\n    loss=MSE,\\n)\\nwm_model.summary()\";\n",
       "                var nbb_formatted_code = \"wm_model = create_model(\\n    input_dim=data_d,\\n    lasso_alpha=0.5,\\n    optimizer=SGD(learning_rate=0.0001),\\n    loss=MSE,\\n)\\nwm_model.summary()\";\n",
       "                var nbb_cells = Jupyter.notebook.get_cells();\n",
       "                for (var i = 0; i < nbb_cells.length; ++i) {\n",
       "                    if (nbb_cells[i].input_prompt_number == nbb_cell_id) {\n",
       "                        if (nbb_cells[i].get_text() == nbb_unformatted_code) {\n",
       "                             nbb_cells[i].set_text(nbb_formatted_code);\n",
       "                        }\n",
       "                        break;\n",
       "                    }\n",
       "                }\n",
       "            }, 500);\n",
       "            "
      ],
      "text/plain": [
       "<IPython.core.display.Javascript object>"
      ]
     },
     "metadata": {},
     "output_type": "display_data"
    }
   ],
   "source": [
    "wm_model = create_model(\n",
    "    input_dim=data_d,\n",
    "    lasso_alpha=0.5,\n",
    "    optimizer=SGD(learning_rate=0.0001),\n",
    "    loss=MSE,\n",
    ")\n",
    "wm_model.summary()"
   ]
  },
  {
   "cell_type": "code",
   "execution_count": 116,
   "id": "united-palestinian",
   "metadata": {
    "scrolled": true
   },
   "outputs": [
    {
     "data": {
      "application/javascript": [
       "\n",
       "            setTimeout(function() {\n",
       "                var nbb_cell_id = 116;\n",
       "                var nbb_unformatted_code = \"# Fit model\\nn_epochs = 1000\\nwm_model_hist = wm_model.fit(\\n    x=word_meaning_features,\\n    y=word_meaning_labels,\\n    batch_size=1024,\\n    epochs=n_epochs,\\n    verbose=0\\n)\";\n",
       "                var nbb_formatted_code = \"# Fit model\\nn_epochs = 1000\\nwm_model_hist = wm_model.fit(\\n    x=word_meaning_features,\\n    y=word_meaning_labels,\\n    batch_size=1024,\\n    epochs=n_epochs,\\n    verbose=0,\\n)\";\n",
       "                var nbb_cells = Jupyter.notebook.get_cells();\n",
       "                for (var i = 0; i < nbb_cells.length; ++i) {\n",
       "                    if (nbb_cells[i].input_prompt_number == nbb_cell_id) {\n",
       "                        if (nbb_cells[i].get_text() == nbb_unformatted_code) {\n",
       "                             nbb_cells[i].set_text(nbb_formatted_code);\n",
       "                        }\n",
       "                        break;\n",
       "                    }\n",
       "                }\n",
       "            }, 500);\n",
       "            "
      ],
      "text/plain": [
       "<IPython.core.display.Javascript object>"
      ]
     },
     "metadata": {},
     "output_type": "display_data"
    }
   ],
   "source": [
    "# Fit model\n",
    "n_epochs = 1000\n",
    "wm_model_hist = wm_model.fit(\n",
    "    x=word_meaning_features,\n",
    "    y=word_meaning_labels,\n",
    "    batch_size=1024,\n",
    "    epochs=n_epochs,\n",
    "    verbose=0,\n",
    ")"
   ]
  },
  {
   "cell_type": "code",
   "execution_count": 117,
   "id": "quality-demand",
   "metadata": {},
   "outputs": [
    {
     "data": {
      "image/png": "[encoded data removed]",
      "text/plain": [
       "<Figure size 720x576 with 1 Axes>"
      ]
     },
     "metadata": {
      "needs_background": "light"
     },
     "output_type": "display_data"
    },
    {
     "data": {
      "application/javascript": [
       "\n",
       "            setTimeout(function() {\n",
       "                var nbb_cell_id = 117;\n",
       "                var nbb_unformatted_code = \"plt.figure(figsize=(10, 8))\\nplt.plot(wm_model_hist.history[\\\"loss\\\"])\\n# plt.plot(wm_model_hist.history[\\\"val_loss\\\"])\\nplt.title(\\\"model loss\\\")\\nplt.ylabel(\\\"loss\\\")\\nplt.xlabel(\\\"epoch\\\")\\nplt.legend([\\\"train\\\"], loc=\\\"upper left\\\")\\nplt.show()\";\n",
       "                var nbb_formatted_code = \"plt.figure(figsize=(10, 8))\\nplt.plot(wm_model_hist.history[\\\"loss\\\"])\\n# plt.plot(wm_model_hist.history[\\\"val_loss\\\"])\\nplt.title(\\\"model loss\\\")\\nplt.ylabel(\\\"loss\\\")\\nplt.xlabel(\\\"epoch\\\")\\nplt.legend([\\\"train\\\"], loc=\\\"upper left\\\")\\nplt.show()\";\n",
       "                var nbb_cells = Jupyter.notebook.get_cells();\n",
       "                for (var i = 0; i < nbb_cells.length; ++i) {\n",
       "                    if (nbb_cells[i].input_prompt_number == nbb_cell_id) {\n",
       "                        if (nbb_cells[i].get_text() == nbb_unformatted_code) {\n",
       "                             nbb_cells[i].set_text(nbb_formatted_code);\n",
       "                        }\n",
       "                        break;\n",
       "                    }\n",
       "                }\n",
       "            }, 500);\n",
       "            "
      ],
      "text/plain": [
       "<IPython.core.display.Javascript object>"
      ]
     },
     "metadata": {},
     "output_type": "display_data"
    }
   ],
   "source": [
    "plt.figure(figsize=(10, 8))\n",
    "plt.plot(wm_model_hist.history[\"loss\"])\n",
    "# plt.plot(wm_model_hist.history[\"val_loss\"])\n",
    "plt.title(\"model loss\")\n",
    "plt.ylabel(\"loss\")\n",
    "plt.xlabel(\"epoch\")\n",
    "plt.legend([\"train\"], loc=\"upper left\")\n",
    "plt.show()"
   ]
  },
  {
   "cell_type": "code",
   "execution_count": 129,
   "id": "incoming-nightmare",
   "metadata": {},
   "outputs": [
    {
     "data": {
      "text/plain": [
       "6.231587648043673"
      ]
     },
     "execution_count": 129,
     "metadata": {},
     "output_type": "execute_result"
    },
    {
     "data": {
      "application/javascript": [
       "\n",
       "            setTimeout(function() {\n",
       "                var nbb_cell_id = 129;\n",
       "                var nbb_unformatted_code = \"labels_pred_nn = wm_model.predict(word_meaning_features)[:, 0]\\nmean_squared_error(word_meaning_labels, labels_pred_nn)\";\n",
       "                var nbb_formatted_code = \"labels_pred_nn = wm_model.predict(word_meaning_features)[:, 0]\\nmean_squared_error(word_meaning_labels, labels_pred_nn)\";\n",
       "                var nbb_cells = Jupyter.notebook.get_cells();\n",
       "                for (var i = 0; i < nbb_cells.length; ++i) {\n",
       "                    if (nbb_cells[i].input_prompt_number == nbb_cell_id) {\n",
       "                        if (nbb_cells[i].get_text() == nbb_unformatted_code) {\n",
       "                             nbb_cells[i].set_text(nbb_formatted_code);\n",
       "                        }\n",
       "                        break;\n",
       "                    }\n",
       "                }\n",
       "            }, 500);\n",
       "            "
      ],
      "text/plain": [
       "<IPython.core.display.Javascript object>"
      ]
     },
     "metadata": {},
     "output_type": "display_data"
    }
   ],
   "source": [
    "labels_pred_nn = wm_model.predict(word_meaning_features)[:, 0]\n",
    "mean_squared_error(word_meaning_labels, labels_pred_nn)"
   ]
  },
  {
   "cell_type": "code",
   "execution_count": 130,
   "id": "affecting-algorithm",
   "metadata": {},
   "outputs": [
    {
     "data": {
      "application/javascript": [
       "\n",
       "            setTimeout(function() {\n",
       "                var nbb_cell_id = 130;\n",
       "                var nbb_unformatted_code = \"def plot_corr(true_labels: np.ndarray, pred_labels: np.ndarray) -> None:\\n    \\\"\\\"\\\"\\n    TODO: Docs\\n    \\\"\\\"\\\"\\n    corr, _ = pearsonr(pred_labels, true_labels)\\n    plt.figure(figsize=(10, 10))\\n    plt.scatter(labels_pred_nn, word_meaning_labels)\\n    plt.title(f\\\"true/pred correlation: {corr:.3f}\\\")\\n    plt.show()\";\n",
       "                var nbb_formatted_code = \"def plot_corr(true_labels: np.ndarray, pred_labels: np.ndarray) -> None:\\n    \\\"\\\"\\\"\\n    TODO: Docs\\n    \\\"\\\"\\\"\\n    corr, _ = pearsonr(pred_labels, true_labels)\\n    plt.figure(figsize=(10, 10))\\n    plt.scatter(labels_pred_nn, word_meaning_labels)\\n    plt.title(f\\\"true/pred correlation: {corr:.3f}\\\")\\n    plt.show()\";\n",
       "                var nbb_cells = Jupyter.notebook.get_cells();\n",
       "                for (var i = 0; i < nbb_cells.length; ++i) {\n",
       "                    if (nbb_cells[i].input_prompt_number == nbb_cell_id) {\n",
       "                        if (nbb_cells[i].get_text() == nbb_unformatted_code) {\n",
       "                             nbb_cells[i].set_text(nbb_formatted_code);\n",
       "                        }\n",
       "                        break;\n",
       "                    }\n",
       "                }\n",
       "            }, 500);\n",
       "            "
      ],
      "text/plain": [
       "<IPython.core.display.Javascript object>"
      ]
     },
     "metadata": {},
     "output_type": "display_data"
    }
   ],
   "source": [
    "def plot_corr(true_labels: np.ndarray, pred_labels: np.ndarray) -> None:\n",
    "    \"\"\"\n",
    "    TODO: Docs\n",
    "    \"\"\"\n",
    "    corr, _ = pearsonr(pred_labels, true_labels)\n",
    "    plt.figure(figsize=(10, 10))\n",
    "    plt.scatter(labels_pred_nn, word_meaning_labels)\n",
    "    plt.title(f\"true/pred correlation: {corr:.3f}\")\n",
    "    plt.show()"
   ]
  },
  {
   "cell_type": "code",
   "execution_count": 131,
   "id": "faced-tennis",
   "metadata": {},
   "outputs": [
    {
     "data": {
      "image/png": "[encoded data removed]",
      "text/plain": [
       "<Figure size 720x720 with 1 Axes>"
      ]
     },
     "metadata": {
      "needs_background": "light"
     },
     "output_type": "display_data"
    },
    {
     "data": {
      "application/javascript": [
       "\n",
       "            setTimeout(function() {\n",
       "                var nbb_cell_id = 131;\n",
       "                var nbb_unformatted_code = \"plot_corr(word_meaning_labels, labels_pred_nn)\";\n",
       "                var nbb_formatted_code = \"plot_corr(word_meaning_labels, labels_pred_nn)\";\n",
       "                var nbb_cells = Jupyter.notebook.get_cells();\n",
       "                for (var i = 0; i < nbb_cells.length; ++i) {\n",
       "                    if (nbb_cells[i].input_prompt_number == nbb_cell_id) {\n",
       "                        if (nbb_cells[i].get_text() == nbb_unformatted_code) {\n",
       "                             nbb_cells[i].set_text(nbb_formatted_code);\n",
       "                        }\n",
       "                        break;\n",
       "                    }\n",
       "                }\n",
       "            }, 500);\n",
       "            "
      ],
      "text/plain": [
       "<IPython.core.display.Javascript object>"
      ]
     },
     "metadata": {},
     "output_type": "display_data"
    }
   ],
   "source": [
    "plot_corr(word_meaning_labels, labels_pred_nn)"
   ]
  },
  {
   "cell_type": "code",
   "execution_count": 121,
   "id": "known-phase",
   "metadata": {},
   "outputs": [
    {
     "data": {
      "text/plain": [
       "6.23159132276085"
      ]
     },
     "execution_count": 121,
     "metadata": {},
     "output_type": "execute_result"
    },
    {
     "data": {
      "application/javascript": [
       "\n",
       "            setTimeout(function() {\n",
       "                var nbb_cell_id = 121;\n",
       "                var nbb_unformatted_code = \"# Lasso regression\\nlasso_clf = Lasso(alpha=0.7, random_state=rng_seed)\\nlasso_clf.fit(X=word_meaning_features, y=word_meaning_labels)\\n\\nlabels_pred = lasso_clf.predict(word_meaning_features)\\nmean_squared_error(word_meaning_labels, labels_pred)\";\n",
       "                var nbb_formatted_code = \"# Lasso regression\\nlasso_clf = Lasso(alpha=0.7, random_state=rng_seed)\\nlasso_clf.fit(X=word_meaning_features, y=word_meaning_labels)\\n\\nlabels_pred = lasso_clf.predict(word_meaning_features)\\nmean_squared_error(word_meaning_labels, labels_pred)\";\n",
       "                var nbb_cells = Jupyter.notebook.get_cells();\n",
       "                for (var i = 0; i < nbb_cells.length; ++i) {\n",
       "                    if (nbb_cells[i].input_prompt_number == nbb_cell_id) {\n",
       "                        if (nbb_cells[i].get_text() == nbb_unformatted_code) {\n",
       "                             nbb_cells[i].set_text(nbb_formatted_code);\n",
       "                        }\n",
       "                        break;\n",
       "                    }\n",
       "                }\n",
       "            }, 500);\n",
       "            "
      ],
      "text/plain": [
       "<IPython.core.display.Javascript object>"
      ]
     },
     "metadata": {},
     "output_type": "display_data"
    }
   ],
   "source": [
    "# Lasso regression\n",
    "lasso_clf = Lasso(alpha=0.7, random_state=rng_seed)\n",
    "lasso_clf.fit(X=word_meaning_features, y=word_meaning_labels)\n",
    "\n",
    "labels_pred = lasso_clf.predict(word_meaning_features)\n",
    "mean_squared_error(word_meaning_labels, labels_pred)"
   ]
  },
  {
   "cell_type": "code",
   "execution_count": 122,
   "id": "broadband-washer",
   "metadata": {},
   "outputs": [
    {
     "data": {
      "text/plain": [
       "array([1.94496302, 1.94496302, 1.94496302, ..., 1.94496302, 1.94496302,\n",
       "       1.94496302])"
      ]
     },
     "execution_count": 122,
     "metadata": {},
     "output_type": "execute_result"
    },
    {
     "data": {
      "application/javascript": [
       "\n",
       "            setTimeout(function() {\n",
       "                var nbb_cell_id = 122;\n",
       "                var nbb_unformatted_code = \"labels_pred\";\n",
       "                var nbb_formatted_code = \"labels_pred\";\n",
       "                var nbb_cells = Jupyter.notebook.get_cells();\n",
       "                for (var i = 0; i < nbb_cells.length; ++i) {\n",
       "                    if (nbb_cells[i].input_prompt_number == nbb_cell_id) {\n",
       "                        if (nbb_cells[i].get_text() == nbb_unformatted_code) {\n",
       "                             nbb_cells[i].set_text(nbb_formatted_code);\n",
       "                        }\n",
       "                        break;\n",
       "                    }\n",
       "                }\n",
       "            }, 500);\n",
       "            "
      ],
      "text/plain": [
       "<IPython.core.display.Javascript object>"
      ]
     },
     "metadata": {},
     "output_type": "display_data"
    }
   ],
   "source": [
    "labels_pred"
   ]
  },
  {
   "cell_type": "code",
   "execution_count": 123,
   "id": "ultimate-sampling",
   "metadata": {},
   "outputs": [
    {
     "name": "stderr",
     "output_type": "stream",
     "text": [
      "/usr/local/lib/python3.6/dist-packages/scipy/stats/stats.py:3845: PearsonRConstantInputWarning: An input array is constant; the correlation coefficent is not defined.\n",
      "  warnings.warn(PearsonRConstantInputWarning())\n"
     ]
    },
    {
     "data": {
      "image/png": "[encoded data removed]",
      "text/plain": [
       "<Figure size 720x720 with 1 Axes>"
      ]
     },
     "metadata": {
      "needs_background": "light"
     },
     "output_type": "display_data"
    },
    {
     "data": {
      "application/javascript": [
       "\n",
       "            setTimeout(function() {\n",
       "                var nbb_cell_id = 123;\n",
       "                var nbb_unformatted_code = \"plot_corr(word_meaning_labels, labels_pred)\";\n",
       "                var nbb_formatted_code = \"plot_corr(word_meaning_labels, labels_pred)\";\n",
       "                var nbb_cells = Jupyter.notebook.get_cells();\n",
       "                for (var i = 0; i < nbb_cells.length; ++i) {\n",
       "                    if (nbb_cells[i].input_prompt_number == nbb_cell_id) {\n",
       "                        if (nbb_cells[i].get_text() == nbb_unformatted_code) {\n",
       "                             nbb_cells[i].set_text(nbb_formatted_code);\n",
       "                        }\n",
       "                        break;\n",
       "                    }\n",
       "                }\n",
       "            }, 500);\n",
       "            "
      ],
      "text/plain": [
       "<IPython.core.display.Javascript object>"
      ]
     },
     "metadata": {},
     "output_type": "display_data"
    }
   ],
   "source": [
    "plot_corr(word_meaning_labels, labels_pred)"
   ]
  }
 ],
 "metadata": {
  "kernelspec": {
   "display_name": "Python 3",
   "language": "python",
   "name": "python3"
  },
  "language_info": {
   "codemirror_mode": {
    "name": "ipython",
    "version": 3
   },
   "file_extension": ".py",
   "mimetype": "text/x-python",
   "name": "python",
   "nbconvert_exporter": "python",
   "pygments_lexer": "ipython3",
   "version": "3.6.9"
  }
 },
 "nbformat": 4,
 "nbformat_minor": 5
}
