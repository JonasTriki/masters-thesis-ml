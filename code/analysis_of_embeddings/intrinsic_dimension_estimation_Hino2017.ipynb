{
 "cells": [
  {
   "cell_type": "code",
   "execution_count": null,
   "id": "weekly-complement",
   "metadata": {},
   "outputs": [],
   "source": [
    "%load_ext nb_black"
   ]
  },
  {
   "cell_type": "code",
   "execution_count": null,
   "id": "productive-dietary",
   "metadata": {},
   "outputs": [],
   "source": [
    "# Imports\n",
    "from os.path import join\n",
    "import numpy as np\n",
    "from tqdm.auto import tqdm\n",
    "\n",
    "rng_seed = 399\n",
    "np.random.seed(rng_seed)\n",
    "\n",
    "from matplotlib import pyplot as plt\n",
    "from scipy.stats import pearsonr, poisson\n",
    "from scipy.optimize import minimize\n",
    "\n",
    "import plotly.offline as pyo\n",
    "\n",
    "pyo.init_notebook_mode()\n",
    "\n",
    "import skdim\n",
    "from umap import UMAP\n",
    "\n",
    "# Directory constants\n",
    "analysis_of_embeddings_dir = \".\"\n",
    "analysis_of_embeddings_data_dir = join(analysis_of_embeddings_dir, \"data\")\n",
    "analysis_of_embeddings_custom_data_dir = join(analysis_of_embeddings_dir, \"custom_data\")\n",
    "root_code_dir = join(analysis_of_embeddings_dir, \"..\")\n",
    "topological_data_analysis_dir = join(root_code_dir, \"topological_data_analysis\")\n",
    "output_dir = join(root_code_dir, \"output\")\n",
    "word2vec_training_dir = join(output_dir, \"word2vec_training\")\n",
    "word2vec_cluster_analysis_dir = join(output_dir, \"word2vec_cluster_analysis\")\n",
    "\n",
    "# Extend sys path for importing custom Python files\n",
    "import sys\n",
    "\n",
    "sys.path.extend(\n",
    "    [analysis_of_embeddings_dir, root_code_dir, topological_data_analysis_dir]\n",
    ")\n",
    "\n",
    "from utils import get_model_checkpoint_filepaths, pairwise_cosine_distances\n",
    "from analysis_utils import (\n",
    "    plot_cluster_metric_scores,\n",
    "    transform_word_embeddings,\n",
    "    words_in_clusters,\n",
    "    plot_cluster_sizes,\n",
    "    inspect_word_clusters,\n",
    "    load_word_cluster_group_words,\n",
    "    visualize_word_cluster_groups,\n",
    ")\n",
    "from cluster_analysis_utils import (\n",
    "    cluster_analysis,\n",
    "    visualize_cluster_analysis_result,\n",
    "    plot_word_embeddings_clustered,\n",
    ")\n",
    "from word_embeddings.word2vec import load_model_training_output\n",
    "from vis_utils import plot_word_vectors\n",
    "from topological_polysemy import tps"
   ]
  },
  {
   "cell_type": "markdown",
   "id": "serious-alberta",
   "metadata": {},
   "source": [
    "# Prepare data"
   ]
  },
  {
   "cell_type": "code",
   "execution_count": null,
   "id": "scientific-package",
   "metadata": {},
   "outputs": [],
   "source": [
    "# Load output from training word2vec\n",
    "w2v_training_output = load_model_training_output(\n",
    "    model_training_output_dir=join(\n",
    "        word2vec_training_dir, \"word2vec_enwiki_jan_2021_word2phrase\"\n",
    "    ),\n",
    "    model_name=\"word2vec\",\n",
    "    dataset_name=\"enwiki\",\n",
    "    return_normalized_embeddings=True,\n",
    ")\n",
    "last_embedding_weights = w2v_training_output[\"last_embedding_weights\"]\n",
    "last_embedding_weights_normalized = w2v_training_output[\n",
    "    \"last_embedding_weights_normalized\"\n",
    "]\n",
    "words = w2v_training_output[\"words\"]\n",
    "word_to_int = w2v_training_output[\"word_to_int\"]"
   ]
  },
  {
   "cell_type": "code",
   "execution_count": null,
   "id": "aggregate-sherman",
   "metadata": {},
   "outputs": [],
   "source": [
    "# Restrict vocabulary size for analysis\n",
    "vocab_size = 10000\n",
    "vocabulary = list(range(vocab_size))\n",
    "last_embedding_weights_in_vocab = np.array(last_embedding_weights[:vocab_size])"
   ]
  },
  {
   "cell_type": "code",
   "execution_count": null,
   "id": "realistic-storage",
   "metadata": {},
   "outputs": [],
   "source": [
    "# Compure pairwise cosine dists\n",
    "word_embeddings_pairwise_dists = pairwise_cosine_distances(\n",
    "    last_embedding_weights_in_vocab\n",
    ")"
   ]
  },
  {
   "cell_type": "markdown",
   "id": "clean-biodiversity",
   "metadata": {},
   "source": [
    "# Intrinsic dimension estimation"
   ]
  },
  {
   "cell_type": "code",
   "execution_count": null,
   "id": "likely-rochester",
   "metadata": {},
   "outputs": [],
   "source": [
    "def MLERegression(betas: np.ndarray, *params: np.ndarray) -> float:\n",
    "    \"\"\"\n",
    "    TODO: Docs\n",
    "    \"\"\"\n",
    "    # Parse parameters\n",
    "    X_d_k, y = params\n",
    "\n",
    "    # Compute negative log-likelihood using Poisson PMF\n",
    "    negative_log_likelihood = -poisson.logpmf(y, mu=X_d_k @ betas).sum()\n",
    "\n",
    "    return negative_log_likelihood"
   ]
  },
  {
   "cell_type": "code",
   "execution_count": null,
   "id": "conditional-compatibility",
   "metadata": {},
   "outputs": [],
   "source": [
    "def local_id_estimation(\n",
    "    word_embeddings: np.ndarray, pairwise_dists: np.ndarray = None\n",
    ") -> tuple:\n",
    "    \"\"\"\n",
    "    TODO: Docs\n",
    "    \"\"\"\n",
    "    n, d = word_embeddings.shape\n",
    "    m = min(np.ceil(n / 5), 100)\n",
    "\n",
    "    # Estimate the intrinsic dimension for each data point\n",
    "    estimated_ids = []\n",
    "    for i in tqdm(range(n)):\n",
    "        sorted_distance_indices = np.argsort(pairwise_dists[i])\n",
    "        sorted_distances = pairwise_dists[i][sorted_distance_indices][1:]\n",
    "\n",
    "        # Compute X_d and y\n",
    "        y = np.zeros(m, dtype=int)\n",
    "        X_d = np.zeros((d, m, 2))\n",
    "        for j in range(m):\n",
    "            epsilon_radius = np.random.uniform(low=0, high=sorted_distances[j])\n",
    "\n",
    "            # Set y (number of points in epsilon ball from x_i)\n",
    "            y[j] = len(np.where(sorted_distances <= epsilon_radius)[0]) + 1\n",
    "\n",
    "            # Set X_d\n",
    "            for k in range(1, d + 1):\n",
    "                X_d[k - 1, j] = [epsilon_radius ** k, epsilon_radius ** (k + 2)]\n",
    "\n",
    "        # Perform maximum likelihood estimation using Poisson distribution\n",
    "        log_likelihoods = []\n",
    "        for k in range(d):\n",
    "            X_d_k = X_d[k]\n",
    "\n",
    "            mle_res = minimize(\n",
    "                fun=MLERegression,\n",
    "                x0=[0, 0],\n",
    "                args=(X_d_k, y),\n",
    "                # method=\"Nelder-Mead\",\n",
    "                options={\"maxiter\": 2000},  # , \"disp\": True\n",
    "            )\n",
    "\n",
    "            # Use optimal betas to compute likelihood\n",
    "            opt_betas = mle_res.x\n",
    "            opt_log_likelihood = poisson.logpmf(k=y, mu=X_d_k @ opt_betas).sum()\n",
    "            log_likelihoods.append(opt_log_likelihood)\n",
    "\n",
    "        # Find estimated intrinsic dimension\n",
    "        max_log_likelihood_idx = np.argmax(log_likelihoods)\n",
    "        estimated_id = max_log_likelihood_idx + 1\n",
    "        estimated_ids.append(estimated_id)\n",
    "        print(estimated_id)\n",
    "\n",
    "    return estimated_ids, np.mean(estimated_ids)"
   ]
  },
  {
   "cell_type": "code",
   "execution_count": null,
   "id": "double-appliance",
   "metadata": {
    "scrolled": false
   },
   "outputs": [],
   "source": [
    "estimated_ids, estimated_ids_mean = local_id_estimation(\n",
    "    word_embeddings=last_embedding_weights_in_vocab,\n",
    "    pairwise_dists=word_embeddings_pairwise_dists,\n",
    ")"
   ]
  }
 ],
 "metadata": {
  "kernelspec": {
   "display_name": "Python 3",
   "language": "python",
   "name": "python3"
  },
  "language_info": {
   "codemirror_mode": {
    "name": "ipython",
    "version": 3
   },
   "file_extension": ".py",
   "mimetype": "text/x-python",
   "name": "python",
   "nbconvert_exporter": "python",
   "pygments_lexer": "ipython3",
   "version": "3.6.9"
  }
 },
 "nbformat": 4,
 "nbformat_minor": 5
}
