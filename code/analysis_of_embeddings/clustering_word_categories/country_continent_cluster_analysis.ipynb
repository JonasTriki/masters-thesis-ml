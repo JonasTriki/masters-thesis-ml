{
 "cells": [
  {
   "cell_type": "code",
   "execution_count": null,
   "metadata": {},
   "outputs": [],
   "source": [
    "# Imports\n",
    "from os import makedirs\n",
    "from os.path import join\n",
    "import re\n",
    "import numpy as np\n",
    "import pandas as pd\n",
    "rng_seed = 399\n",
    "np.random.seed(rng_seed)\n",
    "from scipy.spatial.distance import pdist, cdist, squareform\n",
    "from matplotlib import pyplot as plt\n",
    "import seaborn as sns\n",
    "sns.set_theme()\n",
    "from tqdm.auto import tqdm\n",
    "\n",
    "import plotly.express as px\n",
    "import plotly.offline as pyo\n",
    "pyo.init_notebook_mode()\n",
    "\n",
    "from umap import UMAP\n",
    "from sklearn.decomposition import PCA\n",
    "\n",
    "from sklearn.model_selection import ParameterGrid\n",
    "from sklearn.cluster import KMeans\n",
    "from sklearn.metrics import silhouette_score\n",
    "from sklearn.metrics.pairwise import pairwise_distances\n",
    "\n",
    "import gudhi as gd\n",
    "\n",
    "# Directory constants\n",
    "analysis_of_embeddings_dir = \"..\"\n",
    "root_code_dir = join(analysis_of_embeddings_dir, \"..\")\n",
    "output_dir = join(root_code_dir, \"output\")\n",
    "word2vec_training_dir = join(output_dir, \"word2vec_training\")\n",
    "\n",
    "# Extend sys path for importing custom Python files\n",
    "import sys\n",
    "sys.path.extend([analysis_of_embeddings_dir, root_code_dir])\n",
    "\n",
    "from utils import get_model_checkpoint_filepaths, pairwise_cosine_distances\n",
    "from analysis_utils import words_in_clusters\n",
    "from word_embeddings.word2vec import load_model_training_output\n",
    "from text_preprocessing_utils import preprocess_text"
   ]
  },
  {
   "cell_type": "markdown",
   "metadata": {},
   "source": [
    "## Prepare data"
   ]
  },
  {
   "cell_type": "code",
   "execution_count": null,
   "metadata": {},
   "outputs": [],
   "source": [
    "# Load output from training word2vec\n",
    "w2v_training_output = load_model_training_output(\n",
    "    model_training_output_dir=join(word2vec_training_dir, \"word2vec_enwiki_sept_2020_word2phrase\"),\n",
    "    model_name=\"word2vec\",\n",
    "    dataset_name=\"enwiki\",\n",
    ")\n",
    "last_embedding_weights = w2v_training_output[\"last_embedding_weights\"]\n",
    "words = w2v_training_output[\"words\"]\n",
    "word_to_int = w2v_training_output[\"word_to_int\"]"
   ]
  },
  {
   "cell_type": "code",
   "execution_count": null,
   "metadata": {},
   "outputs": [],
   "source": [
    "# Load country-capital data\n",
    "country_capital_df = pd.read_csv(\"data/country-info.csv\")"
   ]
  },
  {
   "cell_type": "code",
   "execution_count": null,
   "metadata": {},
   "outputs": [],
   "source": [
    "country_capital_pairs_in_vocab = country_capital_df[[\"name\", \"capital\"]].isin(words).apply(all, axis=1)\n",
    "country_capital_in_vocab_df = country_capital_df[country_capital_pairs_in_vocab]\n",
    "print(f\"Total {len(country_capital_df)} country/capital pairs, of them {len(country_capital_in_vocab_df)} in vocabulary.\")"
   ]
  },
  {
   "cell_type": "code",
   "execution_count": null,
   "metadata": {},
   "outputs": [],
   "source": [
    "country_capital_in_vocab_df"
   ]
  },
  {
   "cell_type": "markdown",
   "metadata": {},
   "source": [
    "## Visualize countries with continent as label"
   ]
  },
  {
   "cell_type": "code",
   "execution_count": null,
   "metadata": {},
   "outputs": [],
   "source": [
    "fig = px.scatter(\n",
    "    country_capital_in_vocab_df,\n",
    "    x=\"longitude\",\n",
    "    y=\"latitude\",\n",
    "    title=\"Capitals of countries of the world in lat/lng coordinates\",\n",
    "    labels={\"longitude\": \"Longitude\", \"latitude\": \"Latitude\"},\n",
    "    color=\"continent\",\n",
    "    hover_data=[\"name\", \"capital\"]\n",
    ")\n",
    "fig.show()"
   ]
  },
  {
   "cell_type": "markdown",
   "metadata": {},
   "source": [
    "## Compute cluster labels using country words and capital words"
   ]
  },
  {
   "cell_type": "code",
   "execution_count": null,
   "metadata": {},
   "outputs": [],
   "source": [
    "def cluster_country_capital_words(words: np.ndarray, embedding_weights: np.ndarray, word_to_int: dict, cluster_sizes: list, embedders: list):\n",
    "    \"\"\"\n",
    "    TODO: Docs\n",
    "    \"\"\"\n",
    "    # Create array with word vectors\n",
    "    word_vecs = np.zeros((len(words), embedding_weights.shape[1]))\n",
    "    for i, word in enumerate(words):\n",
    "        word_vecs[i] = embedding_weights[word_to_int[word]]\n",
    "    \n",
    "    # Compute cluster labels\n",
    "    cluster_labels = {}\n",
    "    for k in cluster_sizes:\n",
    "        cluster_labels[k] = KMeans(n_clusters=k).fit_predict(word_vecs)\n",
    "\n",
    "    # Create embeddings\n",
    "    embeddings = {}\n",
    "    for embedding_name, embedders in embedders:\n",
    "        embeddings[embedding_name] = embedders.fit_transform(word_vecs)\n",
    "    \n",
    "    return word_vecs, cluster_labels, embeddings"
   ]
  },
  {
   "cell_type": "code",
   "execution_count": null,
   "metadata": {},
   "outputs": [],
   "source": [
    "# Get word vectors of country capitals\n",
    "countries = country_capital_in_vocab_df[\"name\"].values\n",
    "country_capitals = country_capital_in_vocab_df[\"capital\"].values\n",
    "\n",
    "# Constants\n",
    "country_capital_cluster_sizes = [6] # [5, 6, 7]\n",
    "country_capital_embedders = [\n",
    "    (\"PCA\", PCA(\n",
    "        n_components=2,\n",
    "        random_state=rng_seed\n",
    "    )),\n",
    "    (\"UMAP\", UMAP(\n",
    "        n_components=2,\n",
    "        #n_neighbors=20,\n",
    "        #min_dist=0.15,\n",
    "        metric=\"cosine\",\n",
    "        random_state=rng_seed\n",
    "    )),\n",
    "]\n",
    "\n",
    "# -- Do clustering --\n",
    "# - Country words\n",
    "country_word_vecs, country_cluster_labels, country_embeddings = cluster_country_capital_words(\n",
    "    words=countries,\n",
    "    embedding_weights=last_embedding_weights,\n",
    "    word_to_int=word_to_int,\n",
    "    cluster_sizes=country_capital_cluster_sizes,\n",
    "    embedders=country_capital_embedders\n",
    ")\n",
    "\n",
    "# - Capital words\n",
    "country_capital_word_vecs, country_capital_cluster_labels, country_capital_embeddings = cluster_country_capital_words(\n",
    "    words=country_capitals,\n",
    "    embedding_weights=last_embedding_weights,\n",
    "    word_to_int=word_to_int,\n",
    "    cluster_sizes=country_capital_cluster_sizes,\n",
    "    embedders=country_capital_embedders\n",
    ")"
   ]
  },
  {
   "cell_type": "code",
   "execution_count": null,
   "metadata": {},
   "outputs": [],
   "source": [
    "def visualize_country_capital_embedding(\n",
    "    cluster_labels: dict,\n",
    "    word_vector_embeddings: np.ndarray,\n",
    "    coordinate_system: str,\n",
    "    countries: np.ndarray,\n",
    "    capitals: np.ndarray,\n",
    "    print_countries_in_clusters: bool = False\n",
    "):\n",
    "    \"\"\"\n",
    "    TODO: Docs\n",
    "    \"\"\"\n",
    "    # Visualize embedding\n",
    "    for cluster_size, cluster_labels in cluster_labels.items():\n",
    "\n",
    "        # Plot\n",
    "        fig = px.scatter(\n",
    "            x=word_vector_embeddings[:, 0],\n",
    "            y=word_vector_embeddings[:, 1],\n",
    "            title=f\"Capitals of countries of the world in {coordinate_system} coordinates with {cluster_size} clusters\",\n",
    "            labels={\"x\": \"x1\", \"y\": \"x2\"},\n",
    "            color=cluster_labels,\n",
    "            hover_data={\"name\": countries, \"capital\": country_capitals}\n",
    "        )\n",
    "        fig.show()\n",
    "\n",
    "        if print_countries_in_clusters:\n",
    "            cluster_words, _ = words_in_clusters(cluster_labels, countries)\n",
    "            print(\"-- Countries (and continents) in clusters --\")\n",
    "            for word_cluster in cluster_words:\n",
    "                print(\"Countries\", word_cluster)\n",
    "\n",
    "                continents = country_capital_in_vocab_df[country_capital_in_vocab_df[\"name\"].isin(word_cluster)][\"continent\"].values\n",
    "                print(\"Continents\", continents)\n",
    "                print()"
   ]
  },
  {
   "cell_type": "code",
   "execution_count": null,
   "metadata": {
    "scrolled": false
   },
   "outputs": [],
   "source": [
    "# Lat/lng visualization - using countries for clustering\n",
    "visualize_country_capital_embedding(\n",
    "    cluster_labels=country_cluster_labels,\n",
    "    word_vector_embeddings=country_capital_in_vocab_df[[\"longitude\", \"latitude\"]].values,\n",
    "    coordinate_system=\"lat/lng\",\n",
    "    countries=countries,\n",
    "    capitals=country_capitals,\n",
    "    print_countries_in_clusters=False\n",
    ")"
   ]
  },
  {
   "cell_type": "code",
   "execution_count": null,
   "metadata": {
    "scrolled": false
   },
   "outputs": [],
   "source": [
    "# Lat/lng visualization - using capital of countries for clustering\n",
    "visualize_country_capital_embedding(\n",
    "    cluster_labels=country_capital_cluster_labels,\n",
    "    word_vector_embeddings=country_capital_in_vocab_df[[\"longitude\", \"latitude\"]].values,\n",
    "    coordinate_system=\"lat/lng\",\n",
    "    countries=countries,\n",
    "    capitals=country_capitals,\n",
    "    print_countries_in_clusters=False\n",
    ")"
   ]
  },
  {
   "cell_type": "code",
   "execution_count": null,
   "metadata": {
    "scrolled": false
   },
   "outputs": [],
   "source": [
    "# UMAP visualization - using countries for clustering\n",
    "visualize_country_capital_embedding(\n",
    "    cluster_labels=country_cluster_labels,\n",
    "    word_vector_embeddings=country_embeddings[\"UMAP\"],\n",
    "    coordinate_system=\"UMAP\",\n",
    "    countries=countries,\n",
    "    capitals=country_capitals,\n",
    "    print_countries_in_clusters=False\n",
    ")"
   ]
  },
  {
   "cell_type": "code",
   "execution_count": null,
   "metadata": {
    "scrolled": false
   },
   "outputs": [],
   "source": [
    "# UMAP visualization - using capital of countries for clustering\n",
    "visualize_country_capital_embedding(\n",
    "    cluster_labels=country_capital_cluster_labels,\n",
    "    word_vector_embeddings=country_embeddings[\"UMAP\"],\n",
    "    coordinate_system=\"UMAP\",\n",
    "    countries=countries,\n",
    "    capitals=country_capitals,\n",
    "    print_countries_in_clusters=False\n",
    ")"
   ]
  },
  {
   "cell_type": "code",
   "execution_count": null,
   "metadata": {
    "scrolled": false
   },
   "outputs": [],
   "source": [
    "# PCA visualization - using countries for clustering\n",
    "visualize_country_capital_embedding(\n",
    "    cluster_labels=country_cluster_labels,\n",
    "    word_vector_embeddings=country_embeddings[\"PCA\"],\n",
    "    coordinate_system=\"PCA\",\n",
    "    countries=countries,\n",
    "    capitals=country_capitals,\n",
    "    print_countries_in_clusters=False\n",
    ")"
   ]
  },
  {
   "cell_type": "code",
   "execution_count": null,
   "metadata": {
    "scrolled": false
   },
   "outputs": [],
   "source": [
    "# PCA visualization - using capital of countries for clustering\n",
    "visualize_country_capital_embedding(\n",
    "    cluster_labels=country_capital_cluster_labels,\n",
    "    word_vector_embeddings=country_embeddings[\"PCA\"],\n",
    "    coordinate_system=\"PCA\",\n",
    "    countries=countries,\n",
    "    capitals=country_capitals,\n",
    "    print_countries_in_clusters=False\n",
    ")"
   ]
  },
  {
   "cell_type": "markdown",
   "metadata": {},
   "source": [
    "## VR-complex and persitence diagrams of countries and capitals"
   ]
  },
  {
   "cell_type": "code",
   "execution_count": null,
   "metadata": {},
   "outputs": [],
   "source": [
    "# Precompute cosine distance matrix\n",
    "word_embeddings_distances_country = pairwise_cosine_distances(country_word_vecs)\n",
    "word_embeddings_distances_country_capital = pairwise_cosine_distances(country_capital_word_vecs)\n",
    "precomputed_distances_matrices = [\n",
    "    (\"Country\", word_embeddings_distances_country),\n",
    "    (\"Country capital\", word_embeddings_distances_country_capital)\n",
    "]"
   ]
  },
  {
   "cell_type": "code",
   "execution_count": null,
   "metadata": {},
   "outputs": [],
   "source": [
    "for name, distance_matrix in precomputed_distances_matrices:\n",
    "    print(f\"-- {name} --\")\n",
    "    \n",
    "    # Building Vietoris-Rips complex \n",
    "    skeleton_word2vec = gd.RipsComplex(\n",
    "        distance_matrix=distance_matrix,\n",
    "        # max_edge_length=0.8\n",
    "    )\n",
    "    \n",
    "    simplex_tree = skeleton_word2vec.create_simplex_tree(max_dimension=2)\n",
    "    barcodes = simplex_tree.persistence()\n",
    "    gd.plot_persistence_diagram(barcodes)\n",
    "    plt.show()"
   ]
  }
 ],
 "metadata": {
  "kernelspec": {
   "display_name": "Python 3",
   "language": "python",
   "name": "python3"
  },
  "language_info": {
   "codemirror_mode": {
    "name": "ipython",
    "version": 3
   },
   "file_extension": ".py",
   "mimetype": "text/x-python",
   "name": "python",
   "nbconvert_exporter": "python",
   "pygments_lexer": "ipython3",
   "version": "3.6.9"
  }
 },
 "nbformat": 4,
 "nbformat_minor": 4
}
