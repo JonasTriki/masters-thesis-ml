{
 "cells": [
  {
   "cell_type": "code",
   "execution_count": null,
   "metadata": {},
   "outputs": [],
   "source": [
    "# Imports\n",
    "from os import makedirs\n",
    "from os.path import join\n",
    "import joblib\n",
    "import numpy as np\n",
    "rng_seed = 399\n",
    "np.random.seed(rng_seed)\n",
    "from scipy.spatial.distance import pdist, cdist, squareform\n",
    "from matplotlib import pyplot as plt\n",
    "import seaborn as sns\n",
    "sns.set_theme()\n",
    "from tqdm.auto import tqdm\n",
    "import pandas as pd\n",
    "\n",
    "from sklearn.model_selection import ParameterGrid\n",
    "from sklearn.metrics.pairwise import pairwise_distances\n",
    "from scipy.cluster.hierarchy import dendrogram, fcluster\n",
    "\n",
    "from umap import UMAP\n",
    "import plotly.offline as pyo\n",
    "pyo.init_notebook_mode()\n",
    "\n",
    "# Directory constants\n",
    "analysis_of_embeddings_dir = \"..\"\n",
    "analysis_of_embeddings_data_dir = join(analysis_of_embeddings_dir, \"data\")\n",
    "analysis_of_embeddings_custom_data_dir = join(analysis_of_embeddings_dir, \"custom_data\")\n",
    "root_code_dir = join(analysis_of_embeddings_dir, \"..\")\n",
    "output_dir = join(root_code_dir, \"output\")\n",
    "word2vec_training_dir = join(output_dir, \"word2vec_training\")\n",
    "word2vec_cluster_analysis_dir = join(output_dir, \"word2vec_cluster_analysis\")\n",
    "\n",
    "# Extend sys path for importing custom Python files\n",
    "import sys\n",
    "sys.path.extend([analysis_of_embeddings_dir, root_code_dir])\n",
    "\n",
    "from utils import get_model_checkpoint_filepaths, pairwise_cosine_distances\n",
    "from analysis_utils import (plot_cluster_metric_scores, words_in_clusters,\n",
    "                            plot_cluster_sizes, inspect_word_clusters,\n",
    "                            load_word_cluster_group_words, visualize_word_cluster_groups)\n",
    "from word_embeddings.eval_utils import plot_word_vectors\n",
    "from word_embeddings.word2vec import load_model_training_output"
   ]
  },
  {
   "cell_type": "markdown",
   "metadata": {},
   "source": [
    "# Prepare data"
   ]
  },
  {
   "cell_type": "code",
   "execution_count": null,
   "metadata": {},
   "outputs": [],
   "source": [
    "# Load output from training word2vec\n",
    "w2v_training_output = load_model_training_output(\n",
    "    model_training_output_dir=join(word2vec_training_dir, \"word2vec_enwiki_sept_2020_word2phrase\"),\n",
    "    model_name=\"word2vec\",\n",
    "    dataset_name=\"enwiki\",\n",
    ")\n",
    "last_embedding_weights = w2v_training_output[\"last_embedding_weights\"]\n",
    "words = w2v_training_output[\"words\"]\n",
    "word_to_int = w2v_training_output[\"word_to_int\"]"
   ]
  },
  {
   "cell_type": "code",
   "execution_count": null,
   "metadata": {},
   "outputs": [],
   "source": [
    "# Restrict vocabulary size for analysis\n",
    "vocab_size = 10000"
   ]
  },
  {
   "cell_type": "code",
   "execution_count": null,
   "metadata": {
    "scrolled": true
   },
   "outputs": [],
   "source": [
    "# Precompute cosine distance matrix\n",
    "word_embeddings_to_precompute = last_embedding_weights[:vocab_size]\n",
    "word_embeddings_distances = pairwise_cosine_distances(word_embeddings_to_precompute)"
   ]
  },
  {
   "cell_type": "markdown",
   "metadata": {},
   "source": [
    "# Visualizing word cluster groups"
   ]
  },
  {
   "cell_type": "code",
   "execution_count": null,
   "metadata": {},
   "outputs": [],
   "source": [
    "# Transforming word embeddings into 2D UMAP space\n",
    "word_embeddings_transformed = UMAP(\n",
    "    n_components=2,\n",
    "    metric=\"precomputed\",\n",
    "    random_state=rng_seed,\n",
    ").fit_transform(word_embeddings_distances)"
   ]
  },
  {
   "cell_type": "code",
   "execution_count": null,
   "metadata": {},
   "outputs": [],
   "source": [
    "# Load word groups data\n",
    "word_groups_data = load_word_cluster_group_words(\n",
    "    data_dir=analysis_of_embeddings_data_dir,\n",
    "    custom_data_dir=analysis_of_embeddings_custom_data_dir,\n",
    "    word_to_int=word_to_int,\n",
    ")\n",
    "word_groups_data.keys()"
   ]
  },
  {
   "cell_type": "markdown",
   "metadata": {},
   "source": [
    "## Countries/capitals"
   ]
  },
  {
   "cell_type": "code",
   "execution_count": null,
   "metadata": {},
   "outputs": [],
   "source": [
    "visualize_word_cluster_groups(\n",
    "    transformed_word_embeddings=word_embeddings_transformed,\n",
    "    words=words[:vocab_size],\n",
    "    word_groups={\n",
    "        \"countries\": {\n",
    "            \"words\": word_groups_data[\"countries\"],\n",
    "            \"color\": \"green\",\n",
    "        },\n",
    "        \"country_capitals\": {\n",
    "            \"words\": word_groups_data[\"country_capitals\"],\n",
    "            \"color\": \"cyan\",\n",
    "        }\n",
    "    },\n",
    "    visualize_non_group_words=True,\n",
    "    xlabel=\"UMAP 1\",\n",
    "    ylabel=\"UMAP 2\",\n",
    "    alpha=1,\n",
    "    interactive=True,\n",
    ")"
   ]
  },
  {
   "cell_type": "markdown",
   "metadata": {},
   "source": [
    "TODO: Comment on result/perform deeper analysis."
   ]
  },
  {
   "cell_type": "markdown",
   "metadata": {},
   "source": [
    "## Names"
   ]
  },
  {
   "cell_type": "code",
   "execution_count": null,
   "metadata": {},
   "outputs": [],
   "source": [
    "visualize_word_cluster_groups(\n",
    "    transformed_word_embeddings=word_embeddings_transformed,TODO: Comment on result/perform deeper analysis.\n",
    "    words=words[:vocab_size],\n",
    "    word_groups={\n",
    "        \"male_names\": {\n",
    "            \"words\": word_groups_data[\"male_names\"],\n",
    "            \"color\": \"green\",\n",
    "        },\n",
    "        \"female_names\": {\n",
    "            \"words\": word_groups_data[\"female_names\"],\n",
    "            \"color\": \"cyan\",\n",
    "        }\n",
    "    },\n",
    "    visualize_non_group_words=True,\n",
    "    xlabel=\"UMAP 1\",\n",
    "    ylabel=\"UMAP 2\",\n",
    "    alpha=1,\n",
    "    interactive=True,\n",
    ")"
   ]
  },
  {
   "cell_type": "markdown",
   "metadata": {},
   "source": [
    "TODO: Comment on result/perform deeper analysis."
   ]
  },
  {
   "cell_type": "markdown",
   "metadata": {},
   "source": [
    "## Numbers"
   ]
  },
  {
   "cell_type": "code",
   "execution_count": null,
   "metadata": {},
   "outputs": [],
   "source": [
    "visualize_word_cluster_groups(\n",
    "    transformed_word_embeddings=word_embeddings_transformed,\n",
    "    words=words[:vocab_size],\n",
    "    word_groups={\n",
    "        \"numbers\": {\n",
    "            \"words\": word_groups_data[\"numbers\"],\n",
    "            \"color\": \"green\",\n",
    "        },\n",
    "    },\n",
    "    visualize_non_group_words=True,\n",
    "    xlabel=\"UMAP 1\",\n",
    "    ylabel=\"UMAP 2\",\n",
    "    alpha=1,\n",
    "    interactive=True,\n",
    ")"
   ]
  },
  {
   "cell_type": "markdown",
   "metadata": {},
   "source": [
    "TODO: Comment on result/perform deeper analysis."
   ]
  },
  {
   "cell_type": "markdown",
   "metadata": {},
   "source": [
    "## Video games"
   ]
  },
  {
   "cell_type": "code",
   "execution_count": null,
   "metadata": {},
   "outputs": [],
   "source": [
    "visualize_word_cluster_groups(\n",
    "    transformed_word_embeddings=word_embeddings_transformed,\n",
    "    words=words[:vocab_size],\n",
    "    word_groups={\n",
    "        \"video_games\": {\n",
    "            \"words\": word_groups_data[\"video_games\"],\n",
    "            \"color\": \"green\",\n",
    "        },TODO: Comment on result/perform deeper analysis.\n",
    "    },\n",
    "    visualize_non_group_words=True,\n",
    "    xlabel=\"UMAP 1\",\n",
    "    ylabel=\"UMAP 2\",\n",
    "    alpha=1,\n",
    "    interactive=True,\n",
    ")"
   ]
  },
  {
   "cell_type": "markdown",
   "metadata": {},
   "source": [
    "TODO: Comment on result/perform deeper analysis."
   ]
  }
 ],
 "metadata": {
  "kernelspec": {
   "display_name": "Python 3",
   "language": "python",
   "name": "python3"
  },
  "language_info": {
   "codemirror_mode": {
    "name": "ipython",
    "version": 3
   },
   "file_extension": ".py",
   "mimetype": "text/x-python",
   "name": "python",
   "nbconvert_exporter": "python",
   "pygments_lexer": "ipython3",
   "version": "3.6.9"
  }
 },
 "nbformat": 4,
 "nbformat_minor": 4
}
