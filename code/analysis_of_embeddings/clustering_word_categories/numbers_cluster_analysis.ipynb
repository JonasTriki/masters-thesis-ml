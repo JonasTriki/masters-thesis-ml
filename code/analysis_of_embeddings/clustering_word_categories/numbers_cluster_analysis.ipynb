{
 "cells": [
  {
   "cell_type": "code",
   "execution_count": null,
   "metadata": {},
   "outputs": [],
   "source": [
    "# Imports\n",
    "from os import makedirs\n",
    "from os.path import join\n",
    "import re\n",
    "import numpy as np\n",
    "import pandas as pd\n",
    "rng_seed = 399\n",
    "np.random.seed(rng_seed)\n",
    "from scipy.spatial.distance import pdist, cdist, squareform\n",
    "from matplotlib import pyplot as plt\n",
    "import seaborn as sns\n",
    "sns.set_theme()\n",
    "from tqdm.auto import tqdm\n",
    "\n",
    "import plotly.express as px\n",
    "import plotly.offline as pyo\n",
    "pyo.init_notebook_mode()\n",
    "\n",
    "from umap import UMAP\n",
    "from sklearn.decomposition import PCA\n",
    "\n",
    "from sklearn.model_selection import ParameterGrid\n",
    "from sklearn.cluster import KMeans\n",
    "from sklearn.metrics import silhouette_score\n",
    "from sklearn.metrics.pairwise import pairwise_distances\n",
    "\n",
    "import gudhi as gd\n",
    "\n",
    "# Directory constants\n",
    "analysis_of_embeddings_dir = \"..\"\n",
    "root_code_dir = join(analysis_of_embeddings_dir, \"..\")\n",
    "output_dir = join(root_code_dir, \"output\")\n",
    "word2vec_training_dir = join(output_dir, \"word2vec_training\")\n",
    "\n",
    "# Extend sys path for importing custom Python files\n",
    "import sys\n",
    "sys.path.extend([analysis_of_embeddings_dir, root_code_dir])\n",
    "\n",
    "from utils import get_model_checkpoint_filepaths, pairwise_cosine_distances\n",
    "from analysis_utils import words_in_clusters\n",
    "from word_embeddings.word2vec import load_model_training_output\n",
    "from preprocess_analysis_data import preprocess_text"
   ]
  },
  {
   "cell_type": "markdown",
   "metadata": {},
   "source": [
    "## Prepare data"
   ]
  },
  {
   "cell_type": "code",
   "execution_count": null,
   "metadata": {},
   "outputs": [],
   "source": [
    "# Load output from training word2vec\n",
    "w2v_training_output = load_model_training_output(\n",
    "    model_training_output_dir=join(word2vec_training_dir, \"word2vec_enwiki_sept_2020_word2phrase\"),\n",
    "    model_name=\"word2vec\",\n",
    "    dataset_name=\"enwiki\",\n",
    ")\n",
    "last_embedding_weights = w2v_training_output[\"last_embedding_weights\"]\n",
    "words = w2v_training_output[\"words\"]\n",
    "word_to_int = w2v_training_output[\"word_to_int\"]"
   ]
  },
  {
   "cell_type": "code",
   "execution_count": null,
   "metadata": {},
   "outputs": [],
   "source": [
    "# Stringify list of numbers to list of words\n",
    "max_num = 1000\n",
    "numbers_set = set()\n",
    "for number in np.arange(max_num + 1):\n",
    "    for num in preprocess_text(str(number)):\n",
    "        if num != \"and\":\n",
    "            numbers_set.add(num)\n",
    "number_words_in_vocab = np.array([num_word for num_word in numbers_set if num_word in word_to_int])\n",
    "print(f\"Total {len(numbers_set)} number words, of them {len(number_words_in_vocab)} in vocabulary.\")"
   ]
  },
  {
   "cell_type": "code",
   "execution_count": null,
   "metadata": {},
   "outputs": [],
   "source": [
    "def cluster_category_words(words: np.ndarray, embedding_weights: np.ndarray, word_to_int: dict, cluster_sizes: list, embedders: list):\n",
    "    \"\"\"\n",
    "    TODO: Docs\n",
    "    \"\"\"\n",
    "    # Create array with word vectors\n",
    "    word_vecs = np.zeros((len(words), embedding_weights.shape[1]))\n",
    "    for i, word in enumerate(words):\n",
    "        word_vecs[i] = embedding_weights[word_to_int[word]]\n",
    "    \n",
    "    # Compute cluster labels\n",
    "    cluster_labels = {}\n",
    "    for k in cluster_sizes:\n",
    "        cluster_labels[k] = KMeans(n_clusters=k).fit_predict(word_vecs)\n",
    "\n",
    "    # Create embeddings\n",
    "    embeddings = {}\n",
    "    for embedding_name, embedders in embedders:\n",
    "        embeddings[embedding_name] = embedders.fit_transform(word_vecs)\n",
    "    \n",
    "    return word_vecs, cluster_labels, embeddings"
   ]
  },
  {
   "cell_type": "code",
   "execution_count": null,
   "metadata": {},
   "outputs": [],
   "source": [
    "number_word_vecs, number_cluster_labels, number_embeddings = cluster_category_words(\n",
    "    words=number_words_in_vocab,\n",
    "    embedding_weights=last_embedding_weights,\n",
    "    word_to_int=word_to_int,\n",
    "    cluster_sizes=[5],\n",
    "    embedders=[\n",
    "        (\"PCA\", PCA(\n",
    "            n_components=2,\n",
    "            random_state=rng_seed\n",
    "        )),\n",
    "        (\"UMAP\", UMAP(\n",
    "            n_neighbors=10,\n",
    "            n_components=2,\n",
    "            metric=\"cosine\",\n",
    "            random_state=rng_seed\n",
    "        )),\n",
    "    ]\n",
    ")"
   ]
  },
  {
   "cell_type": "code",
   "execution_count": null,
   "metadata": {},
   "outputs": [],
   "source": [
    "def visualize_category_embedding(\n",
    "    cluster_labels: dict,\n",
    "    word_vector_embeddings: np.ndarray,\n",
    "    coordinate_system: str,\n",
    "    category_words: np.ndarray,\n",
    "    print_words_in_clusters: bool = False\n",
    "):\n",
    "    \"\"\"\n",
    "    TODO: Docs\n",
    "    \"\"\"\n",
    "    # Visualize embedding\n",
    "    for cluster_size, cluster_labels in cluster_labels.items():\n",
    "\n",
    "        # Plot\n",
    "        fig = px.scatter(\n",
    "            x=word_vector_embeddings[:, 0],\n",
    "            y=word_vector_embeddings[:, 1],\n",
    "            title=f\"Embedding of words in {coordinate_system} coordinates with {cluster_size} clusters\",\n",
    "            labels={\"x\": \"x1\", \"y\": \"x2\"},\n",
    "            color=cluster_labels,\n",
    "            hover_data={\"word\": category_words}\n",
    "        )\n",
    "        fig.show()\n",
    "\n",
    "        if print_words_in_clusters:\n",
    "            cluster_words, _ = words_in_clusters(cluster_labels, category_words)\n",
    "            print(\"-- Words in clusters --\")\n",
    "            for word_cluster in cluster_words:\n",
    "                print(\"Words\", word_cluster)"
   ]
  },
  {
   "cell_type": "code",
   "execution_count": null,
   "metadata": {
    "scrolled": false
   },
   "outputs": [],
   "source": [
    "visualize_category_embedding(\n",
    "    cluster_labels=number_cluster_labels,\n",
    "    word_vector_embeddings=number_embeddings[\"PCA\"],\n",
    "    coordinate_system=\"PCA\",\n",
    "    category_words=number_words_in_vocab,\n",
    "    print_words_in_clusters=False\n",
    ")"
   ]
  },
  {
   "cell_type": "code",
   "execution_count": null,
   "metadata": {},
   "outputs": [],
   "source": [
    "# TODO: Cluster with 100 clusters"
   ]
  },
  {
   "cell_type": "code",
   "execution_count": null,
   "metadata": {
    "scrolled": false
   },
   "outputs": [],
   "source": [
    "visualize_category_embedding(\n",
    "    cluster_labels=number_cluster_labels,\n",
    "    word_vector_embeddings=number_embeddings[\"UMAP\"],\n",
    "    coordinate_system=\"UMAP\",\n",
    "    category_words=number_words_in_vocab,\n",
    "    print_words_in_clusters=False\n",
    ")"
   ]
  },
  {
   "cell_type": "code",
   "execution_count": null,
   "metadata": {},
   "outputs": [],
   "source": [
    "# TODO: Cluster with ~100 clusters"
   ]
  },
  {
   "cell_type": "code",
   "execution_count": null,
   "metadata": {},
   "outputs": [],
   "source": [
    "# Precompute cosine distance matrix\n",
    "word_embeddings_distances_number_words = pairwise_cosine_distances(number_word_vecs)"
   ]
  },
  {
   "cell_type": "code",
   "execution_count": null,
   "metadata": {
    "scrolled": true
   },
   "outputs": [],
   "source": [
    "# Building Vietoris-Rips complex \n",
    "skeleton_word2vec = gd.RipsComplex(\n",
    "    distance_matrix=word_embeddings_distances_number_words,\n",
    "    # max_edge_length=0.8\n",
    ")\n",
    "\n",
    "simplex_tree = skeleton_word2vec.create_simplex_tree(max_dimension=2)\n",
    "barcodes = simplex_tree.persistence()\n",
    "gd.plot_persistence_diagram(barcodes)\n",
    "plt.show()"
   ]
  }
 ],
 "metadata": {
  "kernelspec": {
   "display_name": "Python 3",
   "language": "python",
   "name": "python3"
  },
  "language_info": {
   "codemirror_mode": {
    "name": "ipython",
    "version": 3
   },
   "file_extension": ".py",
   "mimetype": "text/x-python",
   "name": "python",
   "nbconvert_exporter": "python",
   "pygments_lexer": "ipython3",
   "version": "3.6.9"
  }
 },
 "nbformat": 4,
 "nbformat_minor": 4
}
