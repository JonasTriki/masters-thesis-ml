{
 "cells": [
  {
   "cell_type": "code",
   "execution_count": 1,
   "metadata": {},
   "outputs": [],
   "source": [
    "# Imports\n",
    "from os import makedirs\n",
    "from os.path import join\n",
    "import pickle\n",
    "import numpy as np\n",
    "rng_seed = 399\n",
    "np.random.seed(rng_seed)\n",
    "from scipy.spatial.distance import pdist, cdist, squareform\n",
    "from matplotlib import pyplot as plt\n",
    "from tqdm.auto import tqdm\n",
    "import sys\n",
    "sys.path.append(\"..\")\n",
    "\n",
    "from sklearn.model_selection import ParameterGrid\n",
    "from sklearn.cluster import KMeans\n",
    "from sklearn.metrics import silhouette_score\n",
    "from sklearn.metrics.pairwise import pairwise_distances\n",
    "\n",
    "from utils import get_model_checkpoint_filepaths"
   ]
  },
  {
   "cell_type": "code",
   "execution_count": 4,
   "metadata": {},
   "outputs": [],
   "source": [
    "# Get last word embeddings from training\n",
    "checkpoint_filepaths_dict = get_model_checkpoint_filepaths(\n",
    "    output_dir=\"../output/word2vec_training/17-Oct-2020_01-00-56\",\n",
    "    model_name=\"word2vec\",\n",
    "    dataset_name=\"enwiki\",\n",
    ")\n",
    "last_embedding_weights_filepath = checkpoint_filepaths_dict[\"intermediate_embedding_weight_filepaths\"][-1]\n",
    "last_embedding_weights = np.load(last_embedding_weights_filepath, mmap_mode=\"r\").astype(np.float64)"
   ]
  },
  {
   "cell_type": "code",
   "execution_count": 6,
   "metadata": {},
   "outputs": [],
   "source": [
    "def cluster_hyperparameters_search(\n",
    "    clusterers: list,\n",
    "    clusterer_names: list,\n",
    "    clusterer_hyperparam_grids: list,\n",
    "    vocab_size: int,\n",
    "    word_embeddings: np.ndarray,\n",
    "    output_dir: str = None,\n",
    "    model_name: str = None,\n",
    "    dataset_name: str = None,\n",
    "):\n",
    "    \"\"\"\n",
    "    TODO: Docs\n",
    "    \"\"\"\n",
    "    # Ensure output directory exists\n",
    "    makedirs(output_dir, exist_ok=True)\n",
    "    \n",
    "    # Default to all words if -1\n",
    "    if vocab_size == -1:\n",
    "        vocab_size = len(word_embeddings)\n",
    "    \n",
    "    # Only fit/evaluate on max `vocab_size` words.\n",
    "    word_embeddings_fit = word_embeddings[:vocab_size]\n",
    "    word_embeddings_pairwise_dists = pairwise_distances(word_embeddings_fit)\n",
    "    \n",
    "    # Fit and predict cluster labels\n",
    "    cluster_labels = {}\n",
    "    for clusterer, clusterer_name, hyperparam_grid in zip(clusterers, clusterer_names, clusterer_hyperparam_grids):\n",
    "        print(f\"-- Fitting and predicting cluster labels using {clusterer_name} --\")\n",
    "        cluster_labels[clusterer_name] = {\n",
    "            \"labels\": [],\n",
    "            \"metric_values\": [],\n",
    "            \"best_labels_idx\": -1\n",
    "        }\n",
    "        clusterer_metric_values = []\n",
    "        for hyperparams in tqdm(hyperparam_grid):\n",
    "            cls = clusterer(**hyperparams)\n",
    "            cluster_labels_pred = cls.fit_predict(word_embeddings_fit)\n",
    "            cluster_labels[clusterer_name][\"labels\"].append(cluster_labels_pred)\n",
    "            cluster_metric_value = silhouette_score(word_embeddings_pairwise_dists, cluster_labels_pred, metric=\"precomputed\")\n",
    "            clusterer_metric_values.append(cluster_metric_value)\n",
    "        \n",
    "        cluster_labels[clusterer_name][\"metric_values\"] = clusterer_metric_values\n",
    "        cluster_labels[clusterer_name][\"best_labels_idx\"] = np.argmax(clusterer_metric_values)\n",
    "        \n",
    "    \n",
    "    # Save to output dir\n",
    "    if output_dir is not None and model_name is not None and dataset_name is not None:\n",
    "        output_path = join(output_dir, f\"{model_name}-{dataset_name}-k-means_labels.pkl\")\n",
    "        with open(output_path, \"wb\") as file:\n",
    "            pickle.dump(cluster_labels, file)\n",
    "    \n",
    "    return cluster_labels"
   ]
  },
  {
   "cell_type": "code",
   "execution_count": 10,
   "metadata": {},
   "outputs": [
    {
     "name": "stdout",
     "output_type": "stream",
     "text": [
      "-- Fitting and predicting cluster labels using K-means clustering --\n"
     ]
    },
    {
     "data": {
      "application/vnd.jupyter.widget-view+json": {
       "model_id": "11a8928a63c04b5fb654fdd8e38763a7",
       "version_major": 2,
       "version_minor": 0
      },
      "text/plain": [
       "HBox(children=(HTML(value=''), FloatProgress(value=0.0, max=17.0), HTML(value='')))"
      ]
     },
     "metadata": {},
     "output_type": "display_data"
    },
    {
     "name": "stdout",
     "output_type": "stream",
     "text": [
      "\n"
     ]
    }
   ],
   "source": [
    "ks = [3, 5, 10, 50, 100, 150, 200, 300, 400, 500, 750, 1000, 1500, 2000, 3000, 4000, 5000]\n",
    "pred_cluster_labels = cluster_hyperparameters_search(\n",
    "    clusterers=[\n",
    "        KMeans\n",
    "    ],\n",
    "    clusterer_names=[\n",
    "        \"K-means clustering\"\n",
    "    ],\n",
    "    clusterer_hyperparam_grids=[\n",
    "        ParameterGrid({\"n_clusters\": ks, \"random_state\": [rng_seed]})\n",
    "    ],\n",
    "    vocab_size=10000,\n",
    "    word_embeddings=last_embedding_weights,\n",
    "    output_dir=\"../output/word2vec_cluster_analysis\",\n",
    "    model_name=\"word2vec\",\n",
    "    dataset_name=\"enwiki\"\n",
    ")"
   ]
  },
  {
   "cell_type": "code",
   "execution_count": 18,
   "metadata": {},
   "outputs": [
    {
     "data": {
      "image/png": "[encoded data removed]",
      "text/plain": [
       "<Figure size 432x288 with 1 Axes>"
      ]
     },
     "metadata": {
      "needs_background": "light"
     },
     "output_type": "display_data"
    }
   ],
   "source": [
    "silhouette_scores = pred_cluster_labels[\"K-means clustering\"][\"metric_values\"]\n",
    "xs = range(len(ks))\n",
    "\n",
    "plt.scatter(xs, silhouette_scores)\n",
    "plt.xticks(xs, ks, rotation=45)\n",
    "plt.xlabel(\"Number of clusters\")\n",
    "plt.ylabel(\"Average silhouette score\")\n",
    "plt.plot(xs, silhouette_scores)\n",
    "plt.show()"
   ]
  },
  {
   "cell_type": "code",
   "execution_count": 29,
   "metadata": {},
   "outputs": [
    {
     "name": "stdout",
     "output_type": "stream",
     "text": [
      "3 clusters: max=3624, min=2930, ratio=1.2368600682593858\n",
      "---\n",
      "5 clusters: max=2656, min=1232, ratio=2.155844155844156\n",
      "---\n",
      "10 clusters: max=1797, min=410, ratio=4.382926829268293\n",
      "---\n",
      "50 clusters: max=714, min=11, ratio=64.9090909090909\n",
      "---\n",
      "100 clusters: max=346, min=5, ratio=69.2\n",
      "---\n",
      "150 clusters: max=337, min=3, ratio=112.33333333333333\n",
      "---\n",
      "200 clusters: max=280, min=1, ratio=280.0\n",
      "---\n",
      "300 clusters: max=188, min=1, ratio=188.0\n",
      "---\n",
      "400 clusters: max=163, min=1, ratio=163.0\n",
      "---\n",
      "500 clusters: max=163, min=1, ratio=163.0\n",
      "---\n",
      "750 clusters: max=186, min=1, ratio=186.0\n",
      "---\n",
      "1000 clusters: max=186, min=1, ratio=186.0\n",
      "---\n",
      "1500 clusters: max=181, min=1, ratio=181.0\n",
      "---\n",
      "2000 clusters: max=164, min=1, ratio=164.0\n",
      "---\n",
      "3000 clusters: max=138, min=1, ratio=138.0\n",
      "---\n",
      "4000 clusters: max=139, min=1, ratio=139.0\n",
      "---\n",
      "5000 clusters: max=61, min=1, ratio=61.0\n",
      "---\n"
     ]
    }
   ],
   "source": [
    "# Compute cluster size ratios (maximum cluster size / minimum cluster size)\n",
    "for labels in pred_cluster_labels[\"K-means clustering\"][\"labels\"]:\n",
    "    labels_unique, labels_counts = np.unique(labels, return_counts=True)\n",
    "    num_clusters = len(labels_unique)\n",
    "    max_cluster_size = max(labels_counts)\n",
    "    min_cluster_size = min(labels_counts)\n",
    "    cluster_size_ratio = max_cluster_size / min_cluster_size\n",
    "    print(f\"{num_clusters} clusters: max={max_cluster_size}, min={min_cluster_size}, ratio={cluster_size_ratio}\")\n",
    "    print(\"---\")"
   ]
  }
 ],
 "metadata": {
  "kernelspec": {
   "display_name": "Python 3",
   "language": "python",
   "name": "python3"
  },
  "language_info": {
   "codemirror_mode": {
    "name": "ipython",
    "version": 3
   },
   "file_extension": ".py",
   "mimetype": "text/x-python",
   "name": "python",
   "nbconvert_exporter": "python",
   "pygments_lexer": "ipython3",
   "version": "3.6.9"
  }
 },
 "nbformat": 4,
 "nbformat_minor": 4
}
