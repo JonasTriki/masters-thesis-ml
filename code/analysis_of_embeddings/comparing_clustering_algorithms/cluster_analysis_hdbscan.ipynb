{
 "cells": [
  {
   "cell_type": "code",
   "execution_count": null,
   "metadata": {},
   "outputs": [],
   "source": [
    "# Imports\n",
    "from os import makedirs\n",
    "from os.path import join\n",
    "import joblib\n",
    "import numpy as np\n",
    "rng_seed = 399\n",
    "np.random.seed(rng_seed)\n",
    "from scipy.spatial.distance import pdist, cdist, squareform\n",
    "from matplotlib import pyplot as plt\n",
    "import seaborn as sns\n",
    "sns.set_theme()\n",
    "from tqdm.auto import tqdm\n",
    "\n",
    "from hdbscan import HDBSCAN\n",
    "\n",
    "from sklearn.model_selection import ParameterGrid\n",
    "from sklearn.metrics import silhouette_score\n",
    "from sklearn.metrics.pairwise import pairwise_distances\n",
    "from scipy.cluster.hierarchy import dendrogram, fcluster\n",
    "\n",
    "from umap import UMAP\n",
    "import plotly.offline as pyo\n",
    "pyo.init_notebook_mode()\n",
    "\n",
    "# Directory constants\n",
    "analysis_of_embeddings_dir = \"..\"\n",
    "root_code_dir = join(analysis_of_embeddings_dir, \"..\")\n",
    "output_dir = join(root_code_dir, \"output\")\n",
    "word2vec_training_dir = join(output_dir, \"word2vec_training\")\n",
    "word2vec_cluster_analysis_dir = join(output_dir, \"word2vec_cluster_analysis\")\n",
    "\n",
    "# Extend sys path for importing custom Python files\n",
    "import sys\n",
    "sys.path.extend([analysis_of_embeddings_dir, root_code_dir])\n",
    "\n",
    "from utils import pairwise_cosine_distances, cosine_distance\n",
    "from analysis_utils import hdbscan_cluster_hyperparameter_search, plot_cluster_metric_scores, plot_cluster_sizes, words_in_clusters, inspect_word_clusters\n",
    "from word_embeddings.eval_utils import plot_word_vectors\n",
    "from word_embeddings.word2vec import load_model_training_output"
   ]
  },
  {
   "cell_type": "markdown",
   "metadata": {},
   "source": [
    "# Prepare data"
   ]
  },
  {
   "cell_type": "code",
   "execution_count": null,
   "metadata": {},
   "outputs": [],
   "source": [
    "# Load output from training word2vec\n",
    "w2v_training_output = load_model_training_output(\n",
    "    model_training_output_dir=join(word2vec_training_dir, \"word2vec_enwiki_sept_2020_word2phrase\"),\n",
    "    model_name=\"word2vec\",\n",
    "    dataset_name=\"enwiki\",\n",
    ")\n",
    "last_embedding_weights = w2v_training_output[\"last_embedding_weights\"]\n",
    "words = w2v_training_output[\"words\"]\n",
    "word_to_int = w2v_training_output[\"word_to_int\"]"
   ]
  },
  {
   "cell_type": "code",
   "execution_count": null,
   "metadata": {},
   "outputs": [],
   "source": [
    "# Restrict vocabulary size for analysis\n",
    "vocab_size = 10000"
   ]
  },
  {
   "cell_type": "code",
   "execution_count": null,
   "metadata": {
    "scrolled": true
   },
   "outputs": [],
   "source": [
    "# Precompute coine distance matrix\n",
    "word_embeddings_to_precompute = last_embedding_weights[:vocab_size]\n",
    "word_embeddings_distances = pairwise_cosine_distances(word_embeddings_to_precompute)"
   ]
  },
  {
   "cell_type": "markdown",
   "metadata": {},
   "source": [
    "# Clustering"
   ]
  },
  {
   "cell_type": "code",
   "execution_count": null,
   "metadata": {},
   "outputs": [],
   "source": [
    "hdbscan_param_grid = ParameterGrid({\n",
    "    \"min_cluster_size\": [2, 4, 8, 16, 32, 64, 128, 256], \n",
    "    \"min_samples\": [1, 2, 4, 8, 16, 32, 64, 128, 256],\n",
    "})\n",
    "hdbscan_default_params = {\n",
    "    \"metric\": \"cosine\",\n",
    "    \"algorithm\": \"generic\",\n",
    "    \"core_dist_n_jobs\": -1,\n",
    "    \"gen_min_span_tree\": True,\n",
    "}\n",
    "should_do_hyperparameter_search = False\n",
    "if should_do_hyperparameter_search:\n",
    "    hdbscan_hyperparameter_search_result = hdbscan_cluster_hyperparameter_search(\n",
    "        param_grid=hdbscan_param_grid,\n",
    "        default_params=hdbscan_default_params,\n",
    "        word_embeddings=word_embeddings_to_precompute,\n",
    "        output_dir=word2vec_cluster_analysis_dir,\n",
    "        model_name=\"word2vec\",\n",
    "        dataset_name=\"enwiki\",\n",
    "        output_filepath_suffix=\"hdbscan_labels\",\n",
    "    )\n",
    "else:\n",
    "    hdbscan_hyperparameter_search_result = joblib.load(\n",
    "        join(word2vec_cluster_analysis_dir, \"word2vec-enwiki-hdbscan_labels.joblib\")\n",
    "    )"
   ]
  },
  {
   "cell_type": "code",
   "execution_count": null,
   "metadata": {
    "scrolled": false
   },
   "outputs": [],
   "source": [
    "fig, ax = plt.subplots(figsize=(12, 10))\n",
    "ax.set_title(\"DBCV scores of HDBSCAN clustering with different sets of hyperparameters\")\n",
    "plot_cluster_metric_scores(\n",
    "    metric_scores=hdbscan_hyperparameter_search_result[\"dbcv_scores\"],\n",
    "    hyperparameters=hdbscan_param_grid,\n",
    "    best_score_idx=hdbscan_hyperparameter_search_result[\"best_labels_idx\"],\n",
    "    metric_name=\"DBCV\",\n",
    "    scatter=True,\n",
    "    ax=ax\n",
    ")"
   ]
  },
  {
   "cell_type": "markdown",
   "metadata": {},
   "source": [
    "# Cluster analysis"
   ]
  },
  {
   "cell_type": "code",
   "execution_count": null,
   "metadata": {},
   "outputs": [],
   "source": [
    "# Find best cluster labels (highest DBCV score)\n",
    "best_labels_idx = hdbscan_hyperparameter_search_result[\"best_labels_idx\"]\n",
    "best_cluster_labels = hdbscan_hyperparameter_search_result[\"cluster_labels\"][best_labels_idx]\n",
    "\n",
    "# Filter out noisy words (words that have label -1)\n",
    "best_cluster_labels_no_noise_mask = best_cluster_labels != -1\n",
    "best_cluster_labels_no_noise = best_cluster_labels[best_cluster_labels_no_noise_mask]\n",
    "words_no_noise = words[:vocab_size][best_cluster_labels_no_noise_mask]"
   ]
  },
  {
   "cell_type": "code",
   "execution_count": null,
   "metadata": {},
   "outputs": [],
   "source": [
    "# Plot cluster sizes\n",
    "most_common_cluster_sizes = plot_cluster_sizes(best_cluster_labels_no_noise)"
   ]
  },
  {
   "cell_type": "code",
   "execution_count": null,
   "metadata": {
    "scrolled": true
   },
   "outputs": [],
   "source": [
    "# Inspect word clusters\n",
    "inspect_word_clusters(\n",
    "    cluster_labels=best_cluster_labels_no_noise,\n",
    "    words=words_no_noise,\n",
    "    min_cluster_size=0,\n",
    "    most_common_cluster_sizes=most_common_cluster_sizes,\n",
    "    num_words_in_clusters_print=10,\n",
    ")"
   ]
  },
  {
   "cell_type": "markdown",
   "metadata": {},
   "source": [
    "# Visualizing word cluster groups\n",
    "TODO"
   ]
  }
 ],
 "metadata": {
  "kernelspec": {
   "display_name": "Python 3",
   "language": "python",
   "name": "python3"
  },
  "language_info": {
   "codemirror_mode": {
    "name": "ipython",
    "version": 3
   },
   "file_extension": ".py",
   "mimetype": "text/x-python",
   "name": "python",
   "nbconvert_exporter": "python",
   "pygments_lexer": "ipython3",
   "version": "3.6.9"
  }
 },
 "nbformat": 4,
 "nbformat_minor": 4
}
