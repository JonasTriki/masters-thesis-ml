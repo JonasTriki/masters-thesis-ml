{
 "cells": [
  {
   "cell_type": "code",
   "execution_count": null,
   "metadata": {
    "pycharm": {
     "is_executing": true,
     "name": "#%%\n"
    }
   },
   "outputs": [],
   "source": [
    "# Imports\n",
    "import os\n",
    "import pickle\n",
    "import numpy as np\n",
    "rng_seed = 399\n",
    "np.random.seed(rng_seed)\n",
    "from sklearn.cluster import KMeans\n",
    "from sklearn.decomposition import PCA\n",
    "from umap import UMAP\n",
    "\n",
    "import plotly.offline as pyo\n",
    "pyo.init_notebook_mode()\n",
    "\n",
    "from importlib import reload\n",
    "import eval_utils\n",
    "reload(eval_utils)\n",
    "\n",
    "from eval_utils import (\n",
    "    get_word_vec,\n",
    "    similar_words_vec,\n",
    "    create_embeddings_of_train_checkpoints,\n",
    "    visualize_embeddings_over_time,\n",
    "    plot_word_relationships_2d,\n",
    "    plot_word_vectors,\n",
    "    evaluate_model_questions_words\n",
    ")\n",
    "from train_utils import get_model_checkpoint_filepaths\n",
    "from word2vec import Word2vec"
   ]
  },
  {
   "cell_type": "code",
   "execution_count": null,
   "metadata": {},
   "outputs": [],
   "source": [
    "# Constants\n",
    "checkpoints_dir = \"checkpoints\"\n",
    "checkpoint_filepaths = get_model_checkpoint_filepaths(checkpoints_dir)\n",
    "last_model_filepath = checkpoint_filepaths[-1]"
   ]
  },
  {
   "cell_type": "code",
   "execution_count": null,
   "metadata": {},
   "outputs": [],
   "source": [
    "# Load questions-words pairs\n",
    "with open(\"data/questions-words.pickle\", \"rb\") as file:\n",
    "    questions_words = pickle.load(file)"
   ]
  },
  {
   "cell_type": "code",
   "execution_count": null,
   "metadata": {},
   "outputs": [],
   "source": [
    "# Load last model\n",
    "word2vec = Word2vec()\n",
    "word2vec.load_model(last_model_filepath)"
   ]
  },
  {
   "cell_type": "code",
   "execution_count": null,
   "metadata": {},
   "outputs": [],
   "source": [
    "# Get vocabulary size, embedding dimension, word to int dictionary and words used in the models\n",
    "vocab_size = word2vec.tokenizer.vocab_size\n",
    "embedding_dim = word2vec.embedding_weights.shape[1]\n",
    "word_to_int = word2vec.tokenizer.word_to_int\n",
    "words = word2vec.tokenizer.words"
   ]
  },
  {
   "cell_type": "code",
   "execution_count": null,
   "metadata": {},
   "outputs": [],
   "source": [
    "# Get target embedding weights of last model\n",
    "embedding_weights = word2vec.embedding_weights"
   ]
  },
  {
   "cell_type": "markdown",
   "metadata": {},
   "source": [
    "## Visualize training over the course of epochs"
   ]
  },
  {
   "cell_type": "code",
   "execution_count": null,
   "metadata": {},
   "outputs": [],
   "source": [
    "# Create embeddings of word embeddings from all train checkpoints\n",
    "umap_embeddings_over_time, cluster_labels_over_time = create_embeddings_of_train_checkpoints(\n",
    "    checkpoint_filepaths,\n",
    "    vocab_size,\n",
    "    embedding_dim,\n",
    "    KMeans(n_clusters=10, random_state=rng_seed),\n",
    "    UMAP(n_components=2, random_state=rng_seed)\n",
    ")"
   ]
  },
  {
   "cell_type": "code",
   "execution_count": null,
   "metadata": {},
   "outputs": [],
   "source": [
    "# Visualize training\n",
    "visualize_embeddings_over_time(\n",
    "    umap_embeddings_over_time,\n",
    "    cluster_labels_over_time,\n",
    "    words\n",
    ")"
   ]
  },
  {
   "cell_type": "markdown",
   "metadata": {},
   "source": [
    "## Find similar words"
   ]
  },
  {
   "cell_type": "code",
   "execution_count": null,
   "metadata": {
    "scrolled": true
   },
   "outputs": [],
   "source": [
    "# Test similarities\n",
    "a_vec = get_word_vec(\"king\", word_to_int, embedding_weights)\n",
    "b_vec = get_word_vec(\"man\", word_to_int, embedding_weights)\n",
    "c_vec = get_word_vec(\"woman\", word_to_int, embedding_weights)\n",
    "d_vec = a_vec - b_vec + c_vec\n",
    "\n",
    "similar_words_vec(d_vec, embedding_weights, word2vec.tokenizer.words, top_n=20)"
   ]
  },
  {
   "cell_type": "markdown",
   "metadata": {},
   "source": [
    "## Plot word relationships"
   ]
  },
  {
   "cell_type": "code",
   "execution_count": null,
   "metadata": {},
   "outputs": [],
   "source": [
    "# Create 2D PCA embeddings of last model\n",
    "embedding_weights_2d_pca = PCA(n_components=2, random_state=rng_seed).fit_transform(embedding_weights)"
   ]
  },
  {
   "cell_type": "code",
   "execution_count": null,
   "metadata": {},
   "outputs": [],
   "source": [
    "pairs = [\n",
    "    ('man', 'woman'),\n",
    "    ('king', 'queen')\n",
    "]\n",
    "plot_word_relationships_2d(\n",
    "    pairs,\n",
    "    embedding_weights_2d_pca,\n",
    "    word_to_int,\n",
    "    x_label=\"PC1\",\n",
    "    y_label=\"PC2\"\n",
    ")"
   ]
  },
  {
   "cell_type": "code",
   "execution_count": null,
   "metadata": {},
   "outputs": [],
   "source": [
    "# Create 2D UMAP embeddings of last model\n",
    "embedding_weights_2d_umap = UMAP(n_components=2, random_state=rng_seed).fit_transform(embedding_weights)"
   ]
  },
  {
   "cell_type": "code",
   "execution_count": null,
   "metadata": {},
   "outputs": [],
   "source": [
    "# Plot words one through nine to check for cirular shape\n",
    "zero_to_nine = [\n",
    "    'zero',\n",
    "    'one',\n",
    "    'two',\n",
    "    'three',\n",
    "    'four',\n",
    "    'five',\n",
    "    'six',\n",
    "    'seven',\n",
    "    'eight',\n",
    "    'nine'\n",
    "]\n",
    "plot_word_vectors(\n",
    "    zero_to_nine,\n",
    "    embedding_weights_2d_umap,\n",
    "    word_to_int,\n",
    "    x_label=\"UMAP 1\",\n",
    "    y_label=\"UMAP 2\"\n",
    ")"
   ]
  },
  {
   "cell_type": "markdown",
   "metadata": {},
   "source": [
    "## Validate model on \"questions-words\" pairs"
   ]
  },
  {
   "cell_type": "code",
   "execution_count": null,
   "metadata": {},
   "outputs": [],
   "source": [
    "evaluate_model_questions_words(\n",
    "    questions_words,\n",
    "    embedding_weights,\n",
    "    word_to_int,\n",
    "    words,\n",
    "    top_n=5\n",
    ")"
   ]
  }
 ],
 "metadata": {
  "kernelspec": {
   "display_name": "Python 3.7.5 64-bit ('code': pipenv)",
   "language": "python",
   "name": "python37564bitcodepipenv7875e91ef4af414b9ec96f9bf2e9ccb2"
  },
  "language_info": {
   "codemirror_mode": {
    "name": "ipython",
    "version": 3
   },
   "file_extension": ".py",
   "mimetype": "text/x-python",
   "name": "python",
   "nbconvert_exporter": "python",
   "pygments_lexer": "ipython3",
   "version": "3.7.6"
  }
 },
 "nbformat": 4,
 "nbformat_minor": 1
}
