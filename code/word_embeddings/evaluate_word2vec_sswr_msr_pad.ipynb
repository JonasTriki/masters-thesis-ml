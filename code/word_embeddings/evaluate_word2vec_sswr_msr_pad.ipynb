{
 "cells": [
  {
   "cell_type": "code",
   "execution_count": 1,
   "metadata": {},
   "outputs": [],
   "source": [
    "import numpy as np\n",
    "import joblib\n",
    "from os.path import join"
   ]
  },
  {
   "cell_type": "code",
   "execution_count": 2,
   "metadata": {},
   "outputs": [],
   "source": [
    "# Define constants\n",
    "eval_output_dir = \"../output/word2vec_eval_analogies/word2vec_enwiki_jan_2021\"\n",
    "sswr_filepath = join(eval_output_dir, \"sswr.joblib\")\n",
    "msr_filepath = join(eval_output_dir, \"msr.joblib\")\n",
    "pad_filepath = join(eval_output_dir, \"pad.joblib\")"
   ]
  },
  {
   "cell_type": "code",
   "execution_count": 3,
   "metadata": {},
   "outputs": [],
   "source": [
    "# Load evaluation results\n",
    "sswr_analogy_accuracies = joblib.load(sswr_filepath)\n",
    "msr_analogy_accuracies = joblib.load(msr_filepath)\n",
    "pad_analogy_accuracies = joblib.load(pad_filepath)"
   ]
  },
  {
   "cell_type": "code",
   "execution_count": 4,
   "metadata": {},
   "outputs": [
    {
     "data": {
      "text/plain": [
       "{'capital-common-countries': 0.9703557312252964,\n",
       " 'capital-world': 0.8947833775419982,\n",
       " 'currency': 0.07505773672055427,\n",
       " 'city-in-state': 0.6182287188306105,\n",
       " 'family': 0.7337662337662337,\n",
       " 'gram1-adjective-to-adverb': 0.3336693548387097,\n",
       " 'gram2-opposite': 0.3374384236453202,\n",
       " 'gram3-comparative': 0.8671171171171171,\n",
       " 'gram4-superlative': 0.6693404634581105,\n",
       " 'gram5-present-participle': 0.7691532258064516,\n",
       " 'gram6-nationality-adjective': 0.9218261413383365,\n",
       " 'gram7-past-tense': 0.6632928475033738,\n",
       " 'gram8-plural': 0.8018018018018018,\n",
       " 'gram9-plural-verbs': 0.6970443349753694,\n",
       " 'avg': 0.6680625363263774,\n",
       " 'semantic_avg': 0.6584383596169385,\n",
       " 'syntactic_avg': 0.6734093011649545}"
      ]
     },
     "execution_count": 4,
     "metadata": {},
     "output_type": "execute_result"
    }
   ],
   "source": [
    "# SSWR evaluation results\n",
    "sswr_analogy_accuracies"
   ]
  },
  {
   "cell_type": "code",
   "execution_count": 5,
   "metadata": {},
   "outputs": [
    {
     "data": {
      "text/plain": [
       "{'adjectives': 0.43066666666666664,\n",
       " 'nouns': 0.625,\n",
       " 'verbs': 0.5913194444444444,\n",
       " 'avg': 0.5489953703703704}"
      ]
     },
     "execution_count": 5,
     "metadata": {},
     "output_type": "execute_result"
    }
   ],
   "source": [
    "# MSR evaluation results\n",
    "msr_analogy_accuracies"
   ]
  },
  {
   "cell_type": "code",
   "execution_count": 6,
   "metadata": {},
   "outputs": [
    {
     "data": {
      "text/plain": [
       "{'newspapers': 0.5045977011494253,\n",
       " 'ice_hockey': 0.8404558404558404,\n",
       " 'basketball': 0.8008658008658008,\n",
       " 'airlines': 0.3639705882352941,\n",
       " 'people-companies': 0.17346938775510204,\n",
       " 'avg': 0.5366718636922925}"
      ]
     },
     "execution_count": 6,
     "metadata": {},
     "output_type": "execute_result"
    }
   ],
   "source": [
    "# PAD evaluation results\n",
    "pad_analogy_accuracies"
   ]
  }
 ],
 "metadata": {
  "kernelspec": {
   "display_name": "Python 3",
   "language": "python",
   "name": "python3"
  },
  "language_info": {
   "codemirror_mode": {
    "name": "ipython",
    "version": 3
   },
   "file_extension": ".py",
   "mimetype": "text/x-python",
   "name": "python",
   "nbconvert_exporter": "python",
   "pygments_lexer": "ipython3",
   "version": "3.6.9"
  }
 },
 "nbformat": 4,
 "nbformat_minor": 4
}
