{
 "cells": [
  {
   "cell_type": "code",
   "execution_count": 1,
   "metadata": {},
   "outputs": [
    {
     "name": "stdout",
     "output_type": "stream",
     "text": [
      "--2020-04-23 22:01:03--  http://mattmahoney.net/dc/enwik8.zip\n",
      "Resolving mattmahoney.net (mattmahoney.net)... 67.195.197.75\n",
      "Connecting to mattmahoney.net (mattmahoney.net)|67.195.197.75|:80... connected.\n",
      "HTTP request sent, awaiting response... 200 OK\n",
      "Length: 36445475 (35M) [application/zip]\n",
      "Saving to: ‘data/enwik8.zip’\n",
      "\n",
      "enwik8.zip          100%[===================>]  34,76M   505KB/s    in 72s     \n",
      "\n",
      "2020-04-23 22:02:15 (495 KB/s) - ‘data/enwik8.zip’ saved [36445475/36445475]\n",
      "\n",
      "Archive:  data/enwik8.zip\n",
      "  inflating: data/enwik8             \n"
     ]
    }
   ],
   "source": [
    "# Download the raw data\n",
    "!wget -c http://mattmahoney.net/dc/enwik8.zip -P data\n",
    "!unzip data/enwik8.zip -d data"
   ]
  },
  {
   "cell_type": "code",
   "execution_count": 5,
   "metadata": {},
   "outputs": [],
   "source": [
    "# A raw Wikipedia dump contains a lot of HTML / XML data.\n",
    "# We pre-process it with the wikifil.pl script\n",
    "# (originally developed by Matt Mahoney, and can be found on his website).\n",
    "!perl data/wikifil.pl data/enwik8 > data/text8"
   ]
  },
  {
   "cell_type": "code",
   "execution_count": 6,
   "metadata": {},
   "outputs": [
    {
     "name": "stdout",
     "output_type": "stream",
     "text": [
      " anarchism originated as a term of abuse first used against early working class radicals including the diggers of the english revolution and the sans culottes of the french revolution. whilst the term is still used in a pejorative way to describe any act that used violent means to destroy the organization of society it has also been taken up as a positive label by self defined anarchists. the word anarchism is derived from the greek without archons ruler chief king . anarchism as a political philosophy is the belief that rulers are unnecessary and should be abolished although there are differing interpretations of what this means. anarchism also refers to related social movements that advocate the elimination of authoritarian institutions particularly the state. the word anarchy as most anarchists use it does not imply chaos nihilism or anomie but rather a harmonious anti authoritarian society. in place of what are regarded as authoritarian political structures and coercive economic institutions anarchists advocate social relations based upon voluntary association of autonomous individuals mutual aid and self governance. while anarchism is most easily defined by what it is against anarchists also offer positive visions of what they believe to be a truly free society. however ideas about how an anarchist society might work vary considerably especially with respect to economics there is also disagreement about how a free society might be brought about. origins and predecessors kropotkin and others argue that before recorded history human society was organized on anarchist principles. most anthropologists follow kropotkin and engels in believing that hunter gatherer bands were egalitarian and lacked division of labour accumulated wealth or decreed law and had equal access to resources. william godwin anarchists including the the anarchy organisation and rothbard find anarchist attitudes in taoism from ancient china. kropotkin found similar ideas in stoic zeno of citium"
     ]
    }
   ],
   "source": [
    "# Sanity checking first words of new file\n",
    "!head -c 2000 data/text8"
   ]
  }
 ],
 "metadata": {
  "kernelspec": {
   "display_name": "Python 3",
   "language": "python",
   "name": "python3"
  },
  "language_info": {
   "codemirror_mode": {
    "name": "ipython",
    "version": 3
   },
   "file_extension": ".py",
   "mimetype": "text/x-python",
   "name": "python",
   "nbconvert_exporter": "python",
   "pygments_lexer": "ipython3",
   "version": "3.7.7"
  }
 },
 "nbformat": 4,
 "nbformat_minor": 4
}
