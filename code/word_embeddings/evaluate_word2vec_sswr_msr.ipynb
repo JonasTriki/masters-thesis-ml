{
 "cells": [
  {
   "cell_type": "code",
   "execution_count": 1,
   "metadata": {},
   "outputs": [],
   "source": [
    "import numpy as np\n",
    "import pickle\n",
    "from os.path import join"
   ]
  },
  {
   "cell_type": "code",
   "execution_count": 2,
   "metadata": {},
   "outputs": [],
   "source": [
    "# Define constants\n",
    "eval_output_dir = \"../output/word2vec_eval_analogies/24-Oct-2020_20-16-01\"\n",
    "sswr_filepath = join(eval_output_dir, \"sswr.pkl\")\n",
    "msr_filepath = join(eval_output_dir, \"msr.pkl\")"
   ]
  },
  {
   "cell_type": "code",
   "execution_count": 3,
   "metadata": {},
   "outputs": [],
   "source": [
    "# Load evaluation results\n",
    "with open(sswr_filepath, \"rb\") as file:\n",
    "    sswr_analogy_accuracies = pickle.load(file)\n",
    "sswr_categories = list(sswr_analogy_accuracies.keys())\n",
    "with open(msr_filepath, \"rb\") as file:\n",
    "    msr_analogy_accuracies = pickle.load(file)"
   ]
  },
  {
   "cell_type": "code",
   "execution_count": 4,
   "metadata": {},
   "outputs": [],
   "source": [
    "def calc_avg_accuracy_in_categories(all_accuracies: dict, categories: list) -> float:\n",
    "    \"\"\"\n",
    "    TODO: Docs\n",
    "    \"\"\"\n",
    "    return np.mean([all_accuracies[cat] for cat in categories])"
   ]
  },
  {
   "cell_type": "code",
   "execution_count": 5,
   "metadata": {},
   "outputs": [
    {
     "name": "stdout",
     "output_type": "stream",
     "text": [
      "Semantic (avg) accuracy: 70.1\n",
      "Syntactic (avg) accuracy: 64.3\n"
     ]
    }
   ],
   "source": [
    "semantic_categories = sswr_categories[:5]\n",
    "semantic_avg_acc = calc_avg_accuracy_in_categories(\n",
    "    all_accuracies=sswr_analogy_accuracies,\n",
    "    categories=semantic_categories\n",
    ")\n",
    "print(f\"Semantic (avg) accuracy: {semantic_avg_acc*100:.1f}\")\n",
    "\n",
    "syntactic_categories = sswr_categories[5:-1]\n",
    "syntactic_avg_acc = calc_avg_accuracy_in_categories(\n",
    "    all_accuracies=sswr_analogy_accuracies,\n",
    "    categories=syntactic_categories\n",
    ")\n",
    "print(f\"Syntactic (avg) accuracy: {syntactic_avg_acc*100:.1f}\")"
   ]
  },
  {
   "cell_type": "code",
   "execution_count": 6,
   "metadata": {},
   "outputs": [
    {
     "data": {
      "text/plain": [
       "{'adjectives': 0.42233333333333334,\n",
       " 'nouns': 0.676,\n",
       " 'verbs': 0.5816666666666667,\n",
       " 'avg': 0.56}"
      ]
     },
     "execution_count": 6,
     "metadata": {},
     "output_type": "execute_result"
    }
   ],
   "source": [
    "# MSR evaluation results\n",
    "msr_analogy_accuracies"
   ]
  }
 ],
 "metadata": {
  "kernelspec": {
   "display_name": "Python 3",
   "language": "python",
   "name": "python3"
  },
  "language_info": {
   "codemirror_mode": {
    "name": "ipython",
    "version": 3
   },
   "file_extension": ".py",
   "mimetype": "text/x-python",
   "name": "python",
   "nbconvert_exporter": "python",
   "pygments_lexer": "ipython3",
   "version": "3.6.9"
  }
 },
 "nbformat": 4,
 "nbformat_minor": 4
}
