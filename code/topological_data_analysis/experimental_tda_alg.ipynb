{
 "cells": [
  {
   "cell_type": "code",
   "execution_count": 145,
   "id": "catholic-arcade",
   "metadata": {},
   "outputs": [
    {
     "name": "stdout",
     "output_type": "stream",
     "text": [
      "The nb_black extension is already loaded. To reload it, use:\n",
      "  %reload_ext nb_black\n"
     ]
    },
    {
     "data": {
      "application/javascript": [
       "\n",
       "            setTimeout(function() {\n",
       "                var nbb_cell_id = 145;\n",
       "                var nbb_unformatted_code = \"%load_ext nb_black\";\n",
       "                var nbb_formatted_code = \"%load_ext nb_black\";\n",
       "                var nbb_cells = Jupyter.notebook.get_cells();\n",
       "                for (var i = 0; i < nbb_cells.length; ++i) {\n",
       "                    if (nbb_cells[i].input_prompt_number == nbb_cell_id) {\n",
       "                        if (nbb_cells[i].get_text() == nbb_unformatted_code) {\n",
       "                             nbb_cells[i].set_text(nbb_formatted_code);\n",
       "                        }\n",
       "                        break;\n",
       "                    }\n",
       "                }\n",
       "            }, 500);\n",
       "            "
      ],
      "text/plain": [
       "<IPython.core.display.Javascript object>"
      ]
     },
     "metadata": {},
     "output_type": "display_data"
    }
   ],
   "source": [
    "%load_ext nb_black"
   ]
  },
  {
   "cell_type": "code",
   "execution_count": 192,
   "id": "reverse-withdrawal",
   "metadata": {},
   "outputs": [
    {
     "data": {
      "application/javascript": [
       "\n",
       "            setTimeout(function() {\n",
       "                var nbb_cell_id = 192;\n",
       "                var nbb_unformatted_code = \"# Imports\\nfrom os.path import join\\nimport numpy as np\\n\\nrng_seed = 399\\nnp.random.seed(rng_seed)\\nfrom nltk.corpus import wordnet as wn\\nfrom tqdm.auto import tqdm\\nfrom matplotlib import pyplot as plt\\nfrom umap import UMAP\\nfrom ripser import ripser\\nfrom persim import plot_diagrams, wasserstein, bottleneck\\nfrom scipy.stats import pearsonr\\n\\nfrom sklearn.metrics.pairwise import euclidean_distances\\n\\n# Directory constants\\ntopological_data_analysis_data_dir = \\\"data\\\"\\nroot_code_dir = \\\"..\\\"\\noutput_dir = join(root_code_dir, \\\"output\\\")\\nword2vec_training_dir = join(output_dir, \\\"word2vec_training\\\")\\nword2vec_ann_indices_dir = join(output_dir, \\\"word2vec_ann_indices\\\")\\nword2vec_cluster_analysis_dir = join(output_dir, \\\"word2vec_cluster_analysis\\\")\\nanalysis_of_embeddings_dir = join(root_code_dir, \\\"analysis_of_embeddings\\\")\\n\\n# Extend sys path for importing custom Python files\\nimport sys\\n\\nsys.path.extend([root_code_dir, analysis_of_embeddings_dir])\\n\\nfrom utils import (\\n    get_model_checkpoint_filepaths,\\n    pairwise_cosine_distances,\\n    words_to_vectors,\\n)\\nfrom word_embeddings.word2vec import load_model_training_output\\nfrom vis_utils import plot_word_vectors\\nfrom topological_data_analysis.geometric_anomaly_detection import (\\n    GeometricAnomalyDetection,\\n    grid_search_prepare_word_ints_within_radii,\\n)\\nfrom analysis_utils import transform_word_embeddings\";\n",
       "                var nbb_formatted_code = \"# Imports\\nfrom os.path import join\\nimport numpy as np\\n\\nrng_seed = 399\\nnp.random.seed(rng_seed)\\nfrom nltk.corpus import wordnet as wn\\nfrom tqdm.auto import tqdm\\nfrom matplotlib import pyplot as plt\\nfrom umap import UMAP\\nfrom ripser import ripser\\nfrom persim import plot_diagrams, wasserstein, bottleneck\\nfrom scipy.stats import pearsonr\\n\\nfrom sklearn.metrics.pairwise import euclidean_distances\\n\\n# Directory constants\\ntopological_data_analysis_data_dir = \\\"data\\\"\\nroot_code_dir = \\\"..\\\"\\noutput_dir = join(root_code_dir, \\\"output\\\")\\nword2vec_training_dir = join(output_dir, \\\"word2vec_training\\\")\\nword2vec_ann_indices_dir = join(output_dir, \\\"word2vec_ann_indices\\\")\\nword2vec_cluster_analysis_dir = join(output_dir, \\\"word2vec_cluster_analysis\\\")\\nanalysis_of_embeddings_dir = join(root_code_dir, \\\"analysis_of_embeddings\\\")\\n\\n# Extend sys path for importing custom Python files\\nimport sys\\n\\nsys.path.extend([root_code_dir, analysis_of_embeddings_dir])\\n\\nfrom utils import (\\n    get_model_checkpoint_filepaths,\\n    pairwise_cosine_distances,\\n    words_to_vectors,\\n)\\nfrom word_embeddings.word2vec import load_model_training_output\\nfrom vis_utils import plot_word_vectors\\nfrom topological_data_analysis.geometric_anomaly_detection import (\\n    GeometricAnomalyDetection,\\n    grid_search_prepare_word_ints_within_radii,\\n)\\nfrom analysis_utils import transform_word_embeddings\";\n",
       "                var nbb_cells = Jupyter.notebook.get_cells();\n",
       "                for (var i = 0; i < nbb_cells.length; ++i) {\n",
       "                    if (nbb_cells[i].input_prompt_number == nbb_cell_id) {\n",
       "                        if (nbb_cells[i].get_text() == nbb_unformatted_code) {\n",
       "                             nbb_cells[i].set_text(nbb_formatted_code);\n",
       "                        }\n",
       "                        break;\n",
       "                    }\n",
       "                }\n",
       "            }, 500);\n",
       "            "
      ],
      "text/plain": [
       "<IPython.core.display.Javascript object>"
      ]
     },
     "metadata": {},
     "output_type": "display_data"
    }
   ],
   "source": [
    "# Imports\n",
    "from os.path import join\n",
    "import numpy as np\n",
    "\n",
    "rng_seed = 399\n",
    "np.random.seed(rng_seed)\n",
    "from nltk.corpus import wordnet as wn\n",
    "from tqdm.auto import tqdm\n",
    "from matplotlib import pyplot as plt\n",
    "from umap import UMAP\n",
    "from ripser import ripser\n",
    "from persim import plot_diagrams, wasserstein, bottleneck\n",
    "from scipy.stats import pearsonr\n",
    "\n",
    "from sklearn.metrics.pairwise import euclidean_distances\n",
    "\n",
    "# Directory constants\n",
    "topological_data_analysis_data_dir = \"data\"\n",
    "root_code_dir = \"..\"\n",
    "output_dir = join(root_code_dir, \"output\")\n",
    "word2vec_training_dir = join(output_dir, \"word2vec_training\")\n",
    "word2vec_ann_indices_dir = join(output_dir, \"word2vec_ann_indices\")\n",
    "word2vec_cluster_analysis_dir = join(output_dir, \"word2vec_cluster_analysis\")\n",
    "analysis_of_embeddings_dir = join(root_code_dir, \"analysis_of_embeddings\")\n",
    "\n",
    "# Extend sys path for importing custom Python files\n",
    "import sys\n",
    "\n",
    "sys.path.extend([root_code_dir, analysis_of_embeddings_dir])\n",
    "\n",
    "from utils import (\n",
    "    get_model_checkpoint_filepaths,\n",
    "    pairwise_cosine_distances,\n",
    "    words_to_vectors,\n",
    ")\n",
    "from word_embeddings.word2vec import load_model_training_output\n",
    "from vis_utils import plot_word_vectors\n",
    "from topological_data_analysis.geometric_anomaly_detection import (\n",
    "    GeometricAnomalyDetection,\n",
    "    grid_search_prepare_word_ints_within_radii,\n",
    ")\n",
    "from analysis_utils import transform_word_embeddings"
   ]
  },
  {
   "cell_type": "markdown",
   "id": "reverse-mississippi",
   "metadata": {},
   "source": [
    "# Prepare data"
   ]
  },
  {
   "cell_type": "code",
   "execution_count": 2,
   "id": "sensitive-spice",
   "metadata": {},
   "outputs": [],
   "source": [
    "# Load output from training word2vec\n",
    "w2v_training_output = load_model_training_output(\n",
    "    model_training_output_dir=join(word2vec_training_dir, \"word2vec_enwiki_jan_2021_word2phrase\"),\n",
    "    model_name=\"word2vec\",\n",
    "    dataset_name=\"enwiki\",\n",
    "    return_normalized_embeddings=True\n",
    ")\n",
    "last_embedding_weights_normalized = w2v_training_output[\"last_embedding_weights_normalized\"]\n",
    "words = w2v_training_output[\"words\"]\n",
    "word_to_int = w2v_training_output[\"word_to_int\"]"
   ]
  },
  {
   "cell_type": "markdown",
   "id": "loving-sword",
   "metadata": {},
   "source": [
    "# Experimentation"
   ]
  },
  {
   "cell_type": "code",
   "execution_count": 164,
   "id": "retired-thesis",
   "metadata": {},
   "outputs": [
    {
     "data": {
      "application/javascript": [
       "\n",
       "            setTimeout(function() {\n",
       "                var nbb_cell_id = 164;\n",
       "                var nbb_unformatted_code = \"vocab_size = 10000\\nword_embeddings_in_vocab = last_embedding_weights_normalized[:vocab_size]\\nword_embeddings_in_vocab_2d = UMAP(random_state=rng_seed).fit_transform(\\n    word_embeddings_in_vocab\\n)\\nword_embeddings_pairwise_dists = euclidean_distances(word_embeddings_in_vocab)\\nwords_in_vocab = words[:vocab_size]\";\n",
       "                var nbb_formatted_code = \"vocab_size = 10000\\nword_embeddings_in_vocab = last_embedding_weights_normalized[:vocab_size]\\nword_embeddings_in_vocab_2d = UMAP(random_state=rng_seed).fit_transform(\\n    word_embeddings_in_vocab\\n)\\nword_embeddings_pairwise_dists = euclidean_distances(word_embeddings_in_vocab)\\nwords_in_vocab = words[:vocab_size]\";\n",
       "                var nbb_cells = Jupyter.notebook.get_cells();\n",
       "                for (var i = 0; i < nbb_cells.length; ++i) {\n",
       "                    if (nbb_cells[i].input_prompt_number == nbb_cell_id) {\n",
       "                        if (nbb_cells[i].get_text() == nbb_unformatted_code) {\n",
       "                             nbb_cells[i].set_text(nbb_formatted_code);\n",
       "                        }\n",
       "                        break;\n",
       "                    }\n",
       "                }\n",
       "            }, 500);\n",
       "            "
      ],
      "text/plain": [
       "<IPython.core.display.Javascript object>"
      ]
     },
     "metadata": {},
     "output_type": "display_data"
    }
   ],
   "source": [
    "vocab_size = 10000\n",
    "word_embeddings_in_vocab = last_embedding_weights_normalized[:vocab_size]\n",
    "word_embeddings_in_vocab_2d = UMAP(random_state=rng_seed).fit_transform(\n",
    "    word_embeddings_in_vocab\n",
    ")\n",
    "word_embeddings_pairwise_dists = euclidean_distances(word_embeddings_in_vocab)\n",
    "words_in_vocab = words[:vocab_size]"
   ]
  },
  {
   "cell_type": "code",
   "execution_count": 208,
   "id": "animated-sarah",
   "metadata": {},
   "outputs": [
    {
     "data": {
      "application/javascript": [
       "\n",
       "            setTimeout(function() {\n",
       "                var nbb_cell_id = 208;\n",
       "                var nbb_unformatted_code = \"closest_word_ints_in_vocab = lambda word_int: np.argsort(\\n    word_embeddings_pairwise_dists[word_int]\\n)[1:]\";\n",
       "                var nbb_formatted_code = \"closest_word_ints_in_vocab = lambda word_int: np.argsort(\\n    word_embeddings_pairwise_dists[word_int]\\n)[1:]\";\n",
       "                var nbb_cells = Jupyter.notebook.get_cells();\n",
       "                for (var i = 0; i < nbb_cells.length; ++i) {\n",
       "                    if (nbb_cells[i].input_prompt_number == nbb_cell_id) {\n",
       "                        if (nbb_cells[i].get_text() == nbb_unformatted_code) {\n",
       "                             nbb_cells[i].set_text(nbb_formatted_code);\n",
       "                        }\n",
       "                        break;\n",
       "                    }\n",
       "                }\n",
       "            }, 500);\n",
       "            "
      ],
      "text/plain": [
       "<IPython.core.display.Javascript object>"
      ]
     },
     "metadata": {},
     "output_type": "display_data"
    }
   ],
   "source": [
    "closest_word_ints_in_vocab = lambda word_int: np.argsort(\n",
    "    word_embeddings_pairwise_dists[word_int]\n",
    ")[1:]"
   ]
  },
  {
   "cell_type": "code",
   "execution_count": 89,
   "id": "velvet-oklahoma",
   "metadata": {},
   "outputs": [
    {
     "data": {
      "application/vnd.jupyter.widget-view+json": {
       "model_id": "f4a63c147d1a468494f9ee19b782a01f",
       "version_major": 2,
       "version_minor": 0
      },
      "text/plain": [
       "  0%|          | 0/10000 [00:00<?, ?it/s]"
      ]
     },
     "metadata": {},
     "output_type": "display_data"
    },
    {
     "data": {
      "application/javascript": [
       "\n",
       "            setTimeout(function() {\n",
       "                var nbb_cell_id = 89;\n",
       "                var nbb_unformatted_code = \"words_in_vocab_synsets = {}\\nfor word in tqdm(words_in_vocab):\\n    word_synsets = wn.synsets(word.replace(\\\"_\\\", \\\" \\\"))\\n    if len(word_synsets) > 0:\\n        lemmas = set()\\n        for synset in word_synsets:\\n            for lemma in synset.lemmas():\\n                lemma_lower = lemma.name().lower()\\n                if lemma_lower == word:\\n                    continue\\n                lemmas.add(lemma_lower)\\n        lemmas = list(lemmas)\\n        words_in_vocab_synsets[word] = lemmas\";\n",
       "                var nbb_formatted_code = \"words_in_vocab_synsets = {}\\nfor word in tqdm(words_in_vocab):\\n    word_synsets = wn.synsets(word.replace(\\\"_\\\", \\\" \\\"))\\n    if len(word_synsets) > 0:\\n        lemmas = set()\\n        for synset in word_synsets:\\n            for lemma in synset.lemmas():\\n                lemma_lower = lemma.name().lower()\\n                if lemma_lower == word:\\n                    continue\\n                lemmas.add(lemma_lower)\\n        lemmas = list(lemmas)\\n        words_in_vocab_synsets[word] = lemmas\";\n",
       "                var nbb_cells = Jupyter.notebook.get_cells();\n",
       "                for (var i = 0; i < nbb_cells.length; ++i) {\n",
       "                    if (nbb_cells[i].input_prompt_number == nbb_cell_id) {\n",
       "                        if (nbb_cells[i].get_text() == nbb_unformatted_code) {\n",
       "                             nbb_cells[i].set_text(nbb_formatted_code);\n",
       "                        }\n",
       "                        break;\n",
       "                    }\n",
       "                }\n",
       "            }, 500);\n",
       "            "
      ],
      "text/plain": [
       "<IPython.core.display.Javascript object>"
      ]
     },
     "metadata": {},
     "output_type": "display_data"
    }
   ],
   "source": [
    "words_in_vocab_synsets = {}\n",
    "for word in tqdm(words_in_vocab):\n",
    "    word_synsets = wn.synsets(word.replace(\"_\", \" \"))\n",
    "    if len(word_synsets) > 0:\n",
    "        lemmas = set()\n",
    "        for synset in word_synsets:\n",
    "            for lemma in synset.lemmas():\n",
    "                lemma_lower = lemma.name().lower()\n",
    "                if lemma_lower == word:\n",
    "                    continue\n",
    "                lemmas.add(lemma_lower)\n",
    "        lemmas = list(lemmas)\n",
    "        words_in_vocab_synsets[word] = lemmas"
   ]
  },
  {
   "cell_type": "code",
   "execution_count": 146,
   "id": "comparative-thickness",
   "metadata": {},
   "outputs": [
    {
     "data": {
      "application/vnd.jupyter.widget-view+json": {
       "model_id": "3f21d2c862c144d39044d8af1e25513e",
       "version_major": 2,
       "version_minor": 0
      },
      "text/plain": [
       "  0%|          | 0/10000 [00:00<?, ?it/s]"
      ]
     },
     "metadata": {},
     "output_type": "display_data"
    },
    {
     "data": {
      "application/javascript": [
       "\n",
       "            setTimeout(function() {\n",
       "                var nbb_cell_id = 146;\n",
       "                var nbb_unformatted_code = \"max_annulus_neighbours = 100\\nmin_annulus_neighbours = 50\\nwords_int_neighbourhood = []\\nfor word in tqdm(words_in_vocab):\\n    word_int = word_to_int[word]\\n    word_int_neighbourhood = closest_word_ints_in_vocab(word_int)\\n    word_int_neighbourhood_annulus = word_int_neighbourhood[\\n        min_annulus_neighbours:max_annulus_neighbours\\n    ]\\n    words_int_neighbourhood.append(word_int_neighbourhood_annulus)\";\n",
       "                var nbb_formatted_code = \"max_annulus_neighbours = 100\\nmin_annulus_neighbours = 50\\nwords_int_neighbourhood = []\\nfor word in tqdm(words_in_vocab):\\n    word_int = word_to_int[word]\\n    word_int_neighbourhood = closest_word_ints_in_vocab(word_int)\\n    word_int_neighbourhood_annulus = word_int_neighbourhood[\\n        min_annulus_neighbours:max_annulus_neighbours\\n    ]\\n    words_int_neighbourhood.append(word_int_neighbourhood_annulus)\";\n",
       "                var nbb_cells = Jupyter.notebook.get_cells();\n",
       "                for (var i = 0; i < nbb_cells.length; ++i) {\n",
       "                    if (nbb_cells[i].input_prompt_number == nbb_cell_id) {\n",
       "                        if (nbb_cells[i].get_text() == nbb_unformatted_code) {\n",
       "                             nbb_cells[i].set_text(nbb_formatted_code);\n",
       "                        }\n",
       "                        break;\n",
       "                    }\n",
       "                }\n",
       "            }, 500);\n",
       "            "
      ],
      "text/plain": [
       "<IPython.core.display.Javascript object>"
      ]
     },
     "metadata": {},
     "output_type": "display_data"
    }
   ],
   "source": [
    "max_annulus_neighbours = 100\n",
    "min_annulus_neighbours = 50\n",
    "words_int_neighbourhood = []\n",
    "for word in tqdm(words_in_vocab):\n",
    "    word_int = word_to_int[word]\n",
    "    word_int_neighbourhood = closest_word_ints_in_vocab(word_int)\n",
    "    word_int_neighbourhood_annulus = word_int_neighbourhood[\n",
    "        min_annulus_neighbours:max_annulus_neighbours\n",
    "    ]\n",
    "    words_int_neighbourhood.append(word_int_neighbourhood_annulus)"
   ]
  },
  {
   "cell_type": "code",
   "execution_count": 206,
   "id": "overall-receiver",
   "metadata": {
    "scrolled": false
   },
   "outputs": [
    {
     "data": {
      "application/vnd.jupyter.widget-view+json": {
       "model_id": "f84e6a743d8545d7b46faa512d020229",
       "version_major": 2,
       "version_minor": 0
      },
      "text/plain": [
       "  0%|          | 0/10000 [00:00<?, ?it/s]"
      ]
     },
     "metadata": {},
     "output_type": "display_data"
    },
    {
     "data": {
      "application/javascript": [
       "\n",
       "            setTimeout(function() {\n",
       "                var nbb_cell_id = 206;\n",
       "                var nbb_unformatted_code = \"wasser_norms = []\\nfor i, word_int_neighbourhood in enumerate(tqdm(words_int_neighbourhood)):\\n    pairwise_neigh_dists = euclidean_distances(\\n        word_embeddings_in_vocab[word_int_neighbourhood]\\n    )\\n    result = ripser(X=pairwise_neigh_dists, distance_matrix=True, maxdim=1)\\n    diagrams = result[\\\"dgms\\\"]\\n\\n    # Compute wasserstein norm\\n    wasser_norm = 0\\n    for diagram in diagrams:\\n        diagram_no_inf = np.array(\\n            [[birth, death] for birth, death in diagram if death != np.inf]\\n        )\\n        wasser_norm += wasserstein(diagram_no_inf, np.zeros(diagram_no_inf.shape))\\n    wasser_norm /= len(diagrams)\\n    wasser_norms.append(wasser_norm)\";\n",
       "                var nbb_formatted_code = \"wasser_norms = []\\nfor i, word_int_neighbourhood in enumerate(tqdm(words_int_neighbourhood)):\\n    pairwise_neigh_dists = euclidean_distances(\\n        word_embeddings_in_vocab[word_int_neighbourhood]\\n    )\\n    result = ripser(X=pairwise_neigh_dists, distance_matrix=True, maxdim=1)\\n    diagrams = result[\\\"dgms\\\"]\\n\\n    # Compute wasserstein norm\\n    wasser_norm = 0\\n    for diagram in diagrams:\\n        diagram_no_inf = np.array(\\n            [[birth, death] for birth, death in diagram if death != np.inf]\\n        )\\n        wasser_norm += wasserstein(diagram_no_inf, np.zeros(diagram_no_inf.shape))\\n    wasser_norm /= len(diagrams)\\n    wasser_norms.append(wasser_norm)\";\n",
       "                var nbb_cells = Jupyter.notebook.get_cells();\n",
       "                for (var i = 0; i < nbb_cells.length; ++i) {\n",
       "                    if (nbb_cells[i].input_prompt_number == nbb_cell_id) {\n",
       "                        if (nbb_cells[i].get_text() == nbb_unformatted_code) {\n",
       "                             nbb_cells[i].set_text(nbb_formatted_code);\n",
       "                        }\n",
       "                        break;\n",
       "                    }\n",
       "                }\n",
       "            }, 500);\n",
       "            "
      ],
      "text/plain": [
       "<IPython.core.display.Javascript object>"
      ]
     },
     "metadata": {},
     "output_type": "display_data"
    }
   ],
   "source": [
    "wasser_norms = []\n",
    "for i, word_int_neighbourhood in enumerate(tqdm(words_int_neighbourhood)):\n",
    "    pairwise_neigh_dists = euclidean_distances(\n",
    "        word_embeddings_in_vocab[word_int_neighbourhood]\n",
    "    )\n",
    "    result = ripser(X=pairwise_neigh_dists, distance_matrix=True, maxdim=1)\n",
    "    diagrams = result[\"dgms\"]\n",
    "\n",
    "    # Compute wasserstein norm\n",
    "    wasser_norm = 0\n",
    "    for diagram in diagrams:\n",
    "        diagram_no_inf = np.array(\n",
    "            [[birth, death] for birth, death in diagram if death != np.inf]\n",
    "        )\n",
    "        wasser_norm += wasserstein(diagram_no_inf, np.zeros(diagram_no_inf.shape))\n",
    "    wasser_norm /= len(diagrams)\n",
    "    wasser_norms.append(wasser_norm)"
   ]
  },
  {
   "cell_type": "code",
   "execution_count": 207,
   "id": "finished-disaster",
   "metadata": {},
   "outputs": [
    {
     "data": {
      "image/png": "[encoded data removed]",
      "text/plain": [
       "<Figure size 640x480 with 1 Axes>"
      ]
     },
     "metadata": {},
     "output_type": "display_data"
    },
    {
     "data": {
      "application/javascript": [
       "\n",
       "            setTimeout(function() {\n",
       "                var nbb_cell_id = 207;\n",
       "                var nbb_unformatted_code = \"xs = []\\nys = []\\nfor word, synsets in words_in_vocab_synsets.items():\\n    word_int = word_to_int[word]\\n    num_synsets = len(synsets)\\n    wasser_norm = wasser_norms[word_int]\\n    xs.append(wasser_norm)\\n    ys.append(num_synsets)\\n\\nplt.title(pearsonr(xs, ys)[0])\\nplt.scatter(xs, ys)\\nplt.show()\";\n",
       "                var nbb_formatted_code = \"xs = []\\nys = []\\nfor word, synsets in words_in_vocab_synsets.items():\\n    word_int = word_to_int[word]\\n    num_synsets = len(synsets)\\n    wasser_norm = wasser_norms[word_int]\\n    xs.append(wasser_norm)\\n    ys.append(num_synsets)\\n\\nplt.title(pearsonr(xs, ys)[0])\\nplt.scatter(xs, ys)\\nplt.show()\";\n",
       "                var nbb_cells = Jupyter.notebook.get_cells();\n",
       "                for (var i = 0; i < nbb_cells.length; ++i) {\n",
       "                    if (nbb_cells[i].input_prompt_number == nbb_cell_id) {\n",
       "                        if (nbb_cells[i].get_text() == nbb_unformatted_code) {\n",
       "                             nbb_cells[i].set_text(nbb_formatted_code);\n",
       "                        }\n",
       "                        break;\n",
       "                    }\n",
       "                }\n",
       "            }, 500);\n",
       "            "
      ],
      "text/plain": [
       "<IPython.core.display.Javascript object>"
      ]
     },
     "metadata": {},
     "output_type": "display_data"
    }
   ],
   "source": [
    "xs = []\n",
    "ys = []\n",
    "for word, synsets in words_in_vocab_synsets.items():\n",
    "    word_int = word_to_int[word]\n",
    "    num_synsets = len(synsets)\n",
    "    wasser_norm = wasser_norms[word_int]\n",
    "    xs.append(wasser_norm)\n",
    "    ys.append(num_synsets)\n",
    "\n",
    "plt.title(pearsonr(xs, ys)[0])\n",
    "plt.scatter(xs, ys)\n",
    "plt.show()"
   ]
  }
 ],
 "metadata": {
  "kernelspec": {
   "display_name": "Python 3",
   "language": "python",
   "name": "python3"
  },
  "language_info": {
   "codemirror_mode": {
    "name": "ipython",
    "version": 3
   },
   "file_extension": ".py",
   "mimetype": "text/x-python",
   "name": "python",
   "nbconvert_exporter": "python",
   "pygments_lexer": "ipython3",
   "version": "3.6.9"
  }
 },
 "nbformat": 4,
 "nbformat_minor": 5
}
