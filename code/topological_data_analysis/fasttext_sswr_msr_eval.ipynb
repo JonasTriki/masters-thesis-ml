{
 "cells": [
  {
   "cell_type": "code",
   "execution_count": 1,
   "id": "happy-absorption",
   "metadata": {},
   "outputs": [],
   "source": [
    "import numpy as np\n",
    "from os.path import join\n",
    "import fasttext\n",
    "\n",
    "# Directory constants\n",
    "topological_data_analysis_data_dir = \"data\"\n",
    "root_code_dir = \"..\"\n",
    "output_dir = join(root_code_dir, \"output\")\n",
    "word2vec_training_dir = join(output_dir, \"word2vec_training\")\n",
    "word2vec_ann_indices_dir = join(output_dir, \"word2vec_ann_indices\")\n",
    "word2vec_cluster_analysis_dir = join(output_dir, \"word2vec_cluster_analysis\")\n",
    "\n",
    "# Extend sys path for importing custom Python files\n",
    "import sys\n",
    "sys.path.append(root_code_dir)\n",
    "\n",
    "from word_embeddings.eval_utils import evaluate_model_word_analogies"
   ]
  },
  {
   "cell_type": "markdown",
   "id": "manual-republican",
   "metadata": {},
   "source": [
    "# Load data"
   ]
  },
  {
   "cell_type": "code",
   "execution_count": 5,
   "id": "conditional-static",
   "metadata": {},
   "outputs": [
    {
     "name": "stderr",
     "output_type": "stream",
     "text": [
      "Warning : `load_model` does not return WordVectorModel or SupervisedModel any more, but a `FastText` object which is very similar.\n"
     ]
    }
   ],
   "source": [
    "# Load output from trained fastText model\n",
    "fasttext_model = fasttext.load_model(join(topological_data_analysis_data_dir, \"fastTextOnSemEvalClean.bin\"))\n",
    "words = np.array(fasttext_model.words)\n",
    "word_to_int = {word: i for i, word in enumerate(words)}\n",
    "last_embedding_weights = np.zeros((len(words), fasttext_model.get_dimension()))\n",
    "for i, word in enumerate(fasttext_model.words):\n",
    "    last_embedding_weights[i] = fasttext_model.get_word_vector(word)"
   ]
  },
  {
   "cell_type": "markdown",
   "id": "threatened-franchise",
   "metadata": {},
   "source": [
    "# Evaluate fastText model on SSWR and MSR"
   ]
  },
  {
   "cell_type": "code",
   "execution_count": 6,
   "id": "israeli-seeking",
   "metadata": {},
   "outputs": [],
   "source": [
    "word_embeddings_data_dir = join(root_code_dir, \"word_embeddings\", \"data\")\n",
    "sswr_filepath = join(word_embeddings_data_dir, \"sswr.pkl\")\n",
    "msr_filepath = join(word_embeddings_data_dir, \"msr.pkl\")"
   ]
  },
  {
   "cell_type": "code",
   "execution_count": 8,
   "id": "express-venue",
   "metadata": {
    "scrolled": true
   },
   "outputs": [
    {
     "name": "stdout",
     "output_type": "stream",
     "text": [
      "-- Evaluating capital-common-countries... --\n"
     ]
    },
    {
     "data": {
      "application/vnd.jupyter.widget-view+json": {
       "model_id": "0fb90fd271294269bf37146840676a03",
       "version_major": 2,
       "version_minor": 0
      },
      "text/plain": [
       "  0%|          | 0/506 [00:00<?, ?it/s]"
      ]
     },
     "metadata": {},
     "output_type": "display_data"
    },
    {
     "name": "stdout",
     "output_type": "stream",
     "text": [
      "Accuracy: 5.34%\n",
      "-- Evaluating capital-world... --\n"
     ]
    },
    {
     "data": {
      "application/vnd.jupyter.widget-view+json": {
       "model_id": "27395a7b465e42cba9049e218c5bc337",
       "version_major": 2,
       "version_minor": 0
      },
      "text/plain": [
       "  0%|          | 0/3494 [00:00<?, ?it/s]"
      ]
     },
     "metadata": {},
     "output_type": "display_data"
    },
    {
     "name": "stdout",
     "output_type": "stream",
     "text": [
      "Accuracy: 1.69%\n",
      "-- Evaluating currency... --\n"
     ]
    },
    {
     "data": {
      "application/vnd.jupyter.widget-view+json": {
       "model_id": "b25717b9fac849f8af79bc4e893cee67",
       "version_major": 2,
       "version_minor": 0
      },
      "text/plain": [
       "  0%|          | 0/646 [00:00<?, ?it/s]"
      ]
     },
     "metadata": {},
     "output_type": "display_data"
    },
    {
     "name": "stdout",
     "output_type": "stream",
     "text": [
      "Accuracy: 0.00%\n",
      "-- Evaluating city-in-state... --\n"
     ]
    },
    {
     "data": {
      "application/vnd.jupyter.widget-view+json": {
       "model_id": "6c0b64630359497ea110f205d4555621",
       "version_major": 2,
       "version_minor": 0
      },
      "text/plain": [
       "  0%|          | 0/2467 [00:00<?, ?it/s]"
      ]
     },
     "metadata": {},
     "output_type": "display_data"
    },
    {
     "name": "stdout",
     "output_type": "stream",
     "text": [
      "Accuracy: 1.42%\n",
      "-- Evaluating family... --\n"
     ]
    },
    {
     "data": {
      "application/vnd.jupyter.widget-view+json": {
       "model_id": "86dd2d8672ea401095859143cf58bf43",
       "version_major": 2,
       "version_minor": 0
      },
      "text/plain": [
       "  0%|          | 0/462 [00:00<?, ?it/s]"
      ]
     },
     "metadata": {},
     "output_type": "display_data"
    },
    {
     "name": "stdout",
     "output_type": "stream",
     "text": [
      "Accuracy: 31.39%\n",
      "-- Evaluating gram1-adjective-to-adverb... --\n"
     ]
    },
    {
     "data": {
      "application/vnd.jupyter.widget-view+json": {
       "model_id": "af9298709fe34ab2a094c2bddf108a68",
       "version_major": 2,
       "version_minor": 0
      },
      "text/plain": [
       "  0%|          | 0/992 [00:00<?, ?it/s]"
      ]
     },
     "metadata": {},
     "output_type": "display_data"
    },
    {
     "name": "stdout",
     "output_type": "stream",
     "text": [
      "Accuracy: 59.68%\n",
      "-- Evaluating gram2-opposite... --\n"
     ]
    },
    {
     "data": {
      "application/vnd.jupyter.widget-view+json": {
       "model_id": "1188d3dd8df142d79d2dbb86054c652d",
       "version_major": 2,
       "version_minor": 0
      },
      "text/plain": [
       "  0%|          | 0/812 [00:00<?, ?it/s]"
      ]
     },
     "metadata": {},
     "output_type": "display_data"
    },
    {
     "name": "stdout",
     "output_type": "stream",
     "text": [
      "Accuracy: 77.96%\n",
      "-- Evaluating gram3-comparative... --\n"
     ]
    },
    {
     "data": {
      "application/vnd.jupyter.widget-view+json": {
       "model_id": "590d33e641a44c72ae2aa3e3220a49b5",
       "version_major": 2,
       "version_minor": 0
      },
      "text/plain": [
       "  0%|          | 0/1332 [00:00<?, ?it/s]"
      ]
     },
     "metadata": {},
     "output_type": "display_data"
    },
    {
     "name": "stdout",
     "output_type": "stream",
     "text": [
      "Accuracy: 73.05%\n",
      "-- Evaluating gram4-superlative... --\n"
     ]
    },
    {
     "data": {
      "application/vnd.jupyter.widget-view+json": {
       "model_id": "d35a757d44b84fb8ac0e28c092388e9c",
       "version_major": 2,
       "version_minor": 0
      },
      "text/plain": [
       "  0%|          | 0/1122 [00:00<?, ?it/s]"
      ]
     },
     "metadata": {},
     "output_type": "display_data"
    },
    {
     "name": "stdout",
     "output_type": "stream",
     "text": [
      "Accuracy: 79.41%\n",
      "-- Evaluating gram5-present-participle... --\n"
     ]
    },
    {
     "data": {
      "application/vnd.jupyter.widget-view+json": {
       "model_id": "edfe02a0be3e49d0a837eac2e1db27f8",
       "version_major": 2,
       "version_minor": 0
      },
      "text/plain": [
       "  0%|          | 0/1056 [00:00<?, ?it/s]"
      ]
     },
     "metadata": {},
     "output_type": "display_data"
    },
    {
     "name": "stdout",
     "output_type": "stream",
     "text": [
      "Accuracy: 76.80%\n",
      "-- Evaluating gram6-nationality-adjective... --\n"
     ]
    },
    {
     "data": {
      "application/vnd.jupyter.widget-view+json": {
       "model_id": "8860e9a29f05469b9af9f8398c1fc9fc",
       "version_major": 2,
       "version_minor": 0
      },
      "text/plain": [
       "  0%|          | 0/1599 [00:00<?, ?it/s]"
      ]
     },
     "metadata": {},
     "output_type": "display_data"
    },
    {
     "name": "stdout",
     "output_type": "stream",
     "text": [
      "Accuracy: 51.97%\n",
      "-- Evaluating gram7-past-tense... --\n"
     ]
    },
    {
     "data": {
      "application/vnd.jupyter.widget-view+json": {
       "model_id": "e8b54022396d4880b4edc46675335017",
       "version_major": 2,
       "version_minor": 0
      },
      "text/plain": [
       "  0%|          | 0/1560 [00:00<?, ?it/s]"
      ]
     },
     "metadata": {},
     "output_type": "display_data"
    },
    {
     "name": "stdout",
     "output_type": "stream",
     "text": [
      "Accuracy: 32.95%\n",
      "-- Evaluating gram8-plural... --\n"
     ]
    },
    {
     "data": {
      "application/vnd.jupyter.widget-view+json": {
       "model_id": "505967a28be64c99bf2a5724317bd005",
       "version_major": 2,
       "version_minor": 0
      },
      "text/plain": [
       "  0%|          | 0/1332 [00:00<?, ?it/s]"
      ]
     },
     "metadata": {},
     "output_type": "display_data"
    },
    {
     "name": "stdout",
     "output_type": "stream",
     "text": [
      "Accuracy: 68.39%\n",
      "-- Evaluating gram9-plural-verbs... --\n"
     ]
    },
    {
     "data": {
      "application/vnd.jupyter.widget-view+json": {
       "model_id": "27c0bd0225dc49609504a56024790330",
       "version_major": 2,
       "version_minor": 0
      },
      "text/plain": [
       "  0%|          | 0/870 [00:00<?, ?it/s]"
      ]
     },
     "metadata": {},
     "output_type": "display_data"
    },
    {
     "name": "stdout",
     "output_type": "stream",
     "text": [
      "Accuracy: 75.86%\n"
     ]
    }
   ],
   "source": [
    "# SSWR\n",
    "sswr_eval_result = evaluate_model_word_analogies(\n",
    "    analogies_filepath=sswr_filepath,\n",
    "    word_embeddings=last_embedding_weights,\n",
    "    word_to_int=word_to_int,\n",
    "    words=words,\n",
    "    vocab_size=-1,\n",
    "    top_n=1\n",
    ")"
   ]
  },
  {
   "cell_type": "code",
   "execution_count": 14,
   "id": "fifty-reason",
   "metadata": {},
   "outputs": [
    {
     "name": "stdout",
     "output_type": "stream",
     "text": [
      "Semantic (avg) accuracy: 8.0\n",
      "Syntactic (avg) accuracy: 66.2\n"
     ]
    }
   ],
   "source": [
    "sswr_categories = list(sswr_eval_result.keys())\n",
    "semantic_categories = sswr_categories[:5]\n",
    "semantic_avg_acc = np.mean([sswr_eval_result[cat] for cat in semantic_categories])\n",
    "print(f\"Semantic (avg) accuracy: {semantic_avg_acc*100:.1f}\")\n",
    "\n",
    "syntactic_categories = sswr_categories[5:-1]\n",
    "syntactic_avg_acc = np.mean([sswr_eval_result[cat] for cat in syntactic_categories])\n",
    "print(f\"Syntactic (avg) accuracy: {syntactic_avg_acc*100:.1f}\")"
   ]
  },
  {
   "cell_type": "code",
   "execution_count": 9,
   "id": "declared-optimization",
   "metadata": {},
   "outputs": [
    {
     "name": "stdout",
     "output_type": "stream",
     "text": [
      "-- Evaluating adjectives... --\n"
     ]
    },
    {
     "data": {
      "application/vnd.jupyter.widget-view+json": {
       "model_id": "b89d0e966f2d40b8b800d597aed80566",
       "version_major": 2,
       "version_minor": 0
      },
      "text/plain": [
       "  0%|          | 0/2668 [00:00<?, ?it/s]"
      ]
     },
     "metadata": {},
     "output_type": "display_data"
    },
    {
     "name": "stdout",
     "output_type": "stream",
     "text": [
      "Accuracy: 62.78%\n",
      "-- Evaluating nouns... --\n"
     ]
    },
    {
     "data": {
      "application/vnd.jupyter.widget-view+json": {
       "model_id": "8e57509ccd574bf08a9a000d8b127970",
       "version_major": 2,
       "version_minor": 0
      },
      "text/plain": [
       "  0%|          | 0/1000 [00:00<?, ?it/s]"
      ]
     },
     "metadata": {},
     "output_type": "display_data"
    },
    {
     "name": "stdout",
     "output_type": "stream",
     "text": [
      "Accuracy: 43.90%\n",
      "-- Evaluating verbs... --\n"
     ]
    },
    {
     "data": {
      "application/vnd.jupyter.widget-view+json": {
       "model_id": "e64b86991a244e58bffe561051120a7a",
       "version_major": 2,
       "version_minor": 0
      },
      "text/plain": [
       "  0%|          | 0/3000 [00:00<?, ?it/s]"
      ]
     },
     "metadata": {},
     "output_type": "display_data"
    },
    {
     "name": "stdout",
     "output_type": "stream",
     "text": [
      "Accuracy: 74.13%\n"
     ]
    }
   ],
   "source": [
    "# MSR\n",
    "msr_eval_result = evaluate_model_word_analogies(\n",
    "    analogies_filepath=msr_filepath,\n",
    "    word_embeddings=last_embedding_weights,\n",
    "    word_to_int=word_to_int,\n",
    "    words=words,\n",
    "    vocab_size=-1,\n",
    "    top_n=1\n",
    ")"
   ]
  },
  {
   "cell_type": "code",
   "execution_count": 11,
   "id": "worth-attachment",
   "metadata": {},
   "outputs": [
    {
     "data": {
      "text/plain": [
       "{'adjectives': 0.6278110944527736,\n",
       " 'nouns': 0.439,\n",
       " 'verbs': 0.7413333333333333,\n",
       " 'avg': 0.6027148092620357}"
      ]
     },
     "execution_count": 11,
     "metadata": {},
     "output_type": "execute_result"
    }
   ],
   "source": [
    "msr_eval_result"
   ]
  }
 ],
 "metadata": {
  "kernelspec": {
   "display_name": "Python 3",
   "language": "python",
   "name": "python3"
  },
  "language_info": {
   "codemirror_mode": {
    "name": "ipython",
    "version": 3
   },
   "file_extension": ".py",
   "mimetype": "text/x-python",
   "name": "python",
   "nbconvert_exporter": "python",
   "pygments_lexer": "ipython3",
   "version": "3.6.9"
  }
 },
 "nbformat": 4,
 "nbformat_minor": 5
}
