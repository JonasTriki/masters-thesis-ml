{
 "cells": [
  {
   "cell_type": "code",
   "execution_count": null,
   "metadata": {},
   "outputs": [],
   "source": [
    "# Imports\n",
    "from os import makedirs\n",
    "from os.path import join\n",
    "import joblib\n",
    "import numpy as np\n",
    "rng_seed = 399\n",
    "np.random.seed(rng_seed)\n",
    "from matplotlib import pyplot as plt\n",
    "import seaborn as sns\n",
    "sns.set_theme()\n",
    "from tqdm.auto import tqdm\n",
    "import pandas as pd\n",
    "import gudhi as gd\n",
    "from gudhi.wasserstein import wasserstein_distance\n",
    "\n",
    "import plotly.offline as pyo\n",
    "pyo.init_notebook_mode()\n",
    "\n",
    "# Directory constants\n",
    "topological_data_analysis_data_dir = \"data\"\n",
    "root_code_dir = \"..\"\n",
    "output_dir = join(root_code_dir, \"output\")\n",
    "word2vec_training_dir = join(output_dir, \"word2vec_training\")\n",
    "word2vec_cluster_analysis_dir = join(output_dir, \"word2vec_cluster_analysis\")\n",
    "\n",
    "# Extend sys path for importing custom Python files\n",
    "import sys\n",
    "sys.path.append(root_code_dir)\n",
    "\n",
    "from utils import get_model_checkpoint_filepaths, pairwise_cosine_distances, words_to_vectors\n",
    "from word_embeddings.word2vec import load_model_training_output\n",
    "from vis_utils import plot_word_vectors\n",
    "from topological_data_analysis.tda_utils import plot_persistence_diagram"
   ]
  },
  {
   "cell_type": "markdown",
   "metadata": {},
   "source": [
    "# Prepare data"
   ]
  },
  {
   "cell_type": "code",
   "execution_count": null,
   "metadata": {},
   "outputs": [],
   "source": [
    "# Load output from training word2vec\n",
    "w2v_training_output = load_model_training_output(\n",
    "    model_training_output_dir=join(word2vec_training_dir, \"word2vec_enwiki_sept_2020_word2phrase\"),\n",
    "    model_name=\"word2vec\",\n",
    "    dataset_name=\"enwiki\",\n",
    ")\n",
    "last_embedding_weights = w2v_training_output[\"last_embedding_weights\"]\n",
    "words = w2v_training_output[\"words\"]\n",
    "word_to_int = w2v_training_output[\"word_to_int\"]"
   ]
  },
  {
   "cell_type": "code",
   "execution_count": null,
   "metadata": {},
   "outputs": [],
   "source": [
    "# Restrict vocabulary size for analysis\n",
    "vocab_size = 1000\n",
    "vocabulary = list(range(vocab_size))"
   ]
  },
  {
   "cell_type": "markdown",
   "metadata": {},
   "source": [
    "# Topolocial polysemy"
   ]
  },
  {
   "cell_type": "code",
   "execution_count": null,
   "metadata": {},
   "outputs": [],
   "source": [
    "def punctured_neighbourhood(\n",
    "    target_word: str,\n",
    "    word_to_int: dict,\n",
    "    word_embeddings: np.ndarray,\n",
    "    word_embeddings_pairwise_dists: np.ndarray,\n",
    "    neighbourhood_size: int,\n",
    ") -> np.ndarray:\n",
    "    \"\"\"\n",
    "    TODO: Docs\n",
    "    \"\"\"\n",
    "    # Find neighbouring words (excluding the target word itself)\n",
    "    target_word_idx = word_to_int[target_word]\n",
    "    neighbourhood_distances = word_embeddings_pairwise_dists[target_word_idx]\n",
    "    neighbourhood_sorted_indices = np.argsort(neighbourhood_distances)[1:neighbourhood_size + 1]\n",
    "    neighbouring_word_embeddings = word_embeddings[neighbourhood_sorted_indices]\n",
    "    return neighbouring_word_embeddings"
   ]
  },
  {
   "cell_type": "code",
   "execution_count": null,
   "metadata": {},
   "outputs": [],
   "source": [
    "def tps(\n",
    "    target_word: str,\n",
    "    word_embeddings: np.ndarray,\n",
    "    words_vocabulary: list,\n",
    "    word_to_int: dict,\n",
    "    neighbourhood_size: int\n",
    ") -> None:\n",
    "    \"\"\"\n",
    "    TODO: Docs\n",
    "    \n",
    "    Parameters\n",
    "    ----------\n",
    "    word_embeddings : np.ndarray\n",
    "        Word embeddings\n",
    "    words_vocabulary : list\n",
    "        List of either words (str) or word integer representations (int), signalizing\n",
    "        what part of the vocabulary we want to use.\n",
    "    \"\"\"\n",
    "    # Create word vectors from given words/vocabulary\n",
    "    word_vectors = words_to_vectors(\n",
    "        words_vocabulary=words_vocabulary,\n",
    "        word_to_int=word_to_int,\n",
    "        word_embeddings=word_embeddings,\n",
    "    )\n",
    "    \n",
    "    # Compute pairwise distances between each word vector\n",
    "    pairwise_word_vector_distances = pairwise_cosine_distances(word_vectors)\n",
    "    \n",
    "    # Normalize all word vectors to have L2-norm\n",
    "    word_vectors_norm = word_vectors / np.linalg.norm(word_vectors)\n",
    "    \n",
    "    # Compute punctured neighbourhood\n",
    "    target_word_punctured_neighbourhood = punctured_neighbourhood(\n",
    "        target_word=target_word,\n",
    "        word_to_int=word_to_int,\n",
    "        word_embeddings=word_vectors_norm,\n",
    "        word_embeddings_pairwise_dists=pairwise_word_vector_distances,\n",
    "        neighbourhood_size=neighbourhood_size\n",
    "    )\n",
    "    \n",
    "    # Project word vectors in punctured neighbourhood to the unit sphere\n",
    "    target_word_punctured_neighbourhood_sphere = np.zeros(target_word_punctured_neighbourhood.shape)\n",
    "    target_word_vector_w = word_vectors_norm[word_to_int[target_word]]\n",
    "    for i, v in enumerate(target_word_punctured_neighbourhood):\n",
    "        w_v_diff = v - target_word_vector_w\n",
    "        target_word_punctured_neighbourhood_sphere[i] = w_v_diff / np.linalg.norm(w_v_diff)\n",
    "\n",
    "    # TODO: Compute the degree zero persistence diagram of punctured neighbourhood (projected to the unit sphere)\n",
    "    return target_word_punctured_neighbourhood_sphere"
   ]
  },
  {
   "cell_type": "code",
   "execution_count": null,
   "metadata": {},
   "outputs": [],
   "source": [
    "target_word_punctured_neighbourhood_sphere = tps(\n",
    "    word_embeddings=last_embedding_weights,\n",
    "    words_vocabulary=vocabulary,\n",
    "    word_to_int=word_to_int,\n",
    "    target_word=\"summer\",\n",
    "    neighbourhood_size=5\n",
    ")"
   ]
  },
  {
   "cell_type": "code",
   "execution_count": null,
   "metadata": {},
   "outputs": [],
   "source": [
    "rips_complex = gd.RipsComplex(points=target_word_punctured_neighbourhood_sphere)"
   ]
  },
  {
   "cell_type": "code",
   "execution_count": null,
   "metadata": {},
   "outputs": [],
   "source": [
    "simplex_tree = rips_complex.create_simplex_tree(max_dimension=0)"
   ]
  },
  {
   "cell_type": "code",
   "execution_count": null,
   "metadata": {},
   "outputs": [],
   "source": [
    "barcodes = simplex_tree.persistence()\n",
    "gd.plot_persistence_diagram(barcodes)"
   ]
  },
  {
   "cell_type": "code",
   "execution_count": null,
   "metadata": {},
   "outputs": [],
   "source": [
    "zero_degree_diagram_points = np.array([[birth, death] for _, (birth, death) in barcodes])\n",
    "zero_degree_diagram_points"
   ]
  },
  {
   "cell_type": "code",
   "execution_count": null,
   "metadata": {},
   "outputs": [],
   "source": [
    "empty_degree_diagram_points = np.zeros(zero_degree_diagram_points.shape)\n",
    "empty_degree_diagram_points"
   ]
  },
  {
   "cell_type": "code",
   "execution_count": null,
   "metadata": {},
   "outputs": [],
   "source": [
    "wasserstein_distance(X=zero_degree_diagram_points, Y=empty_degree_diagram_points)"
   ]
  }
 ],
 "metadata": {
  "kernelspec": {
   "display_name": "Python 3",
   "language": "python",
   "name": "python3"
  },
  "language_info": {
   "codemirror_mode": {
    "name": "ipython",
    "version": 3
   },
   "file_extension": ".py",
   "mimetype": "text/x-python",
   "name": "python",
   "nbconvert_exporter": "python",
   "pygments_lexer": "ipython3",
   "version": "3.6.9"
  }
 },
 "nbformat": 4,
 "nbformat_minor": 4
}
