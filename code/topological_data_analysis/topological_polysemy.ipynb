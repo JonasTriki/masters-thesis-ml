{
 "cells": [
  {
   "cell_type": "code",
   "execution_count": null,
   "metadata": {},
   "outputs": [],
   "source": [
    "# Imports\n",
    "from os import makedirs\n",
    "from os.path import join\n",
    "import joblib\n",
    "import numpy as np\n",
    "rng_seed = 399\n",
    "np.random.seed(rng_seed)\n",
    "from scipy.stats import pearsonr\n",
    "from matplotlib import pyplot as plt\n",
    "import seaborn as sns\n",
    "sns.set_theme()\n",
    "from tqdm.auto import tqdm\n",
    "import pandas as pd\n",
    "import gudhi as gd\n",
    "from gudhi.wasserstein import wasserstein_distance\n",
    "\n",
    "from nltk.corpus import wordnet as wn\n",
    "import annoy\n",
    "\n",
    "import plotly.offline as pyo\n",
    "pyo.init_notebook_mode()\n",
    "\n",
    "# Directory constants\n",
    "topological_data_analysis_data_dir = \"data\"\n",
    "root_code_dir = \"..\"\n",
    "output_dir = join(root_code_dir, \"output\")\n",
    "word2vec_training_dir = join(output_dir, \"word2vec_training\")\n",
    "word2vec_ann_indices_dir = join(output_dir, \"word2vec_ann_indices\")\n",
    "word2vec_cluster_analysis_dir = join(output_dir, \"word2vec_cluster_analysis\")\n",
    "\n",
    "# Extend sys path for importing custom Python files\n",
    "import sys\n",
    "sys.path.append(root_code_dir)\n",
    "\n",
    "from utils import get_model_checkpoint_filepaths, pairwise_cosine_distances, words_to_vectors\n",
    "from word_embeddings.word2vec import load_model_training_output\n",
    "from vis_utils import plot_word_vectors\n",
    "from topological_data_analysis.tda_utils import plot_persistence_diagram, tps"
   ]
  },
  {
   "cell_type": "markdown",
   "metadata": {},
   "source": [
    "# Prepare data"
   ]
  },
  {
   "cell_type": "code",
   "execution_count": null,
   "metadata": {},
   "outputs": [],
   "source": [
    "# Load output from training word2vec\n",
    "w2v_training_output = load_model_training_output(\n",
    "    model_training_output_dir=join(word2vec_training_dir, \"word2vec_enwiki_sept_2020_word2phrase\"),\n",
    "    model_name=\"word2vec\",\n",
    "    dataset_name=\"enwiki\",\n",
    ")\n",
    "last_embedding_weights = w2v_training_output[\"last_embedding_weights\"]\n",
    "words = w2v_training_output[\"words\"]\n",
    "word_to_int = w2v_training_output[\"word_to_int\"]\n",
    "word_counts = w2v_training_output[\"word_counts\"]"
   ]
  },
  {
   "cell_type": "code",
   "execution_count": null,
   "metadata": {},
   "outputs": [],
   "source": [
    "# Normalize word embeddings\n",
    "last_embedding_weights_normalized = last_embedding_weights / np.linalg.norm(last_embedding_weights, axis=1).reshape(-1, 1)"
   ]
  },
  {
   "cell_type": "code",
   "execution_count": null,
   "metadata": {},
   "outputs": [],
   "source": [
    "# Load SemEval data\n",
    "semeval_2010_14_vocabulary = joblib.load(\n",
    "    join(topological_data_analysis_data_dir, \"semeval_2010_14_vocabulary.joblib\")\n",
    ")\n",
    "semeval_2010_14_wordnet_senses = joblib.load(\n",
    "    join(topological_data_analysis_data_dir, \"semeval_2010_14_wordnet_senses.joblib\")\n",
    ")\n",
    "semeval_2010_14_word_senses = joblib.load(\n",
    "    join(topological_data_analysis_data_dir, \"semeval_2010_14_word_senses.joblib\")\n",
    ")"
   ]
  },
  {
   "cell_type": "code",
   "execution_count": null,
   "metadata": {},
   "outputs": [],
   "source": [
    "annoy_index = annoy.AnnoyIndex(f=last_embedding_weights.shape[1], metric=\"euclidean\")\n",
    "annoy_index.load(\n",
    "    fn=join(word2vec_ann_indices_dir, \"word2vec_enwiki_annoy_index.ann\"),\n",
    "    prefault=True\n",
    ")"
   ]
  },
  {
   "cell_type": "markdown",
   "metadata": {},
   "source": [
    "# Topolocial polysemy"
   ]
  },
  {
   "cell_type": "code",
   "execution_count": null,
   "metadata": {},
   "outputs": [],
   "source": [
    "tps_neighbourhood_sizes = [10, 40, 50, 60, 100, 150, 200]\n",
    "table_1_dict = {\n",
    "    \"n\": tps_neighbourhood_sizes,\n",
    "    \"TPS_n vs. GS\": [],\n",
    "    \"TPS_n vs. synsets\": [],\n",
    "    \"TPS_n vs. frequency\": [],\n",
    "}"
   ]
  },
  {
   "cell_type": "markdown",
   "metadata": {},
   "source": [
    "## TPS for 100 SemEval target words"
   ]
  },
  {
   "cell_type": "code",
   "execution_count": null,
   "metadata": {
    "scrolled": false
   },
   "outputs": [],
   "source": [
    "# Compute TPS for 100 SemEval target words\n",
    "semeval_target_word_tps_scores = {}\n",
    "\n",
    "semeval_gs_clusters = list(semeval_2010_14_word_senses[\"all\"].values())\n",
    "for tps_neighbourhood_size in tps_neighbourhood_sizes:\n",
    "    print(f\"Neighbourhood size: {tps_neighbourhood_size}\")\n",
    "    \n",
    "    # Compute TPS scores\n",
    "    semeval_tps_scores = []\n",
    "    for semeval_target_word, semeval_target_word_clusters in tqdm(semeval_2010_14_word_senses[\"all\"].items()):\n",
    "        tps_score = tps(\n",
    "            target_word=semeval_target_word,\n",
    "            word_embeddings=last_embedding_weights,\n",
    "            words_vocabulary=None,\n",
    "            word_to_int=word_to_int,\n",
    "            neighbourhood_size=tps_neighbourhood_size,\n",
    "            word_embeddings_normalized=last_embedding_weights_normalized,\n",
    "            word_embeddings_pairwise_dists=None,\n",
    "            annoy_index=annoy_index\n",
    "        )\n",
    "        semeval_tps_scores.append(tps_score)\n",
    "        \n",
    "    # Compute correlation\n",
    "    semeval_tps_score_gs_corr, _ = pearsonr(\n",
    "        x=semeval_tps_scores,\n",
    "        y=semeval_gs_clusters\n",
    "    )\n",
    "    \n",
    "    # Set result\n",
    "    semeval_target_word_tps_scores[tps_neighbourhood_size] = {\n",
    "        \"tps_scores\": semeval_tps_scores,\n",
    "        \"gs_tps_correlation\": semeval_tps_score_gs_corr\n",
    "    }\n",
    "    table_1_dict[\"TPS_n vs. GS\"].append(semeval_tps_score_gs_corr)\n",
    "    \n",
    "    # Plot TPS scores to GS\n",
    "    plt.figure(figsize=(10, 5))\n",
    "    plt.scatter(\n",
    "        x=semeval_tps_scores,\n",
    "        y=semeval_gs_clusters\n",
    "    )\n",
    "    plt.xlabel(\"TPS\")\n",
    "    plt.ylabel(\"Clusters in GS\")\n",
    "    plt.title(f\"Correlation: {semeval_tps_score_gs_corr:.5f}\")\n",
    "    plt.show()"
   ]
  },
  {
   "cell_type": "markdown",
   "metadata": {},
   "source": [
    "## TPS for Wordnet synsets that are in vocabulary"
   ]
  },
  {
   "cell_type": "code",
   "execution_count": null,
   "metadata": {},
   "outputs": [],
   "source": [
    "# Find words in vocabulary that have synsets in Wordnet\n",
    "wordnet_synsets_in_vocab = {} \n",
    "for word in tqdm(words):\n",
    "    num_synsets_word = len(wn.synsets(word))\n",
    "    if num_synsets_word > 0:\n",
    "        wordnet_synsets_in_vocab[word] = num_synsets_word"
   ]
  },
  {
   "cell_type": "code",
   "execution_count": null,
   "metadata": {},
   "outputs": [],
   "source": [
    "wordnet_synsets_words_in_vocab = list(wordnet_synsets_in_vocab.keys())\n",
    "wordnet_synsets_words_in_vocab_meanings = list(wordnet_synsets_in_vocab.values())"
   ]
  },
  {
   "cell_type": "code",
   "execution_count": null,
   "metadata": {
    "scrolled": false
   },
   "outputs": [],
   "source": [
    "for tps_neighbourhood_size in tps_neighbourhood_sizes:\n",
    "    print(f\"Neighbourhood size: {tps_neighbourhood_size}\")\n",
    "    \n",
    "    # Compute TPS scores\n",
    "    tps_scores = []\n",
    "    for word in tqdm(wordnet_synsets_words_in_vocab):\n",
    "        tps_score = tps(\n",
    "            target_word=word,\n",
    "            word_embeddings=last_embedding_weights,\n",
    "            words_vocabulary=None,\n",
    "            word_to_int=word_to_int,\n",
    "            neighbourhood_size=tps_neighbourhood_size,\n",
    "            word_embeddings_normalized=last_embedding_weights_normalized,\n",
    "            word_embeddings_pairwise_dists=None,\n",
    "            annoy_index=annoy_index\n",
    "        )\n",
    "        tps_scores.append(tps_score)\n",
    "        \n",
    "    # Compute correlation\n",
    "    tps_score_synsets_corr, _ = pearsonr(\n",
    "        x=tps_scores,\n",
    "        y=wordnet_synsets_words_in_vocab_meanings\n",
    "    )\n",
    "    table_1_dict[\"TPS_n vs. synsets\"].append(tps_score_synsets_corr)\n",
    "    \n",
    "    # Plot TPS scores to Wordnet synsets\n",
    "    plt.figure(figsize=(10, 5))\n",
    "    plt.scatter(\n",
    "        x=tps_scores,\n",
    "        y=wordnet_synsets_words_in_vocab_meanings\n",
    "    )\n",
    "    plt.xlabel(\"TPS\")\n",
    "    plt.ylabel(\"Synsets in Wordnet\")\n",
    "    plt.title(f\"Correlation: {tps_score_synsets_corr:.5f}\")\n",
    "    plt.show()"
   ]
  },
  {
   "cell_type": "markdown",
   "metadata": {},
   "source": [
    "## TPS for top 10k words (vs. word frequencies)"
   ]
  },
  {
   "cell_type": "code",
   "execution_count": null,
   "metadata": {},
   "outputs": [],
   "source": [
    "num_top_k_words = 10000\n",
    "top_k_frequencies = [int(count) for count in word_counts[:num_top_k_words]]"
   ]
  },
  {
   "cell_type": "code",
   "execution_count": null,
   "metadata": {
    "scrolled": false
   },
   "outputs": [],
   "source": [
    "for tps_neighbourhood_size in tps_neighbourhood_sizes:\n",
    "    print(f\"Neighbourhood size: {tps_neighbourhood_size}\")\n",
    "    \n",
    "    # Compute TPS scores\n",
    "    tps_scores = []\n",
    "    for word in tqdm(words[:num_top_k_words]):\n",
    "        tps_score = tps(\n",
    "            target_word=word,\n",
    "            word_embeddings=last_embedding_weights,\n",
    "            words_vocabulary=None,\n",
    "            word_to_int=word_to_int,\n",
    "            neighbourhood_size=tps_neighbourhood_size,\n",
    "            word_embeddings_normalized=last_embedding_weights_normalized,\n",
    "            word_embeddings_pairwise_dists=None,\n",
    "            annoy_index=annoy_index\n",
    "        )\n",
    "        tps_scores.append(tps_score)\n",
    "\n",
    "    # Compute correlation\n",
    "    tps_score_frequency_corr, _ = pearsonr(\n",
    "        x=tps_scores,\n",
    "        y=top_k_frequencies\n",
    "    )\n",
    "    table_1_dict[\"TPS_n vs. frequency\"].append(tps_score_frequency_corr)\n",
    "    \n",
    "    # Plot TPS scores to word frequencies\n",
    "    plt.figure(figsize=(10, 5))\n",
    "    plt.scatter(\n",
    "        x=tps_scores,\n",
    "        y=top_k_frequencies\n",
    "    )\n",
    "    plt.xlabel(\"TPS\")\n",
    "    plt.ylabel(\"Word frequency\")\n",
    "    plt.title(f\"Correlation: {tps_score_frequency_corr:.5f}\")\n",
    "    plt.show()"
   ]
  },
  {
   "cell_type": "code",
   "execution_count": null,
   "metadata": {},
   "outputs": [],
   "source": [
    "# Show \"Table 1\"\n",
    "table_1_df = pd.DataFrame(table_1_dict)\n",
    "table_1_df.set_index(\"n\", inplace=True)\n",
    "table_1_df"
   ]
  }
 ],
 "metadata": {
  "kernelspec": {
   "display_name": "Python 3",
   "language": "python",
   "name": "python3"
  },
  "language_info": {
   "codemirror_mode": {
    "name": "ipython",
    "version": 3
   },
   "file_extension": ".py",
   "mimetype": "text/x-python",
   "name": "python",
   "nbconvert_exporter": "python",
   "pygments_lexer": "ipython3",
   "version": "3.6.9"
  }
 },
 "nbformat": 4,
 "nbformat_minor": 4
}
