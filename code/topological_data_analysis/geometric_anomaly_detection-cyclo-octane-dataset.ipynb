{
 "cells": [
  {
   "cell_type": "code",
   "execution_count": null,
   "id": "interesting-aside",
   "metadata": {},
   "outputs": [],
   "source": [
    "# Imports\n",
    "from os import makedirs\n",
    "from os.path import join\n",
    "import joblib\n",
    "import numpy as np\n",
    "rng_seed = 399\n",
    "np.random.seed(rng_seed)\n",
    "from scipy.stats import pearsonr\n",
    "from matplotlib import pyplot as plt\n",
    "import seaborn as sns\n",
    "sns.set_theme()\n",
    "from tqdm.auto import tqdm\n",
    "import pandas as pd\n",
    "import gudhi as gd\n",
    "from gudhi.wasserstein import wasserstein_distance\n",
    "from sklearn.metrics.pairwise import euclidean_distances\n",
    "from scipy.spatial.distance import squareform\n",
    "\n",
    "from umap import UMAP\n",
    "from sklearn.decomposition import PCA\n",
    "from sklearn.manifold import Isomap\n",
    "from nltk.corpus import wordnet as wn\n",
    "import annoy\n",
    "\n",
    "import plotly.offline as pyo\n",
    "pyo.init_notebook_mode()\n",
    "import plotly.express as px\n",
    "import plotly.graph_objects as go\n",
    "from plotly import colors\n",
    "\n",
    "# Directory constants\n",
    "topological_data_analysis_data_dir = \"data\"\n",
    "topological_data_analysis_custom_data_dir = \"custom_data\"\n",
    "root_code_dir = \"..\"\n",
    "output_dir = join(root_code_dir, \"output\")\n",
    "word2vec_training_dir = join(output_dir, \"word2vec_training\")\n",
    "word2vec_ann_indices_dir = join(output_dir, \"word2vec_ann_indices\")\n",
    "word2vec_cluster_analysis_dir = join(output_dir, \"word2vec_cluster_analysis\")\n",
    "tps_experimentation_dir = join(output_dir, \"topological_polysemy_experimentation\")\n",
    "analysis_of_embeddings_dir = join(root_code_dir, \"analysis_of_embeddings\")\n",
    "\n",
    "# Extend sys path for importing custom Python files\n",
    "import sys\n",
    "sys.path.extend([root_code_dir, analysis_of_embeddings_dir])\n",
    "\n",
    "from utils import get_model_checkpoint_filepaths, pairwise_cosine_distances, words_to_vectors\n",
    "from word_embeddings.word2vec import load_model_training_output\n",
    "from vis_utils import plot_word_vectors\n",
    "from topological_data_analysis.geometric_anomaly_detection import compute_gad\n",
    "from topological_data_analysis.topological_polysemy import tps_point_cloud\n",
    "from analysis_utils import transform_word_embeddings"
   ]
  },
  {
   "cell_type": "markdown",
   "id": "reverse-mississippi",
   "metadata": {},
   "source": [
    "# Prepare data"
   ]
  },
  {
   "cell_type": "code",
   "execution_count": null,
   "id": "miniature-vegetarian",
   "metadata": {},
   "outputs": [],
   "source": [
    "# Load cyclo-octane data\n",
    "cyclo_octane_data = pd.read_csv(join(topological_data_analysis_custom_data_dir, \"cyclo-octane.csv\"), header=None).values\n",
    "cyclo_octane_data.shape"
   ]
  },
  {
   "cell_type": "code",
   "execution_count": null,
   "id": "automatic-detector",
   "metadata": {},
   "outputs": [],
   "source": [
    "cyclo_octane_data_dists = euclidean_distances(cyclo_octane_data)"
   ]
  },
  {
   "cell_type": "code",
   "execution_count": null,
   "id": "double-dallas",
   "metadata": {},
   "outputs": [],
   "source": [
    "# Load TPS scores of cyclo-octane data\n",
    "cyclo_octane_tps_scores = np.load(join(tps_experimentation_dir, \"cyclo_octane\", \"tps_scores_50.npy\"))\n",
    "cyclo_octane_tps_scores.shape"
   ]
  },
  {
   "cell_type": "markdown",
   "id": "sapphire-metabolism",
   "metadata": {},
   "source": [
    "# Geometric anomaly detection in word embeddings"
   ]
  },
  {
   "cell_type": "code",
   "execution_count": null,
   "id": "future-purple",
   "metadata": {},
   "outputs": [],
   "source": [
    "gad_result = compute_gad(\n",
    "    data_points=cyclo_octane_data.copy(order='C'),\n",
    "    manifold_dimension=2,\n",
    "    annulus_inner_radius=0.25,\n",
    "    annulus_outer_radius=0.4,\n",
    "    use_knn_annulus=False,\n",
    "    knn_annulus_inner=100,\n",
    "    knn_annulus_outer=200,\n",
    "    data_points_pairwise_distances=cyclo_octane_data_dists,\n",
    "    progressbar_enabled=True,\n",
    "    n_jobs=-1,\n",
    ")"
   ]
  },
  {
   "cell_type": "code",
   "execution_count": null,
   "id": "executed-exchange",
   "metadata": {},
   "outputs": [],
   "source": [
    "# Dimensionality reduction\n",
    "embedders=[\n",
    "    (\"PCA\", PCA(\n",
    "        n_components=3,\n",
    "        random_state=rng_seed,\n",
    "    )),\n",
    "    (\"UMAP\", UMAP(\n",
    "        n_components=3,\n",
    "        random_state=rng_seed\n",
    "    )),\n",
    "    (\"Isomap\", Isomap(\n",
    "        n_components=3,\n",
    "        n_neighbors=5,\n",
    "        n_jobs=-1\n",
    "    ))\n",
    "]\n",
    "embedding_result = {}\n",
    "for embedder_key, embedder in tqdm(embedders):\n",
    "    embedding_result[embedder_key] = embedder.fit_transform(cyclo_octane_data)"
   ]
  },
  {
   "cell_type": "code",
   "execution_count": null,
   "id": "lovely-thursday",
   "metadata": {},
   "outputs": [],
   "source": [
    "# Create vector with point colors\n",
    "point_colors = np.empty(len(cyclo_octane_data), dtype=object)\n",
    "for i in range(len(cyclo_octane_data)):\n",
    "    for key in gad_result.keys():\n",
    "        if i in gad_result[key]:\n",
    "            point_colors[i] = key"
   ]
  },
  {
   "cell_type": "code",
   "execution_count": null,
   "id": "entertaining-commission",
   "metadata": {},
   "outputs": [],
   "source": [
    "# Visualize with 3D UMAP/PCA embedding\n",
    "for embedding_key in embedding_result.keys():\n",
    "    fig = px.scatter_3d(\n",
    "        title=embedding_key,\n",
    "        labels={\n",
    "            \"x\": \"PC1\" if embedding_key == \"PCA\" else f\"{embedding_key}1\",\n",
    "            \"y\": \"PC2\" if embedding_key == \"PCA\" else f\"{embedding_key}2\",\n",
    "            \"z\": \"PC3\" if embedding_key == \"PCA\" else f\"{embedding_key}3\",\n",
    "        },\n",
    "        x=embedding_result[embedding_key][:, 0],\n",
    "        y=embedding_result[embedding_key][:, 1],\n",
    "        z=embedding_result[embedding_key][:, 2],\n",
    "        color=point_colors,\n",
    "        opacity=0.25\n",
    "    )\n",
    "    fig.show()"
   ]
  },
  {
   "cell_type": "markdown",
   "id": "obvious-oasis",
   "metadata": {},
   "source": [
    "## Plot with TPS_50 scores"
   ]
  },
  {
   "cell_type": "code",
   "execution_count": null,
   "id": "simple-international",
   "metadata": {},
   "outputs": [],
   "source": [
    "# Visualize with 3D UMAP/PCA embedding\n",
    "for embedding_key in embedding_result.keys():\n",
    "    fig = go.Figure(\n",
    "        layout={\n",
    "            \"title\": embedding_key,\n",
    "            \"scene\": go.layout.Scene(\n",
    "                xaxis={\n",
    "                    \"title\": \"PC1\" if embedding_key == \"PCA\" else f\"{embedding_key}1\",\n",
    "                },\n",
    "                yaxis={\n",
    "                    \"title\": \"PC2\" if embedding_key == \"PCA\" else f\"{embedding_key}2\",\n",
    "                },\n",
    "                zaxis={\n",
    "                    \"title\": \"PC3\" if embedding_key == \"PCA\" else f\"{embedding_key}3\",\n",
    "                }\n",
    "            ),\n",
    "        }\n",
    "    )\n",
    "    for gad_category, gad_indices in gad_result.items():\n",
    "        fig.add_trace(go.Scatter3d(\n",
    "            x=embedding_result[embedding_key][gad_indices][:, 0],\n",
    "            y=embedding_result[embedding_key][gad_indices][:, 1],\n",
    "            z=embedding_result[embedding_key][gad_indices][:, 2],\n",
    "            mode=\"markers\",\n",
    "            marker=dict(color=cyclo_octane_tps_scores[gad_indices]),\n",
    "            hovertext=cyclo_octane_tps_scores[gad_indices],\n",
    "            hoverinfo=\"x+y+z+text\",\n",
    "            opacity=1,\n",
    "            name=gad_category,\n",
    "            marker_colorscale=colors.sequential.Viridis\n",
    "        ))\n",
    "    fig.show()"
   ]
  },
  {
   "cell_type": "code",
   "execution_count": null,
   "id": "announced-trade",
   "metadata": {},
   "outputs": [],
   "source": []
  }
 ],
 "metadata": {
  "kernelspec": {
   "display_name": "Python 3",
   "language": "python",
   "name": "python3"
  },
  "language_info": {
   "codemirror_mode": {
    "name": "ipython",
    "version": 3
   },
   "file_extension": ".py",
   "mimetype": "text/x-python",
   "name": "python",
   "nbconvert_exporter": "python",
   "pygments_lexer": "ipython3",
   "version": "3.6.9"
  }
 },
 "nbformat": 4,
 "nbformat_minor": 5
}
