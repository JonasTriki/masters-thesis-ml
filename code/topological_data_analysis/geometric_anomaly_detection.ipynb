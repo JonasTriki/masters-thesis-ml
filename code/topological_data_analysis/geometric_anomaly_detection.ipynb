{
 "cells": [
  {
   "cell_type": "code",
   "execution_count": null,
   "id": "interesting-aside",
   "metadata": {},
   "outputs": [],
   "source": [
    "# Imports\n",
    "from os import makedirs\n",
    "from os.path import join\n",
    "import joblib\n",
    "import numpy as np\n",
    "rng_seed = 399\n",
    "np.random.seed(rng_seed)\n",
    "from scipy.stats import pearsonr\n",
    "from matplotlib import pyplot as plt\n",
    "import seaborn as sns\n",
    "sns.set_theme()\n",
    "from tqdm.auto import tqdm\n",
    "import pandas as pd\n",
    "import gudhi as gd\n",
    "from gudhi.wasserstein import wasserstein_distance\n",
    "\n",
    "from umap import UMAP\n",
    "from sklearn.decomposition import PCA\n",
    "from nltk.corpus import wordnet as wn\n",
    "import annoy\n",
    "from sklearn.metrics.pairwise import euclidean_distances\n",
    "\n",
    "import plotly.offline as pyo\n",
    "pyo.init_notebook_mode()\n",
    "import plotly.express as px\n",
    "\n",
    "# Directory constants\n",
    "topological_data_analysis_data_dir = \"data\"\n",
    "root_code_dir = \"..\"\n",
    "output_dir = join(root_code_dir, \"output\")\n",
    "word2vec_training_dir = join(output_dir, \"word2vec_training\")\n",
    "word2vec_ann_indices_dir = join(output_dir, \"word2vec_ann_indices\")\n",
    "word2vec_cluster_analysis_dir = join(output_dir, \"word2vec_cluster_analysis\")\n",
    "analysis_of_embeddings_dir = join(root_code_dir, \"analysis_of_embeddings\")\n",
    "\n",
    "# Extend sys path for importing custom Python files\n",
    "import sys\n",
    "sys.path.extend([root_code_dir, analysis_of_embeddings_dir])\n",
    "\n",
    "from utils import get_model_checkpoint_filepaths, pairwise_cosine_distances, words_to_vectors\n",
    "from word_embeddings.word2vec import load_model_training_output\n",
    "from vis_utils import plot_word_vectors\n",
    "from topological_data_analysis.geometric_anomaly_detection import (\n",
    "    GeometricAnomalyDetection, grid_search_prepare_word_ints_within_radii\n",
    ")\n",
    "from analysis_utils import transform_word_embeddings"
   ]
  },
  {
   "cell_type": "markdown",
   "id": "reverse-mississippi",
   "metadata": {},
   "source": [
    "# Prepare data"
   ]
  },
  {
   "cell_type": "code",
   "execution_count": null,
   "id": "sensitive-spice",
   "metadata": {},
   "outputs": [],
   "source": [
    "# Load output from training word2vec\n",
    "w2v_training_output = load_model_training_output(\n",
    "    model_training_output_dir=join(word2vec_training_dir, \"word2vec_enwiki_sept_2020_word2phrase\"),\n",
    "    model_name=\"word2vec\",\n",
    "    dataset_name=\"enwiki\",\n",
    ")\n",
    "last_embedding_weights = w2v_training_output[\"last_embedding_weights\"]\n",
    "words = w2v_training_output[\"words\"]\n",
    "word_to_int = w2v_training_output[\"word_to_int\"]\n",
    "word_counts = w2v_training_output[\"word_counts\"]"
   ]
  },
  {
   "cell_type": "code",
   "execution_count": null,
   "id": "exceptional-survival",
   "metadata": {},
   "outputs": [],
   "source": [
    "# Normalize word embeddings\n",
    "last_embedding_weights_normalized = last_embedding_weights / np.linalg.norm(last_embedding_weights, axis=1).reshape(-1, 1)"
   ]
  },
  {
   "cell_type": "markdown",
   "id": "sapphire-metabolism",
   "metadata": {},
   "source": [
    "# Geometric anomaly detection in word embeddings"
   ]
  },
  {
   "cell_type": "markdown",
   "id": "cosmetic-reviewer",
   "metadata": {},
   "source": [
    "## Grid search to find best set of inner/outer annulus radii"
   ]
  },
  {
   "cell_type": "code",
   "execution_count": null,
   "id": "original-bunch",
   "metadata": {},
   "outputs": [],
   "source": [
    "# Constants\n",
    "vocab_size = 10000\n",
    "vocabulary_word_ints = np.arange(vocab_size)\n",
    "grid_search_manifold_dimension = 2\n",
    "num_radii_per_parameter = 20"
   ]
  },
  {
   "cell_type": "code",
   "execution_count": null,
   "id": "joined-cleaner",
   "metadata": {},
   "outputs": [],
   "source": [
    "# Compute pairwise distances for grid search using specified vocab size\n",
    "word_embeddings_pairwise_dists_grid_search = euclidean_distances(\n",
    "    last_embedding_weights_normalized[vocabulary_word_ints]\n",
    ")"
   ]
  },
  {
   "cell_type": "code",
   "execution_count": null,
   "id": "fiscal-broadcast",
   "metadata": {},
   "outputs": [],
   "source": [
    "# Precompute word ints within each radii\n",
    "word_ints_within_radii, radii_space = grid_search_prepare_word_ints_within_radii(\n",
    "    word_ints=vocabulary_word_ints,\n",
    "    num_radii_per_parameter=num_radii_per_parameter,\n",
    "    word_vector_distance=lambda i, j: word_embeddings_pairwise_dists_grid_search[i, j],\n",
    "    word_embeddings_pairwise_dists=word_embeddings_pairwise_dists_grid_search,\n",
    ")"
   ]
  },
  {
   "cell_type": "code",
   "execution_count": null,
   "id": "amended-creek",
   "metadata": {},
   "outputs": [],
   "source": [
    "# Initialize GAD instance\n",
    "gad_instance = GeometricAnomalyDetection(word_embeddings=last_embedding_weights_normalized)"
   ]
  },
  {
   "cell_type": "code",
   "execution_count": null,
   "id": "moving-afghanistan",
   "metadata": {
    "scrolled": false
   },
   "outputs": [],
   "source": [
    "# Do grid search\n",
    "best_gad_result_idx, gad_results, P_man_counts = gad_instance.grid_search_radii(\n",
    "    word_ints=np.arange(vocab_size),\n",
    "    manifold_dimension=grid_search_manifold_dimension,\n",
    "    num_radii_per_parameter=num_radii_per_parameter,\n",
    "    outer_inner_radii_max_diff=0.25,\n",
    "    word_ints_within_radii=word_ints_within_radii,\n",
    "    radii_space=radii_space,\n",
    "    word_embeddings_pairwise_dists=word_embeddings_pairwise_dists_grid_search,\n",
    ")"
   ]
  },
  {
   "cell_type": "code",
   "execution_count": null,
   "id": "finite-sister",
   "metadata": {},
   "outputs": [],
   "source": [
    "# Find best GAD result\n",
    "best_gad_result = gad_results[best_gad_result_idx]"
   ]
  },
  {
   "cell_type": "markdown",
   "id": "fatty-excerpt",
   "metadata": {},
   "source": [
    "## Visualize best result"
   ]
  },
  {
   "cell_type": "code",
   "execution_count": null,
   "id": "lovely-thursday",
   "metadata": {},
   "outputs": [],
   "source": [
    "# Create vector with word colors\n",
    "word_colors = np.empty(vocab_size, dtype=object)\n",
    "for i in vocabulary_word_ints:\n",
    "    for key in best_gad_result.keys():\n",
    "        if i in best_gad_result[key]:\n",
    "            word_colors[i] = key"
   ]
  },
  {
   "cell_type": "code",
   "execution_count": null,
   "id": "friendly-wildlife",
   "metadata": {},
   "outputs": [],
   "source": [
    "# Dimensionality reduction\n",
    "transformed_word_embeddings = transform_word_embeddings(\n",
    "    embedders=[\n",
    "        (\"PCA\", PCA(\n",
    "            n_components=2,\n",
    "            random_state=rng_seed,\n",
    "        )),\n",
    "        (\"UMAP\", UMAP(\n",
    "            n_components=2,\n",
    "            metric=\"euclidean\",\n",
    "            random_state=rng_seed\n",
    "        )),\n",
    "        \n",
    "    ],\n",
    "    word_embeddings=last_embedding_weights_normalized,\n",
    "    words_vocabulary=vocabulary_word_ints,\n",
    "    word_to_int=word_to_int,\n",
    ")"
   ]
  },
  {
   "cell_type": "code",
   "execution_count": null,
   "id": "demonstrated-remove",
   "metadata": {},
   "outputs": [],
   "source": [
    "# Visualize with 2D UMAP/PCA embedding\n",
    "for embedding_key in transformed_word_embeddings.keys():\n",
    "    fig = px.scatter(\n",
    "        title=embedding_key,\n",
    "        labels={\n",
    "            \"x\": \"PC1\" if embedding_key == \"PCA\" else f\"{embedding_key}1\",\n",
    "            \"y\": \"PC2\" if embedding_key == \"PCA\" else f\"{embedding_key}2\",\n",
    "        },\n",
    "        x=transformed_word_embeddings[embedding_key][:, 0],\n",
    "        y=transformed_word_embeddings[embedding_key][:, 1],\n",
    "        color=word_colors,\n",
    "        hover_data={\"word\": words[vocabulary_word_ints]},\n",
    "    )\n",
    "    fig.show()"
   ]
  }
 ],
 "metadata": {
  "kernelspec": {
   "display_name": "Python 3",
   "language": "python",
   "name": "python3"
  },
  "language_info": {
   "codemirror_mode": {
    "name": "ipython",
    "version": 3
   },
   "file_extension": ".py",
   "mimetype": "text/x-python",
   "name": "python",
   "nbconvert_exporter": "python",
   "pygments_lexer": "ipython3",
   "version": "3.6.9"
  }
 },
 "nbformat": 4,
 "nbformat_minor": 5
}
