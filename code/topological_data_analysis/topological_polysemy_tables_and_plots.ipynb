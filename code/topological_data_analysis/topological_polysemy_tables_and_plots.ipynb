{
 "cells": [
  {
   "cell_type": "code",
   "execution_count": 1,
   "metadata": {},
   "outputs": [
    {
     "data": {
      "application/javascript": [
       "\n",
       "            setTimeout(function() {\n",
       "                var nbb_cell_id = 1;\n",
       "                var nbb_unformatted_code = \"%load_ext nb_black\";\n",
       "                var nbb_formatted_code = \"%load_ext nb_black\";\n",
       "                var nbb_cells = Jupyter.notebook.get_cells();\n",
       "                for (var i = 0; i < nbb_cells.length; ++i) {\n",
       "                    if (nbb_cells[i].input_prompt_number == nbb_cell_id) {\n",
       "                        if (nbb_cells[i].get_text() == nbb_unformatted_code) {\n",
       "                             nbb_cells[i].set_text(nbb_formatted_code);\n",
       "                        }\n",
       "                        break;\n",
       "                    }\n",
       "                }\n",
       "            }, 500);\n",
       "            "
      ],
      "text/plain": [
       "<IPython.core.display.Javascript object>"
      ]
     },
     "metadata": {},
     "output_type": "display_data"
    }
   ],
   "source": [
    "%load_ext nb_black"
   ]
  },
  {
   "cell_type": "code",
   "execution_count": 60,
   "metadata": {},
   "outputs": [
    {
     "name": "stdout",
     "output_type": "stream",
     "text": [
      "Plots configured for thesis!\n"
     ]
    },
    {
     "data": {
      "application/javascript": [
       "\n",
       "            setTimeout(function() {\n",
       "                var nbb_cell_id = 60;\n",
       "                var nbb_unformatted_code = \"# Imports\\nfrom os import makedirs\\nfrom os import listdir\\nfrom os.path import join\\nimport pandas as pd\\nimport numpy as np\\nimport joblib\\nfrom nltk.corpus import wordnet as wn\\nfrom scipy.stats import pearsonr\\nfrom tqdm.auto import tqdm\\nfrom IPython.display import display, HTML\\nfrom matplotlib import pyplot as plt\\n\\nrng_seed = 399\\nnp.random.seed(rng_seed)\\n\\n# Directory constants\\ntopological_data_analysis_data_dir = \\\"data\\\"\\nroot_code_dir = \\\"..\\\"\\noutput_dir = join(root_code_dir, \\\"output\\\")\\nword2vec_training_dir = join(output_dir, \\\"word2vec_training\\\")\\ntopological_polysemy_experimentation_dir = join(\\n    output_dir, \\\"topological_polysemy_experimentation\\\"\\n)\\nword_embeddings_data_dir = join(root_code_dir, \\\"word_embeddings\\\", \\\"data\\\")\\noutput_plots_dir = join(\\\"output_plots\\\")\\nmakedirs(output_plots_dir, exist_ok=True)\\n\\n# Extend sys path for importing custom Python files\\nimport sys\\n\\nsys.path.append(root_code_dir)\\n\\nfrom word_embeddings.word2vec import load_model_training_output\\nfrom vis_utils import configure_plotting_for_thesis\\n\\nconfigure_plotting_for_thesis()\";\n",
       "                var nbb_formatted_code = \"# Imports\\nfrom os import makedirs\\nfrom os import listdir\\nfrom os.path import join\\nimport pandas as pd\\nimport numpy as np\\nimport joblib\\nfrom nltk.corpus import wordnet as wn\\nfrom scipy.stats import pearsonr\\nfrom tqdm.auto import tqdm\\nfrom IPython.display import display, HTML\\nfrom matplotlib import pyplot as plt\\n\\nrng_seed = 399\\nnp.random.seed(rng_seed)\\n\\n# Directory constants\\ntopological_data_analysis_data_dir = \\\"data\\\"\\nroot_code_dir = \\\"..\\\"\\noutput_dir = join(root_code_dir, \\\"output\\\")\\nword2vec_training_dir = join(output_dir, \\\"word2vec_training\\\")\\ntopological_polysemy_experimentation_dir = join(\\n    output_dir, \\\"topological_polysemy_experimentation\\\"\\n)\\nword_embeddings_data_dir = join(root_code_dir, \\\"word_embeddings\\\", \\\"data\\\")\\noutput_plots_dir = join(\\\"output_plots\\\")\\nmakedirs(output_plots_dir, exist_ok=True)\\n\\n# Extend sys path for importing custom Python files\\nimport sys\\n\\nsys.path.append(root_code_dir)\\n\\nfrom word_embeddings.word2vec import load_model_training_output\\nfrom vis_utils import configure_plotting_for_thesis\\n\\nconfigure_plotting_for_thesis()\";\n",
       "                var nbb_cells = Jupyter.notebook.get_cells();\n",
       "                for (var i = 0; i < nbb_cells.length; ++i) {\n",
       "                    if (nbb_cells[i].input_prompt_number == nbb_cell_id) {\n",
       "                        if (nbb_cells[i].get_text() == nbb_unformatted_code) {\n",
       "                             nbb_cells[i].set_text(nbb_formatted_code);\n",
       "                        }\n",
       "                        break;\n",
       "                    }\n",
       "                }\n",
       "            }, 500);\n",
       "            "
      ],
      "text/plain": [
       "<IPython.core.display.Javascript object>"
      ]
     },
     "metadata": {},
     "output_type": "display_data"
    }
   ],
   "source": [
    "# Imports\n",
    "from os import makedirs\n",
    "from os import listdir\n",
    "from os.path import join\n",
    "import pandas as pd\n",
    "import numpy as np\n",
    "import joblib\n",
    "from nltk.corpus import wordnet as wn\n",
    "from scipy.stats import pearsonr\n",
    "from tqdm.auto import tqdm\n",
    "from IPython.display import display, HTML\n",
    "from matplotlib import pyplot as plt\n",
    "\n",
    "rng_seed = 399\n",
    "np.random.seed(rng_seed)\n",
    "\n",
    "# Directory constants\n",
    "topological_data_analysis_data_dir = \"data\"\n",
    "root_code_dir = \"..\"\n",
    "output_dir = join(root_code_dir, \"output\")\n",
    "word2vec_training_dir = join(output_dir, \"word2vec_training\")\n",
    "topological_polysemy_experimentation_dir = join(\n",
    "    output_dir, \"topological_polysemy_experimentation\"\n",
    ")\n",
    "word_embeddings_data_dir = join(root_code_dir, \"word_embeddings\", \"data\")\n",
    "output_plots_dir = join(\"output_plots\")\n",
    "makedirs(output_plots_dir, exist_ok=True)\n",
    "\n",
    "# Extend sys path for importing custom Python files\n",
    "import sys\n",
    "\n",
    "sys.path.append(root_code_dir)\n",
    "\n",
    "from word_embeddings.word2vec import load_model_training_output\n",
    "from vis_utils import configure_plotting_for_thesis\n",
    "\n",
    "configure_plotting_for_thesis()"
   ]
  },
  {
   "cell_type": "markdown",
   "metadata": {},
   "source": [
    "## Set up data and constants"
   ]
  },
  {
   "cell_type": "code",
   "execution_count": 3,
   "metadata": {},
   "outputs": [
    {
     "data": {
      "application/javascript": [
       "\n",
       "            setTimeout(function() {\n",
       "                var nbb_cell_id = 3;\n",
       "                var nbb_unformatted_code = \"# Load SemEval data\\nsemeval_2010_14_word_senses = joblib.load(\\n    join(topological_data_analysis_data_dir, \\\"semeval_2010_14_word_senses.joblib\\\")\\n)\\nsemeval_target_words = np.array(list(semeval_2010_14_word_senses[\\\"all\\\"].keys()))\\nsemeval_gs_clusters = np.array(list(semeval_2010_14_word_senses[\\\"all\\\"].values()))\";\n",
       "                var nbb_formatted_code = \"# Load SemEval data\\nsemeval_2010_14_word_senses = joblib.load(\\n    join(topological_data_analysis_data_dir, \\\"semeval_2010_14_word_senses.joblib\\\")\\n)\\nsemeval_target_words = np.array(list(semeval_2010_14_word_senses[\\\"all\\\"].keys()))\\nsemeval_gs_clusters = np.array(list(semeval_2010_14_word_senses[\\\"all\\\"].values()))\";\n",
       "                var nbb_cells = Jupyter.notebook.get_cells();\n",
       "                for (var i = 0; i < nbb_cells.length; ++i) {\n",
       "                    if (nbb_cells[i].input_prompt_number == nbb_cell_id) {\n",
       "                        if (nbb_cells[i].get_text() == nbb_unformatted_code) {\n",
       "                             nbb_cells[i].set_text(nbb_formatted_code);\n",
       "                        }\n",
       "                        break;\n",
       "                    }\n",
       "                }\n",
       "            }, 500);\n",
       "            "
      ],
      "text/plain": [
       "<IPython.core.display.Javascript object>"
      ]
     },
     "metadata": {},
     "output_type": "display_data"
    }
   ],
   "source": [
    "# Load SemEval data\n",
    "semeval_2010_14_word_senses = joblib.load(\n",
    "    join(topological_data_analysis_data_dir, \"semeval_2010_14_word_senses.joblib\")\n",
    ")\n",
    "semeval_target_words = np.array(list(semeval_2010_14_word_senses[\"all\"].keys()))\n",
    "semeval_gs_clusters = np.array(list(semeval_2010_14_word_senses[\"all\"].values()))"
   ]
  },
  {
   "cell_type": "code",
   "execution_count": 4,
   "metadata": {},
   "outputs": [
    {
     "data": {
      "application/javascript": [
       "\n",
       "            setTimeout(function() {\n",
       "                var nbb_cell_id = 4;\n",
       "                var nbb_unformatted_code = \"# Constants\\nshould_prepare_tps_experiment_values = False\\ntps_neighbourhood_sizes = [10, 40, 50, 60, 100]\\ntps_word_embeddings_names = [\\n    \\\"enwiki\\\",\\n    \\\"semeval_2010_task_14\\\",\\n    \\\"fasttext_cc_300d\\\",\\n    \\\"glove_cc_840b_300d\\\",\\n    \\\"google_news_3m\\\",\\n]\\ntps_word_embeddings_model_names = [\\n    \\\"enwiki\\\",\\n    \\\"semeval_2010_task_14\\\",\\n    \\\"cc.en.300.vec\\\",\\n    \\\"glove.840B.300d\\\",\\n    \\\"GoogleNews-vectors-negative300\\\",\\n]\\ntps_word_embeddings_is_external = [False, False, True, True, True]\\ntps_word_embeddings_paths = [\\n    join(word2vec_training_dir, \\\"word2vec_enwiki_jan_2021_word2phrase\\\"),\\n    join(word2vec_training_dir, \\\"word2vec_semeval_2010_task_14\\\"),\\n    join(word_embeddings_data_dir, \\\"fastText\\\"),\\n    join(word_embeddings_data_dir, \\\"GloVe\\\"),\\n    join(word_embeddings_data_dir, \\\"GoogleNews\\\"),\\n]\\ntps_vs_gs_key = \\\"TPS_n vs. GS\\\"\\ntps_vs_synsets_key = \\\"TPS_n vs. synsets\\\"\\ntps_vs_frequency_key = \\\"TPS_n vs. frequency\\\"\\nnum_top_k_words_frequencies = 10000\";\n",
       "                var nbb_formatted_code = \"# Constants\\nshould_prepare_tps_experiment_values = False\\ntps_neighbourhood_sizes = [10, 40, 50, 60, 100]\\ntps_word_embeddings_names = [\\n    \\\"enwiki\\\",\\n    \\\"semeval_2010_task_14\\\",\\n    \\\"fasttext_cc_300d\\\",\\n    \\\"glove_cc_840b_300d\\\",\\n    \\\"google_news_3m\\\",\\n]\\ntps_word_embeddings_model_names = [\\n    \\\"enwiki\\\",\\n    \\\"semeval_2010_task_14\\\",\\n    \\\"cc.en.300.vec\\\",\\n    \\\"glove.840B.300d\\\",\\n    \\\"GoogleNews-vectors-negative300\\\",\\n]\\ntps_word_embeddings_is_external = [False, False, True, True, True]\\ntps_word_embeddings_paths = [\\n    join(word2vec_training_dir, \\\"word2vec_enwiki_jan_2021_word2phrase\\\"),\\n    join(word2vec_training_dir, \\\"word2vec_semeval_2010_task_14\\\"),\\n    join(word_embeddings_data_dir, \\\"fastText\\\"),\\n    join(word_embeddings_data_dir, \\\"GloVe\\\"),\\n    join(word_embeddings_data_dir, \\\"GoogleNews\\\"),\\n]\\ntps_vs_gs_key = \\\"TPS_n vs. GS\\\"\\ntps_vs_synsets_key = \\\"TPS_n vs. synsets\\\"\\ntps_vs_frequency_key = \\\"TPS_n vs. frequency\\\"\\nnum_top_k_words_frequencies = 10000\";\n",
       "                var nbb_cells = Jupyter.notebook.get_cells();\n",
       "                for (var i = 0; i < nbb_cells.length; ++i) {\n",
       "                    if (nbb_cells[i].input_prompt_number == nbb_cell_id) {\n",
       "                        if (nbb_cells[i].get_text() == nbb_unformatted_code) {\n",
       "                             nbb_cells[i].set_text(nbb_formatted_code);\n",
       "                        }\n",
       "                        break;\n",
       "                    }\n",
       "                }\n",
       "            }, 500);\n",
       "            "
      ],
      "text/plain": [
       "<IPython.core.display.Javascript object>"
      ]
     },
     "metadata": {},
     "output_type": "display_data"
    }
   ],
   "source": [
    "# Constants\n",
    "should_prepare_tps_experiment_values = False\n",
    "tps_neighbourhood_sizes = [10, 40, 50, 60, 100]\n",
    "tps_word_embeddings_names = [\n",
    "    \"enwiki\",\n",
    "    \"semeval_2010_task_14\",\n",
    "    \"fasttext_cc_300d\",\n",
    "    \"glove_cc_840b_300d\",\n",
    "    \"google_news_3m\",\n",
    "]\n",
    "tps_word_embeddings_model_names = [\n",
    "    \"enwiki\",\n",
    "    \"semeval_2010_task_14\",\n",
    "    \"cc.en.300.vec\",\n",
    "    \"glove.840B.300d\",\n",
    "    \"GoogleNews-vectors-negative300\",\n",
    "]\n",
    "tps_word_embeddings_is_external = [False, False, True, True, True]\n",
    "tps_word_embeddings_paths = [\n",
    "    join(word2vec_training_dir, \"word2vec_enwiki_jan_2021_word2phrase\"),\n",
    "    join(word2vec_training_dir, \"word2vec_semeval_2010_task_14\"),\n",
    "    join(word_embeddings_data_dir, \"fastText\"),\n",
    "    join(word_embeddings_data_dir, \"GloVe\"),\n",
    "    join(word_embeddings_data_dir, \"GoogleNews\"),\n",
    "]\n",
    "tps_vs_gs_key = \"TPS_n vs. GS\"\n",
    "tps_vs_synsets_key = \"TPS_n vs. synsets\"\n",
    "tps_vs_frequency_key = \"TPS_n vs. frequency\"\n",
    "num_top_k_words_frequencies = 10000"
   ]
  },
  {
   "cell_type": "markdown",
   "metadata": {},
   "source": [
    "## Prepare TPS experiment table values"
   ]
  },
  {
   "cell_type": "code",
   "execution_count": 5,
   "metadata": {},
   "outputs": [
    {
     "data": {
      "application/javascript": [
       "\n",
       "            setTimeout(function() {\n",
       "                var nbb_cell_id = 5;\n",
       "                var nbb_unformatted_code = \"tps_experiment_table_dicts = []\\ntps_experiment_table_col_sizes_dicts = []\\ntps_experiment_table_values = []\\nif should_prepare_tps_experiment_values:\\n    for (\\n        word_embeddings_name,\\n        word_embeddings_model_name,\\n        word_embeddings_path,\\n        word_embeddings_is_external,\\n    ) in zip(\\n        tps_word_embeddings_names,\\n        tps_word_embeddings_model_names,\\n        tps_word_embeddings_paths,\\n        tps_word_embeddings_is_external,\\n    ):\\n        # Load data\\n        if word_embeddings_is_external:\\n            print(f\\\"Loading {word_embeddings_name} word embeddings words...\\\")\\n            model_words_filepath = join(\\n                word_embeddings_path, f\\\"{word_embeddings_model_name}_words.txt\\\"\\n            )\\n            with open(model_words_filepath, \\\"r\\\") as words_file:\\n                model_words = np.array(words_file.read().split(\\\"\\\\n\\\"))\\n            word_to_int = {word: i for i, word in enumerate(model_words)}\\n        else:\\n            print(f\\\"Loading {word_embeddings_name} word embeddings...\\\")\\n            w2v_training_output = load_model_training_output(\\n                model_training_output_dir=word_embeddings_path,\\n                model_name=\\\"word2vec\\\",\\n                dataset_name=word_embeddings_model_name,\\n            )\\n            model_words = w2v_training_output[\\\"words\\\"]\\n            word_to_int = w2v_training_output[\\\"word_to_int\\\"]\\n            word_counts = w2v_training_output[\\\"word_counts\\\"]\\n            print(\\\"Done!\\\")\\n        col_sizes_result_dict = {}\\n        values_dict = {}\\n\\n        # Filter SemEval words in vocabulary\\n        semeval_target_words_in_vocab_filter = [\\n            i for i, word in enumerate(semeval_target_words) if word in word_to_int\\n        ]\\n        semeval_gs_clusters_in_vocab = semeval_gs_clusters[\\n            semeval_target_words_in_vocab_filter\\n        ]\\n        col_sizes_result_dict[tps_vs_gs_key] = len(semeval_gs_clusters_in_vocab)\\n\\n        # Find words in vocabulary that have synsets in Wordnet\\n        wordnet_synsets_words_in_vocab_meanings = []\\n        print(\\\"Find words in vocabulary that have synsets in Wordnet...\\\")\\n        for word in tqdm(model_words):\\n            num_synsets_word = len(wn.synsets(word))\\n            if num_synsets_word > 0:\\n                wordnet_synsets_words_in_vocab_meanings.append(num_synsets_word)\\n        col_sizes_result_dict[tps_vs_synsets_key] = len(\\n            wordnet_synsets_words_in_vocab_meanings\\n        )\\n\\n        # Set values dict\\n        values_dict = {\\n            \\\"semeval\\\": semeval_gs_clusters_in_vocab,\\n            \\\"synsets\\\": wordnet_synsets_words_in_vocab_meanings,\\n        }\\n        if not word_embeddings_is_external:\\n            values_dict[\\\"frequencies\\\"] = word_counts[:num_top_k_words_frequencies]\\n\\n        result_dict: dict = {\\n            \\\"n\\\": tps_neighbourhood_sizes,\\n            tps_vs_gs_key: [],\\n            tps_vs_synsets_key: [],\\n        }\\n        if not word_embeddings_is_external:\\n            result_dict[tps_vs_frequency_key] = []\\n\\n        # Fill in dictionary\\n        for n_size in tps_neighbourhood_sizes:\\n\\n            # TPS_n score vs. GS\\n            tps_scores_semeval = np.load(\\n                join(\\n                    topological_polysemy_experimentation_dir,\\n                    word_embeddings_name,\\n                    f\\\"tps_{n_size}_vs_gs.npy\\\",\\n                )\\n            )\\n            values_dict[f\\\"tps_{n_size}_vs_gs\\\"] = tps_scores_semeval\\n            tps_score_vs_gs_correlation, _ = pearsonr(\\n                x=tps_scores_semeval, y=semeval_gs_clusters_in_vocab\\n            )\\n            result_dict[tps_vs_gs_key].append(tps_score_vs_gs_correlation)\\n\\n            # TPS_n score vs. Synsets\\n            tps_scores_wordnet_synsets = np.load(\\n                join(\\n                    topological_polysemy_experimentation_dir,\\n                    word_embeddings_name,\\n                    f\\\"tps_{n_size}_vs_synsets.npy\\\",\\n                )\\n            )\\n            values_dict[f\\\"tps_{n_size}_vs_synsets\\\"] = tps_scores_wordnet_synsets\\n            tps_score_vs_wordnet_synsets_correlation, _ = pearsonr(\\n                x=tps_scores_wordnet_synsets, y=wordnet_synsets_words_in_vocab_meanings\\n            )\\n            result_dict[tps_vs_synsets_key].append(\\n                tps_score_vs_wordnet_synsets_correlation\\n            )\\n\\n            # TPS_n score vs. frequency\\n            if not word_embeddings_is_external:\\n                tps_score_word_frequencies = np.load(\\n                    join(\\n                        topological_polysemy_experimentation_dir,\\n                        word_embeddings_name,\\n                        f\\\"tps_{n_size}_vs_frequency.npy\\\",\\n                    )\\n                )\\n                values_dict[f\\\"tps_{n_size}_vs_frequency\\\"] = tps_score_word_frequencies\\n                tps_score_vs_word_frequency_correlation, _ = pearsonr(\\n                    x=tps_score_word_frequencies,\\n                    y=word_counts[:num_top_k_words_frequencies],\\n                )\\n                result_dict[tps_vs_frequency_key].append(\\n                    tps_score_vs_word_frequency_correlation\\n                )\\n                col_sizes_result_dict[tps_vs_frequency_key] = len(\\n                    tps_score_word_frequencies\\n                )\\n        tps_experiment_table_dicts.append(result_dict)\\n        tps_experiment_table_col_sizes_dicts.append(col_sizes_result_dict)\\n        tps_experiment_table_values.append(values_dict)\\n\\n        # Free resources\\n        del wordnet_synsets_words_in_vocab_meanings\\n        if word_embeddings_is_external:\\n            del model_words\\n            del word_to_int\\n        else:\\n            del w2v_training_output\\n            del model_words\\n            del word_to_int\\n            del word_counts\\n\\n    # Cache result\\n    joblib.dump(\\n        tps_experiment_table_dicts,\\n        join(topological_data_analysis_data_dir, \\\"tps_experiment_table_dicts.joblib\\\"),\\n        protocol=4,\\n    )\\n    joblib.dump(\\n        tps_experiment_table_col_sizes_dicts,\\n        join(\\n            topological_data_analysis_data_dir,\\n            \\\"tps_experiment_table_col_sizes_dicts.joblib\\\",\\n        ),\\n        protocol=4,\\n    )\\n    joblib.dump(\\n        tps_experiment_table_values,\\n        join(topological_data_analysis_data_dir, \\\"tps_experiment_table_values.joblib\\\"),\\n        protocol=4,\\n    )\\nelse:\\n\\n    # Load cached result\\n    tps_experiment_table_dicts = joblib.load(\\n        join(topological_data_analysis_data_dir, \\\"tps_experiment_table_dicts.joblib\\\")\\n    )\\n    tps_experiment_table_col_sizes_dicts = joblib.load(\\n        join(\\n            topological_data_analysis_data_dir,\\n            \\\"tps_experiment_table_col_sizes_dicts.joblib\\\",\\n        )\\n    )\\n    tps_experiment_table_values = joblib.load(\\n        join(topological_data_analysis_data_dir, \\\"tps_experiment_table_values.joblib\\\")\\n    )\";\n",
       "                var nbb_formatted_code = \"tps_experiment_table_dicts = []\\ntps_experiment_table_col_sizes_dicts = []\\ntps_experiment_table_values = []\\nif should_prepare_tps_experiment_values:\\n    for (\\n        word_embeddings_name,\\n        word_embeddings_model_name,\\n        word_embeddings_path,\\n        word_embeddings_is_external,\\n    ) in zip(\\n        tps_word_embeddings_names,\\n        tps_word_embeddings_model_names,\\n        tps_word_embeddings_paths,\\n        tps_word_embeddings_is_external,\\n    ):\\n        # Load data\\n        if word_embeddings_is_external:\\n            print(f\\\"Loading {word_embeddings_name} word embeddings words...\\\")\\n            model_words_filepath = join(\\n                word_embeddings_path, f\\\"{word_embeddings_model_name}_words.txt\\\"\\n            )\\n            with open(model_words_filepath, \\\"r\\\") as words_file:\\n                model_words = np.array(words_file.read().split(\\\"\\\\n\\\"))\\n            word_to_int = {word: i for i, word in enumerate(model_words)}\\n        else:\\n            print(f\\\"Loading {word_embeddings_name} word embeddings...\\\")\\n            w2v_training_output = load_model_training_output(\\n                model_training_output_dir=word_embeddings_path,\\n                model_name=\\\"word2vec\\\",\\n                dataset_name=word_embeddings_model_name,\\n            )\\n            model_words = w2v_training_output[\\\"words\\\"]\\n            word_to_int = w2v_training_output[\\\"word_to_int\\\"]\\n            word_counts = w2v_training_output[\\\"word_counts\\\"]\\n            print(\\\"Done!\\\")\\n        col_sizes_result_dict = {}\\n        values_dict = {}\\n\\n        # Filter SemEval words in vocabulary\\n        semeval_target_words_in_vocab_filter = [\\n            i for i, word in enumerate(semeval_target_words) if word in word_to_int\\n        ]\\n        semeval_gs_clusters_in_vocab = semeval_gs_clusters[\\n            semeval_target_words_in_vocab_filter\\n        ]\\n        col_sizes_result_dict[tps_vs_gs_key] = len(semeval_gs_clusters_in_vocab)\\n\\n        # Find words in vocabulary that have synsets in Wordnet\\n        wordnet_synsets_words_in_vocab_meanings = []\\n        print(\\\"Find words in vocabulary that have synsets in Wordnet...\\\")\\n        for word in tqdm(model_words):\\n            num_synsets_word = len(wn.synsets(word))\\n            if num_synsets_word > 0:\\n                wordnet_synsets_words_in_vocab_meanings.append(num_synsets_word)\\n        col_sizes_result_dict[tps_vs_synsets_key] = len(\\n            wordnet_synsets_words_in_vocab_meanings\\n        )\\n\\n        # Set values dict\\n        values_dict = {\\n            \\\"semeval\\\": semeval_gs_clusters_in_vocab,\\n            \\\"synsets\\\": wordnet_synsets_words_in_vocab_meanings,\\n        }\\n        if not word_embeddings_is_external:\\n            values_dict[\\\"frequencies\\\"] = word_counts[:num_top_k_words_frequencies]\\n\\n        result_dict: dict = {\\n            \\\"n\\\": tps_neighbourhood_sizes,\\n            tps_vs_gs_key: [],\\n            tps_vs_synsets_key: [],\\n        }\\n        if not word_embeddings_is_external:\\n            result_dict[tps_vs_frequency_key] = []\\n\\n        # Fill in dictionary\\n        for n_size in tps_neighbourhood_sizes:\\n\\n            # TPS_n score vs. GS\\n            tps_scores_semeval = np.load(\\n                join(\\n                    topological_polysemy_experimentation_dir,\\n                    word_embeddings_name,\\n                    f\\\"tps_{n_size}_vs_gs.npy\\\",\\n                )\\n            )\\n            values_dict[f\\\"tps_{n_size}_vs_gs\\\"] = tps_scores_semeval\\n            tps_score_vs_gs_correlation, _ = pearsonr(\\n                x=tps_scores_semeval, y=semeval_gs_clusters_in_vocab\\n            )\\n            result_dict[tps_vs_gs_key].append(tps_score_vs_gs_correlation)\\n\\n            # TPS_n score vs. Synsets\\n            tps_scores_wordnet_synsets = np.load(\\n                join(\\n                    topological_polysemy_experimentation_dir,\\n                    word_embeddings_name,\\n                    f\\\"tps_{n_size}_vs_synsets.npy\\\",\\n                )\\n            )\\n            values_dict[f\\\"tps_{n_size}_vs_synsets\\\"] = tps_scores_wordnet_synsets\\n            tps_score_vs_wordnet_synsets_correlation, _ = pearsonr(\\n                x=tps_scores_wordnet_synsets, y=wordnet_synsets_words_in_vocab_meanings\\n            )\\n            result_dict[tps_vs_synsets_key].append(\\n                tps_score_vs_wordnet_synsets_correlation\\n            )\\n\\n            # TPS_n score vs. frequency\\n            if not word_embeddings_is_external:\\n                tps_score_word_frequencies = np.load(\\n                    join(\\n                        topological_polysemy_experimentation_dir,\\n                        word_embeddings_name,\\n                        f\\\"tps_{n_size}_vs_frequency.npy\\\",\\n                    )\\n                )\\n                values_dict[f\\\"tps_{n_size}_vs_frequency\\\"] = tps_score_word_frequencies\\n                tps_score_vs_word_frequency_correlation, _ = pearsonr(\\n                    x=tps_score_word_frequencies,\\n                    y=word_counts[:num_top_k_words_frequencies],\\n                )\\n                result_dict[tps_vs_frequency_key].append(\\n                    tps_score_vs_word_frequency_correlation\\n                )\\n                col_sizes_result_dict[tps_vs_frequency_key] = len(\\n                    tps_score_word_frequencies\\n                )\\n        tps_experiment_table_dicts.append(result_dict)\\n        tps_experiment_table_col_sizes_dicts.append(col_sizes_result_dict)\\n        tps_experiment_table_values.append(values_dict)\\n\\n        # Free resources\\n        del wordnet_synsets_words_in_vocab_meanings\\n        if word_embeddings_is_external:\\n            del model_words\\n            del word_to_int\\n        else:\\n            del w2v_training_output\\n            del model_words\\n            del word_to_int\\n            del word_counts\\n\\n    # Cache result\\n    joblib.dump(\\n        tps_experiment_table_dicts,\\n        join(topological_data_analysis_data_dir, \\\"tps_experiment_table_dicts.joblib\\\"),\\n        protocol=4,\\n    )\\n    joblib.dump(\\n        tps_experiment_table_col_sizes_dicts,\\n        join(\\n            topological_data_analysis_data_dir,\\n            \\\"tps_experiment_table_col_sizes_dicts.joblib\\\",\\n        ),\\n        protocol=4,\\n    )\\n    joblib.dump(\\n        tps_experiment_table_values,\\n        join(topological_data_analysis_data_dir, \\\"tps_experiment_table_values.joblib\\\"),\\n        protocol=4,\\n    )\\nelse:\\n\\n    # Load cached result\\n    tps_experiment_table_dicts = joblib.load(\\n        join(topological_data_analysis_data_dir, \\\"tps_experiment_table_dicts.joblib\\\")\\n    )\\n    tps_experiment_table_col_sizes_dicts = joblib.load(\\n        join(\\n            topological_data_analysis_data_dir,\\n            \\\"tps_experiment_table_col_sizes_dicts.joblib\\\",\\n        )\\n    )\\n    tps_experiment_table_values = joblib.load(\\n        join(topological_data_analysis_data_dir, \\\"tps_experiment_table_values.joblib\\\")\\n    )\";\n",
       "                var nbb_cells = Jupyter.notebook.get_cells();\n",
       "                for (var i = 0; i < nbb_cells.length; ++i) {\n",
       "                    if (nbb_cells[i].input_prompt_number == nbb_cell_id) {\n",
       "                        if (nbb_cells[i].get_text() == nbb_unformatted_code) {\n",
       "                             nbb_cells[i].set_text(nbb_formatted_code);\n",
       "                        }\n",
       "                        break;\n",
       "                    }\n",
       "                }\n",
       "            }, 500);\n",
       "            "
      ],
      "text/plain": [
       "<IPython.core.display.Javascript object>"
      ]
     },
     "metadata": {},
     "output_type": "display_data"
    }
   ],
   "source": [
    "tps_experiment_table_dicts = []\n",
    "tps_experiment_table_col_sizes_dicts = []\n",
    "tps_experiment_table_values = []\n",
    "if should_prepare_tps_experiment_values:\n",
    "    for (\n",
    "        word_embeddings_name,\n",
    "        word_embeddings_model_name,\n",
    "        word_embeddings_path,\n",
    "        word_embeddings_is_external,\n",
    "    ) in zip(\n",
    "        tps_word_embeddings_names,\n",
    "        tps_word_embeddings_model_names,\n",
    "        tps_word_embeddings_paths,\n",
    "        tps_word_embeddings_is_external,\n",
    "    ):\n",
    "        # Load data\n",
    "        if word_embeddings_is_external:\n",
    "            print(f\"Loading {word_embeddings_name} word embeddings words...\")\n",
    "            model_words_filepath = join(\n",
    "                word_embeddings_path, f\"{word_embeddings_model_name}_words.txt\"\n",
    "            )\n",
    "            with open(model_words_filepath, \"r\") as words_file:\n",
    "                model_words = np.array(words_file.read().split(\"\\n\"))\n",
    "            word_to_int = {word: i for i, word in enumerate(model_words)}\n",
    "        else:\n",
    "            print(f\"Loading {word_embeddings_name} word embeddings...\")\n",
    "            w2v_training_output = load_model_training_output(\n",
    "                model_training_output_dir=word_embeddings_path,\n",
    "                model_name=\"word2vec\",\n",
    "                dataset_name=word_embeddings_model_name,\n",
    "            )\n",
    "            model_words = w2v_training_output[\"words\"]\n",
    "            word_to_int = w2v_training_output[\"word_to_int\"]\n",
    "            word_counts = w2v_training_output[\"word_counts\"]\n",
    "            print(\"Done!\")\n",
    "        col_sizes_result_dict = {}\n",
    "        values_dict = {}\n",
    "\n",
    "        # Filter SemEval words in vocabulary\n",
    "        semeval_target_words_in_vocab_filter = [\n",
    "            i for i, word in enumerate(semeval_target_words) if word in word_to_int\n",
    "        ]\n",
    "        semeval_gs_clusters_in_vocab = semeval_gs_clusters[\n",
    "            semeval_target_words_in_vocab_filter\n",
    "        ]\n",
    "        col_sizes_result_dict[tps_vs_gs_key] = len(semeval_gs_clusters_in_vocab)\n",
    "\n",
    "        # Find words in vocabulary that have synsets in Wordnet\n",
    "        wordnet_synsets_words_in_vocab_meanings = []\n",
    "        print(\"Find words in vocabulary that have synsets in Wordnet...\")\n",
    "        for word in tqdm(model_words):\n",
    "            num_synsets_word = len(wn.synsets(word))\n",
    "            if num_synsets_word > 0:\n",
    "                wordnet_synsets_words_in_vocab_meanings.append(num_synsets_word)\n",
    "        col_sizes_result_dict[tps_vs_synsets_key] = len(\n",
    "            wordnet_synsets_words_in_vocab_meanings\n",
    "        )\n",
    "\n",
    "        # Set values dict\n",
    "        values_dict = {\n",
    "            \"semeval\": semeval_gs_clusters_in_vocab,\n",
    "            \"synsets\": wordnet_synsets_words_in_vocab_meanings,\n",
    "        }\n",
    "        if not word_embeddings_is_external:\n",
    "            values_dict[\"frequencies\"] = word_counts[:num_top_k_words_frequencies]\n",
    "\n",
    "        result_dict: dict = {\n",
    "            \"n\": tps_neighbourhood_sizes,\n",
    "            tps_vs_gs_key: [],\n",
    "            tps_vs_synsets_key: [],\n",
    "        }\n",
    "        if not word_embeddings_is_external:\n",
    "            result_dict[tps_vs_frequency_key] = []\n",
    "\n",
    "        # Fill in dictionary\n",
    "        for n_size in tps_neighbourhood_sizes:\n",
    "\n",
    "            # TPS_n score vs. GS\n",
    "            tps_scores_semeval = np.load(\n",
    "                join(\n",
    "                    topological_polysemy_experimentation_dir,\n",
    "                    word_embeddings_name,\n",
    "                    f\"tps_{n_size}_vs_gs.npy\",\n",
    "                )\n",
    "            )\n",
    "            values_dict[f\"tps_{n_size}_vs_gs\"] = tps_scores_semeval\n",
    "            tps_score_vs_gs_correlation, _ = pearsonr(\n",
    "                x=tps_scores_semeval, y=semeval_gs_clusters_in_vocab\n",
    "            )\n",
    "            result_dict[tps_vs_gs_key].append(tps_score_vs_gs_correlation)\n",
    "\n",
    "            # TPS_n score vs. Synsets\n",
    "            tps_scores_wordnet_synsets = np.load(\n",
    "                join(\n",
    "                    topological_polysemy_experimentation_dir,\n",
    "                    word_embeddings_name,\n",
    "                    f\"tps_{n_size}_vs_synsets.npy\",\n",
    "                )\n",
    "            )\n",
    "            values_dict[f\"tps_{n_size}_vs_synsets\"] = tps_scores_wordnet_synsets\n",
    "            tps_score_vs_wordnet_synsets_correlation, _ = pearsonr(\n",
    "                x=tps_scores_wordnet_synsets, y=wordnet_synsets_words_in_vocab_meanings\n",
    "            )\n",
    "            result_dict[tps_vs_synsets_key].append(\n",
    "                tps_score_vs_wordnet_synsets_correlation\n",
    "            )\n",
    "\n",
    "            # TPS_n score vs. frequency\n",
    "            if not word_embeddings_is_external:\n",
    "                tps_score_word_frequencies = np.load(\n",
    "                    join(\n",
    "                        topological_polysemy_experimentation_dir,\n",
    "                        word_embeddings_name,\n",
    "                        f\"tps_{n_size}_vs_frequency.npy\",\n",
    "                    )\n",
    "                )\n",
    "                values_dict[f\"tps_{n_size}_vs_frequency\"] = tps_score_word_frequencies\n",
    "                tps_score_vs_word_frequency_correlation, _ = pearsonr(\n",
    "                    x=tps_score_word_frequencies,\n",
    "                    y=word_counts[:num_top_k_words_frequencies],\n",
    "                )\n",
    "                result_dict[tps_vs_frequency_key].append(\n",
    "                    tps_score_vs_word_frequency_correlation\n",
    "                )\n",
    "                col_sizes_result_dict[tps_vs_frequency_key] = len(\n",
    "                    tps_score_word_frequencies\n",
    "                )\n",
    "        tps_experiment_table_dicts.append(result_dict)\n",
    "        tps_experiment_table_col_sizes_dicts.append(col_sizes_result_dict)\n",
    "        tps_experiment_table_values.append(values_dict)\n",
    "\n",
    "        # Free resources\n",
    "        del wordnet_synsets_words_in_vocab_meanings\n",
    "        if word_embeddings_is_external:\n",
    "            del model_words\n",
    "            del word_to_int\n",
    "        else:\n",
    "            del w2v_training_output\n",
    "            del model_words\n",
    "            del word_to_int\n",
    "            del word_counts\n",
    "\n",
    "    # Cache result\n",
    "    joblib.dump(\n",
    "        tps_experiment_table_dicts,\n",
    "        join(topological_data_analysis_data_dir, \"tps_experiment_table_dicts.joblib\"),\n",
    "        protocol=4,\n",
    "    )\n",
    "    joblib.dump(\n",
    "        tps_experiment_table_col_sizes_dicts,\n",
    "        join(\n",
    "            topological_data_analysis_data_dir,\n",
    "            \"tps_experiment_table_col_sizes_dicts.joblib\",\n",
    "        ),\n",
    "        protocol=4,\n",
    "    )\n",
    "    joblib.dump(\n",
    "        tps_experiment_table_values,\n",
    "        join(topological_data_analysis_data_dir, \"tps_experiment_table_values.joblib\"),\n",
    "        protocol=4,\n",
    "    )\n",
    "else:\n",
    "\n",
    "    # Load cached result\n",
    "    tps_experiment_table_dicts = joblib.load(\n",
    "        join(topological_data_analysis_data_dir, \"tps_experiment_table_dicts.joblib\")\n",
    "    )\n",
    "    tps_experiment_table_col_sizes_dicts = joblib.load(\n",
    "        join(\n",
    "            topological_data_analysis_data_dir,\n",
    "            \"tps_experiment_table_col_sizes_dicts.joblib\",\n",
    "        )\n",
    "    )\n",
    "    tps_experiment_table_values = joblib.load(\n",
    "        join(topological_data_analysis_data_dir, \"tps_experiment_table_values.joblib\")\n",
    "    )"
   ]
  },
  {
   "cell_type": "markdown",
   "metadata": {},
   "source": [
    "## Visualize tables"
   ]
  },
  {
   "cell_type": "code",
   "execution_count": 6,
   "metadata": {
    "scrolled": true
   },
   "outputs": [
    {
     "name": "stdout",
     "output_type": "stream",
     "text": [
      "-- enwiki --\n"
     ]
    },
    {
     "data": {
      "text/html": [
       "<table border=\"1\" class=\"dataframe\">\n",
       "  <thead>\n",
       "    <tr style=\"text-align: right;\">\n",
       "      <th></th>\n",
       "      <th>TPS_n vs. GS</th>\n",
       "      <th>TPS_n vs. synsets</th>\n",
       "      <th>TPS_n vs. frequency</th>\n",
       "    </tr>\n",
       "    <tr>\n",
       "      <th>n</th>\n",
       "      <th></th>\n",
       "      <th></th>\n",
       "      <th></th>\n",
       "    </tr>\n",
       "  </thead>\n",
       "  <tbody>\n",
       "    <tr>\n",
       "      <th>10</th>\n",
       "      <td>-0.353</td>\n",
       "      <td>-0.077</td>\n",
       "      <td>-0.043</td>\n",
       "    </tr>\n",
       "    <tr>\n",
       "      <th>40</th>\n",
       "      <td>-0.383</td>\n",
       "      <td>-0.181</td>\n",
       "      <td>-0.041</td>\n",
       "    </tr>\n",
       "    <tr>\n",
       "      <th>50</th>\n",
       "      <td>-0.380</td>\n",
       "      <td>-0.190</td>\n",
       "      <td>-0.041</td>\n",
       "    </tr>\n",
       "    <tr>\n",
       "      <th>60</th>\n",
       "      <td>-0.381</td>\n",
       "      <td>-0.196</td>\n",
       "      <td>-0.040</td>\n",
       "    </tr>\n",
       "    <tr>\n",
       "      <th>100</th>\n",
       "      <td>-0.380</td>\n",
       "      <td>-0.205</td>\n",
       "      <td>-0.033</td>\n",
       "    </tr>\n",
       "  </tbody>\n",
       "</table>"
      ],
      "text/plain": [
       "<IPython.core.display.HTML object>"
      ]
     },
     "metadata": {},
     "output_type": "display_data"
    },
    {
     "name": "stdout",
     "output_type": "stream",
     "text": [
      "{'TPS_n vs. GS': 98, 'TPS_n vs. synsets': 144412, 'TPS_n vs. frequency': 10000}\n",
      "-- semeval_2010_task_14 --\n"
     ]
    },
    {
     "data": {
      "text/html": [
       "<table border=\"1\" class=\"dataframe\">\n",
       "  <thead>\n",
       "    <tr style=\"text-align: right;\">\n",
       "      <th></th>\n",
       "      <th>TPS_n vs. GS</th>\n",
       "      <th>TPS_n vs. synsets</th>\n",
       "      <th>TPS_n vs. frequency</th>\n",
       "    </tr>\n",
       "    <tr>\n",
       "      <th>n</th>\n",
       "      <th></th>\n",
       "      <th></th>\n",
       "      <th></th>\n",
       "    </tr>\n",
       "  </thead>\n",
       "  <tbody>\n",
       "    <tr>\n",
       "      <th>10</th>\n",
       "      <td>-0.300</td>\n",
       "      <td>-0.248</td>\n",
       "      <td>0.102</td>\n",
       "    </tr>\n",
       "    <tr>\n",
       "      <th>40</th>\n",
       "      <td>-0.201</td>\n",
       "      <td>-0.300</td>\n",
       "      <td>0.120</td>\n",
       "    </tr>\n",
       "    <tr>\n",
       "      <th>50</th>\n",
       "      <td>-0.194</td>\n",
       "      <td>-0.304</td>\n",
       "      <td>0.116</td>\n",
       "    </tr>\n",
       "    <tr>\n",
       "      <th>60</th>\n",
       "      <td>-0.169</td>\n",
       "      <td>-0.306</td>\n",
       "      <td>0.110</td>\n",
       "    </tr>\n",
       "    <tr>\n",
       "      <th>100</th>\n",
       "      <td>-0.130</td>\n",
       "      <td>-0.310</td>\n",
       "      <td>0.098</td>\n",
       "    </tr>\n",
       "  </tbody>\n",
       "</table>"
      ],
      "text/plain": [
       "<IPython.core.display.HTML object>"
      ]
     },
     "metadata": {},
     "output_type": "display_data"
    },
    {
     "name": "stdout",
     "output_type": "stream",
     "text": [
      "{'TPS_n vs. GS': 100, 'TPS_n vs. synsets': 62111, 'TPS_n vs. frequency': 10000}\n",
      "-- fasttext_cc_300d --\n"
     ]
    },
    {
     "data": {
      "text/html": [
       "<table border=\"1\" class=\"dataframe\">\n",
       "  <thead>\n",
       "    <tr style=\"text-align: right;\">\n",
       "      <th></th>\n",
       "      <th>TPS_n vs. GS</th>\n",
       "      <th>TPS_n vs. synsets</th>\n",
       "    </tr>\n",
       "    <tr>\n",
       "      <th>n</th>\n",
       "      <th></th>\n",
       "      <th></th>\n",
       "    </tr>\n",
       "  </thead>\n",
       "  <tbody>\n",
       "    <tr>\n",
       "      <th>10</th>\n",
       "      <td>-0.240</td>\n",
       "      <td>0.114</td>\n",
       "    </tr>\n",
       "    <tr>\n",
       "      <th>40</th>\n",
       "      <td>-0.289</td>\n",
       "      <td>0.110</td>\n",
       "    </tr>\n",
       "    <tr>\n",
       "      <th>50</th>\n",
       "      <td>-0.199</td>\n",
       "      <td>0.108</td>\n",
       "    </tr>\n",
       "    <tr>\n",
       "      <th>60</th>\n",
       "      <td>-0.150</td>\n",
       "      <td>0.105</td>\n",
       "    </tr>\n",
       "    <tr>\n",
       "      <th>100</th>\n",
       "      <td>-0.105</td>\n",
       "      <td>0.099</td>\n",
       "    </tr>\n",
       "  </tbody>\n",
       "</table>"
      ],
      "text/plain": [
       "<IPython.core.display.HTML object>"
      ]
     },
     "metadata": {},
     "output_type": "display_data"
    },
    {
     "name": "stdout",
     "output_type": "stream",
     "text": [
      "{'TPS_n vs. GS': 100, 'TPS_n vs. synsets': 230175}\n",
      "-- glove_cc_840b_300d --\n"
     ]
    },
    {
     "data": {
      "text/html": [
       "<table border=\"1\" class=\"dataframe\">\n",
       "  <thead>\n",
       "    <tr style=\"text-align: right;\">\n",
       "      <th></th>\n",
       "      <th>TPS_n vs. GS</th>\n",
       "      <th>TPS_n vs. synsets</th>\n",
       "    </tr>\n",
       "    <tr>\n",
       "      <th>n</th>\n",
       "      <th></th>\n",
       "      <th></th>\n",
       "    </tr>\n",
       "  </thead>\n",
       "  <tbody>\n",
       "    <tr>\n",
       "      <th>10</th>\n",
       "      <td>-0.103</td>\n",
       "      <td>0.008</td>\n",
       "    </tr>\n",
       "    <tr>\n",
       "      <th>40</th>\n",
       "      <td>-0.125</td>\n",
       "      <td>-0.039</td>\n",
       "    </tr>\n",
       "    <tr>\n",
       "      <th>50</th>\n",
       "      <td>-0.053</td>\n",
       "      <td>-0.044</td>\n",
       "    </tr>\n",
       "    <tr>\n",
       "      <th>60</th>\n",
       "      <td>-0.023</td>\n",
       "      <td>-0.048</td>\n",
       "    </tr>\n",
       "    <tr>\n",
       "      <th>100</th>\n",
       "      <td>-0.053</td>\n",
       "      <td>-0.058</td>\n",
       "    </tr>\n",
       "  </tbody>\n",
       "</table>"
      ],
      "text/plain": [
       "<IPython.core.display.HTML object>"
      ]
     },
     "metadata": {},
     "output_type": "display_data"
    },
    {
     "name": "stdout",
     "output_type": "stream",
     "text": [
      "{'TPS_n vs. GS': 100, 'TPS_n vs. synsets': 249352}\n",
      "-- google_news_3m --\n"
     ]
    },
    {
     "data": {
      "text/html": [
       "<table border=\"1\" class=\"dataframe\">\n",
       "  <thead>\n",
       "    <tr style=\"text-align: right;\">\n",
       "      <th></th>\n",
       "      <th>TPS_n vs. GS</th>\n",
       "      <th>TPS_n vs. synsets</th>\n",
       "    </tr>\n",
       "    <tr>\n",
       "      <th>n</th>\n",
       "      <th></th>\n",
       "      <th></th>\n",
       "    </tr>\n",
       "  </thead>\n",
       "  <tbody>\n",
       "    <tr>\n",
       "      <th>10</th>\n",
       "      <td>-0.446</td>\n",
       "      <td>-0.095</td>\n",
       "    </tr>\n",
       "    <tr>\n",
       "      <th>40</th>\n",
       "      <td>-0.446</td>\n",
       "      <td>-0.166</td>\n",
       "    </tr>\n",
       "    <tr>\n",
       "      <th>50</th>\n",
       "      <td>-0.436</td>\n",
       "      <td>-0.174</td>\n",
       "    </tr>\n",
       "    <tr>\n",
       "      <th>60</th>\n",
       "      <td>-0.428</td>\n",
       "      <td>-0.180</td>\n",
       "    </tr>\n",
       "    <tr>\n",
       "      <th>100</th>\n",
       "      <td>-0.417</td>\n",
       "      <td>-0.193</td>\n",
       "    </tr>\n",
       "  </tbody>\n",
       "</table>"
      ],
      "text/plain": [
       "<IPython.core.display.HTML object>"
      ]
     },
     "metadata": {},
     "output_type": "display_data"
    },
    {
     "name": "stdout",
     "output_type": "stream",
     "text": [
      "{'TPS_n vs. GS': 100, 'TPS_n vs. synsets': 207119}\n"
     ]
    },
    {
     "data": {
      "application/javascript": [
       "\n",
       "            setTimeout(function() {\n",
       "                var nbb_cell_id = 6;\n",
       "                var nbb_unformatted_code = \"pd.set_option(\\\"display.precision\\\", 3)\\nfor name, table_dict, col_sizes_dict in zip(\\n    tps_word_embeddings_names,\\n    tps_experiment_table_dicts,\\n    tps_experiment_table_col_sizes_dicts,\\n):\\n    print(f\\\"-- {name} --\\\")\\n    table_df = pd.DataFrame(table_dict)\\n    table_df.set_index(\\\"n\\\", inplace=True)\\n    display(HTML(table_df.to_html()))\\n    print(col_sizes_dict)\";\n",
       "                var nbb_formatted_code = \"pd.set_option(\\\"display.precision\\\", 3)\\nfor name, table_dict, col_sizes_dict in zip(\\n    tps_word_embeddings_names,\\n    tps_experiment_table_dicts,\\n    tps_experiment_table_col_sizes_dicts,\\n):\\n    print(f\\\"-- {name} --\\\")\\n    table_df = pd.DataFrame(table_dict)\\n    table_df.set_index(\\\"n\\\", inplace=True)\\n    display(HTML(table_df.to_html()))\\n    print(col_sizes_dict)\";\n",
       "                var nbb_cells = Jupyter.notebook.get_cells();\n",
       "                for (var i = 0; i < nbb_cells.length; ++i) {\n",
       "                    if (nbb_cells[i].input_prompt_number == nbb_cell_id) {\n",
       "                        if (nbb_cells[i].get_text() == nbb_unformatted_code) {\n",
       "                             nbb_cells[i].set_text(nbb_formatted_code);\n",
       "                        }\n",
       "                        break;\n",
       "                    }\n",
       "                }\n",
       "            }, 500);\n",
       "            "
      ],
      "text/plain": [
       "<IPython.core.display.Javascript object>"
      ]
     },
     "metadata": {},
     "output_type": "display_data"
    }
   ],
   "source": [
    "pd.set_option(\"display.precision\", 3)\n",
    "for name, table_dict, col_sizes_dict in zip(\n",
    "    tps_word_embeddings_names,\n",
    "    tps_experiment_table_dicts,\n",
    "    tps_experiment_table_col_sizes_dicts,\n",
    "):\n",
    "    print(f\"-- {name} --\")\n",
    "    table_df = pd.DataFrame(table_dict)\n",
    "    table_df.set_index(\"n\", inplace=True)\n",
    "    display(HTML(table_df.to_html()))\n",
    "    print(col_sizes_dict)"
   ]
  },
  {
   "cell_type": "markdown",
   "metadata": {},
   "source": [
    "## Create plots for thesis"
   ]
  },
  {
   "cell_type": "code",
   "execution_count": 48,
   "metadata": {},
   "outputs": [
    {
     "data": {
      "application/javascript": [
       "\n",
       "            setTimeout(function() {\n",
       "                var nbb_cell_id = 48;\n",
       "                var nbb_unformatted_code = \"# Prepare data\\nselected_n_for_plots = {\\n    \\\"enwiki\\\": {\\n        \\\"semeval\\\": 40,\\n        \\\"synsets\\\": 100,\\n        \\\"frequencies\\\": 10,\\n    },\\n    \\\"semeval_2010_task_14\\\": {\\n        \\\"semeval\\\": 10,\\n        \\\"synsets\\\": 100,\\n        \\\"frequencies\\\": 40,\\n    },\\n}\";\n",
       "                var nbb_formatted_code = \"# Prepare data\\nselected_n_for_plots = {\\n    \\\"enwiki\\\": {\\n        \\\"semeval\\\": 40,\\n        \\\"synsets\\\": 100,\\n        \\\"frequencies\\\": 10,\\n    },\\n    \\\"semeval_2010_task_14\\\": {\\n        \\\"semeval\\\": 10,\\n        \\\"synsets\\\": 100,\\n        \\\"frequencies\\\": 40,\\n    },\\n}\";\n",
       "                var nbb_cells = Jupyter.notebook.get_cells();\n",
       "                for (var i = 0; i < nbb_cells.length; ++i) {\n",
       "                    if (nbb_cells[i].input_prompt_number == nbb_cell_id) {\n",
       "                        if (nbb_cells[i].get_text() == nbb_unformatted_code) {\n",
       "                             nbb_cells[i].set_text(nbb_formatted_code);\n",
       "                        }\n",
       "                        break;\n",
       "                    }\n",
       "                }\n",
       "            }, 500);\n",
       "            "
      ],
      "text/plain": [
       "<IPython.core.display.Javascript object>"
      ]
     },
     "metadata": {},
     "output_type": "display_data"
    }
   ],
   "source": [
    "# Prepare data\n",
    "selected_n_for_plots = {\n",
    "    \"enwiki\": {\n",
    "        \"semeval\": 40,\n",
    "        \"synsets\": 100,\n",
    "        \"frequencies\": 10,\n",
    "    },\n",
    "    \"semeval_2010_task_14\": {\n",
    "        \"semeval\": 10,\n",
    "        \"synsets\": 100,\n",
    "        \"frequencies\": 40,\n",
    "    },\n",
    "}"
   ]
  },
  {
   "cell_type": "code",
   "execution_count": 67,
   "metadata": {},
   "outputs": [
    {
     "name": "stdout",
     "output_type": "stream",
     "text": [
      "-- enwiki --\n",
      "100\n",
      "-- semeval_2010_task_14 --\n",
      "100\n"
     ]
    },
    {
     "data": {
      "image/png": "[encoded data removed]",
      "text/plain": [
       "<Figure size 1080x360 with 3 Axes>"
      ]
     },
     "metadata": {},
     "output_type": "display_data"
    },
    {
     "data": {
      "image/png": "[encoded data removed]",
      "text/plain": [
       "<Figure size 1080x360 with 3 Axes>"
      ]
     },
     "metadata": {},
     "output_type": "display_data"
    },
    {
     "data": {
      "application/javascript": [
       "\n",
       "            setTimeout(function() {\n",
       "                var nbb_cell_id = 67;\n",
       "                var nbb_unformatted_code = \"for (word_embeddings_name, selected_ns), tps_experiment_table_value in zip(\\n    selected_n_for_plots.items(), tps_experiment_table_values\\n):\\n    print(f\\\"-- {word_embeddings_name} --\\\")\\n\\n    # Parse selected neighbourhood values\\n    semeval_ns = selected_ns[\\\"semeval\\\"]\\n    synsets_ns = selected_ns[\\\"synsets\\\"]\\n    print(synsets_ns)\\n    frequencies_ns = selected_ns[\\\"frequencies\\\"]\\n\\n    # Create plots\\n    _, (ax1, ax2, ax3) = plt.subplots(ncols=3, figsize=(5 * 3, 5))\\n\\n    tps_score_vs_gs_correlation, _ = pearsonr(\\n        x=tps_experiment_table_value[f\\\"tps_{semeval_ns}_vs_gs\\\"],\\n        y=tps_experiment_table_value[\\\"semeval\\\"],\\n    )\\n    ax1.scatter(\\n        x=tps_experiment_table_value[f\\\"tps_{semeval_ns}_vs_gs\\\"],\\n        y=tps_experiment_table_value[\\\"semeval\\\"],\\n        s=15,\\n    )\\n    ax1.set_xlabel(\\\"TPS\\\" + r\\\"$_{\\\" + str(semeval_ns) + \\\"}$\\\")\\n    ax1.set_ylabel(\\\"SemEval gold standard\\\")\\n    ax1.set_title(f\\\"(a) Correlation: {tps_score_vs_gs_correlation:.3f}\\\")\\n\\n    tps_score_vs_synsets_correlation, _ = pearsonr(\\n        x=tps_experiment_table_value[f\\\"tps_{semeval_ns}_vs_synsets\\\"],\\n        y=tps_experiment_table_value[\\\"synsets\\\"],\\n    )\\n    ax2_handle = ax2.scatter(\\n        x=tps_experiment_table_value[f\\\"tps_{synsets_ns}_vs_synsets\\\"],\\n        y=tps_experiment_table_value[\\\"synsets\\\"],\\n        s=15,\\n    )\\n    ax2_handle.set_rasterized(True)\\n    ax2.set_xlabel(\\\"TPS\\\" + r\\\"$_{\\\" + str(synsets_ns) + \\\"}$\\\")\\n    ax2.set_ylabel(\\\"Synsets in WordNet\\\")\\n    ax2.set_title(f\\\"(b) Correlation: {tps_score_vs_synsets_correlation:.3f}\\\")\\n\\n    tps_score_vs_frequencies_correlation, _ = pearsonr(\\n        x=tps_experiment_table_value[f\\\"tps_{semeval_ns}_vs_frequency\\\"],\\n        y=tps_experiment_table_value[\\\"frequencies\\\"],\\n    )\\n    ax3_handle = ax3.scatter(\\n        x=tps_experiment_table_value[f\\\"tps_{frequencies_ns}_vs_frequency\\\"],\\n        y=tps_experiment_table_value[\\\"frequencies\\\"],\\n        s=15,\\n    )\\n    ax3_handle.set_rasterized(True)\\n    ax3.set_xlabel(\\\"TPS\\\" + r\\\"$_{\\\" + str(frequencies_ns) + \\\"}$\\\")\\n    ax3.set_ylabel(\\\"Word frequency\\\")\\n    ax3.set_title(f\\\"(c) Correlation: {tps_score_vs_frequencies_correlation:.3f}\\\")\\n\\n    # Plot/save\\n    save_to_pgf = True\\n    plt.tight_layout()\\n    if save_to_pgf:\\n        plt.savefig(\\n            join(\\n                output_plots_dir,\\n                f\\\"tps-n-correlation-sgns-{word_embeddings_name}.pdf\\\",\\n            ),\\n            backend=\\\"pgf\\\",\\n        )\\n    else:\\n        plt.show()\";\n",
       "                var nbb_formatted_code = \"for (word_embeddings_name, selected_ns), tps_experiment_table_value in zip(\\n    selected_n_for_plots.items(), tps_experiment_table_values\\n):\\n    print(f\\\"-- {word_embeddings_name} --\\\")\\n\\n    # Parse selected neighbourhood values\\n    semeval_ns = selected_ns[\\\"semeval\\\"]\\n    synsets_ns = selected_ns[\\\"synsets\\\"]\\n    print(synsets_ns)\\n    frequencies_ns = selected_ns[\\\"frequencies\\\"]\\n\\n    # Create plots\\n    _, (ax1, ax2, ax3) = plt.subplots(ncols=3, figsize=(5 * 3, 5))\\n\\n    tps_score_vs_gs_correlation, _ = pearsonr(\\n        x=tps_experiment_table_value[f\\\"tps_{semeval_ns}_vs_gs\\\"],\\n        y=tps_experiment_table_value[\\\"semeval\\\"],\\n    )\\n    ax1.scatter(\\n        x=tps_experiment_table_value[f\\\"tps_{semeval_ns}_vs_gs\\\"],\\n        y=tps_experiment_table_value[\\\"semeval\\\"],\\n        s=15,\\n    )\\n    ax1.set_xlabel(\\\"TPS\\\" + r\\\"$_{\\\" + str(semeval_ns) + \\\"}$\\\")\\n    ax1.set_ylabel(\\\"SemEval gold standard\\\")\\n    ax1.set_title(f\\\"(a) Correlation: {tps_score_vs_gs_correlation:.3f}\\\")\\n\\n    tps_score_vs_synsets_correlation, _ = pearsonr(\\n        x=tps_experiment_table_value[f\\\"tps_{semeval_ns}_vs_synsets\\\"],\\n        y=tps_experiment_table_value[\\\"synsets\\\"],\\n    )\\n    ax2_handle = ax2.scatter(\\n        x=tps_experiment_table_value[f\\\"tps_{synsets_ns}_vs_synsets\\\"],\\n        y=tps_experiment_table_value[\\\"synsets\\\"],\\n        s=15,\\n    )\\n    ax2_handle.set_rasterized(True)\\n    ax2.set_xlabel(\\\"TPS\\\" + r\\\"$_{\\\" + str(synsets_ns) + \\\"}$\\\")\\n    ax2.set_ylabel(\\\"Synsets in WordNet\\\")\\n    ax2.set_title(f\\\"(b) Correlation: {tps_score_vs_synsets_correlation:.3f}\\\")\\n\\n    tps_score_vs_frequencies_correlation, _ = pearsonr(\\n        x=tps_experiment_table_value[f\\\"tps_{semeval_ns}_vs_frequency\\\"],\\n        y=tps_experiment_table_value[\\\"frequencies\\\"],\\n    )\\n    ax3_handle = ax3.scatter(\\n        x=tps_experiment_table_value[f\\\"tps_{frequencies_ns}_vs_frequency\\\"],\\n        y=tps_experiment_table_value[\\\"frequencies\\\"],\\n        s=15,\\n    )\\n    ax3_handle.set_rasterized(True)\\n    ax3.set_xlabel(\\\"TPS\\\" + r\\\"$_{\\\" + str(frequencies_ns) + \\\"}$\\\")\\n    ax3.set_ylabel(\\\"Word frequency\\\")\\n    ax3.set_title(f\\\"(c) Correlation: {tps_score_vs_frequencies_correlation:.3f}\\\")\\n\\n    # Plot/save\\n    save_to_pgf = True\\n    plt.tight_layout()\\n    if save_to_pgf:\\n        plt.savefig(\\n            join(\\n                output_plots_dir,\\n                f\\\"tps-n-correlation-sgns-{word_embeddings_name}.pdf\\\",\\n            ),\\n            backend=\\\"pgf\\\",\\n        )\\n    else:\\n        plt.show()\";\n",
       "                var nbb_cells = Jupyter.notebook.get_cells();\n",
       "                for (var i = 0; i < nbb_cells.length; ++i) {\n",
       "                    if (nbb_cells[i].input_prompt_number == nbb_cell_id) {\n",
       "                        if (nbb_cells[i].get_text() == nbb_unformatted_code) {\n",
       "                             nbb_cells[i].set_text(nbb_formatted_code);\n",
       "                        }\n",
       "                        break;\n",
       "                    }\n",
       "                }\n",
       "            }, 500);\n",
       "            "
      ],
      "text/plain": [
       "<IPython.core.display.Javascript object>"
      ]
     },
     "metadata": {},
     "output_type": "display_data"
    }
   ],
   "source": [
    "for (word_embeddings_name, selected_ns), tps_experiment_table_value in zip(\n",
    "    selected_n_for_plots.items(), tps_experiment_table_values\n",
    "):\n",
    "    print(f\"-- {word_embeddings_name} --\")\n",
    "\n",
    "    # Parse selected neighbourhood values\n",
    "    semeval_ns = selected_ns[\"semeval\"]\n",
    "    synsets_ns = selected_ns[\"synsets\"]\n",
    "    frequencies_ns = selected_ns[\"frequencies\"]\n",
    "\n",
    "    # Create plots\n",
    "    _, (ax1, ax2, ax3) = plt.subplots(ncols=3, figsize=(5 * 3, 5))\n",
    "\n",
    "    tps_score_vs_gs_correlation, _ = pearsonr(\n",
    "        x=tps_experiment_table_value[f\"tps_{semeval_ns}_vs_gs\"],\n",
    "        y=tps_experiment_table_value[\"semeval\"],\n",
    "    )\n",
    "    ax1.scatter(\n",
    "        x=tps_experiment_table_value[f\"tps_{semeval_ns}_vs_gs\"],\n",
    "        y=tps_experiment_table_value[\"semeval\"],\n",
    "        s=15,\n",
    "    )\n",
    "    ax1.set_xlabel(\"TPS\" + r\"$_{\" + str(semeval_ns) + \"}$\")\n",
    "    ax1.set_ylabel(\"SemEval gold standard\")\n",
    "    ax1.set_title(f\"(a) Correlation: {tps_score_vs_gs_correlation:.3f}\")\n",
    "\n",
    "    tps_score_vs_synsets_correlation, _ = pearsonr(\n",
    "        x=tps_experiment_table_value[f\"tps_{semeval_ns}_vs_synsets\"],\n",
    "        y=tps_experiment_table_value[\"synsets\"],\n",
    "    )\n",
    "    ax2_handle = ax2.scatter(\n",
    "        x=tps_experiment_table_value[f\"tps_{synsets_ns}_vs_synsets\"],\n",
    "        y=tps_experiment_table_value[\"synsets\"],\n",
    "        s=15,\n",
    "    )\n",
    "    ax2_handle.set_rasterized(True)\n",
    "    ax2.set_xlabel(\"TPS\" + r\"$_{\" + str(synsets_ns) + \"}$\")\n",
    "    ax2.set_ylabel(\"Synsets in WordNet\")\n",
    "    ax2.set_title(f\"(b) Correlation: {tps_score_vs_synsets_correlation:.3f}\")\n",
    "\n",
    "    tps_score_vs_frequencies_correlation, _ = pearsonr(\n",
    "        x=tps_experiment_table_value[f\"tps_{semeval_ns}_vs_frequency\"],\n",
    "        y=tps_experiment_table_value[\"frequencies\"],\n",
    "    )\n",
    "    ax3_handle = ax3.scatter(\n",
    "        x=tps_experiment_table_value[f\"tps_{frequencies_ns}_vs_frequency\"],\n",
    "        y=tps_experiment_table_value[\"frequencies\"],\n",
    "        s=15,\n",
    "    )\n",
    "    ax3_handle.set_rasterized(True)\n",
    "    ax3.set_xlabel(\"TPS\" + r\"$_{\" + str(frequencies_ns) + \"}$\")\n",
    "    ax3.set_ylabel(\"Word frequency\")\n",
    "    ax3.set_title(f\"(c) Correlation: {tps_score_vs_frequencies_correlation:.3f}\")\n",
    "\n",
    "    # Plot/save\n",
    "    save_to_pgf = True\n",
    "    plt.tight_layout()\n",
    "    if save_to_pgf:\n",
    "        plt.savefig(\n",
    "            join(\n",
    "                output_plots_dir,\n",
    "                f\"tps-n-correlation-sgns-{word_embeddings_name}.pdf\",\n",
    "            ),\n",
    "            backend=\"pgf\",\n",
    "        )\n",
    "    else:\n",
    "        plt.show()"
   ]
  }
 ],
 "metadata": {
  "kernelspec": {
   "display_name": "Python 3",
   "language": "python",
   "name": "python3"
  },
  "language_info": {
   "codemirror_mode": {
    "name": "ipython",
    "version": 3
   },
   "file_extension": ".py",
   "mimetype": "text/x-python",
   "name": "python",
   "nbconvert_exporter": "python",
   "pygments_lexer": "ipython3",
   "version": "3.6.9"
  }
 },
 "nbformat": 4,
 "nbformat_minor": 4
}
